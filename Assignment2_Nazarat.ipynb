{
 "cells": [
  {
   "cell_type": "markdown",
   "metadata": {},
   "source": [
    "# Assignment 2 - Survival Analysis"
   ]
  },
  {
   "cell_type": "markdown",
   "metadata": {},
   "source": [
    "# S M Nazarat Hossain"
   ]
  },
  {
   "cell_type": "code",
   "execution_count": null,
   "metadata": {},
   "outputs": [],
   "source": []
  },
  {
   "cell_type": "markdown",
   "metadata": {},
   "source": [
    "# Library"
   ]
  },
  {
   "cell_type": "code",
   "execution_count": 1,
   "metadata": {},
   "outputs": [],
   "source": [
    "import numpy as np\n",
    "import pandas as pd\n",
    "import matplotlib.pyplot as plt\n",
    "\n",
    "#import statsmodels.api as sm\n",
    "#import seaborn as sb"
   ]
  },
  {
   "cell_type": "code",
   "execution_count": 2,
   "metadata": {},
   "outputs": [],
   "source": [
    "from lifelines.plotting import plot_lifetimes\n",
    "from lifelines import KaplanMeierFitter"
   ]
  },
  {
   "cell_type": "markdown",
   "metadata": {},
   "source": [
    "# Loading Data"
   ]
  },
  {
   "cell_type": "code",
   "execution_count": 3,
   "metadata": {},
   "outputs": [],
   "source": [
    "df = pd.read_excel('Cancer patient data.xlsx')"
   ]
  },
  {
   "cell_type": "code",
   "execution_count": 4,
   "metadata": {},
   "outputs": [
    {
     "data": {
      "text/html": [
       "<div>\n",
       "<style scoped>\n",
       "    .dataframe tbody tr th:only-of-type {\n",
       "        vertical-align: middle;\n",
       "    }\n",
       "\n",
       "    .dataframe tbody tr th {\n",
       "        vertical-align: top;\n",
       "    }\n",
       "\n",
       "    .dataframe thead th {\n",
       "        text-align: right;\n",
       "    }\n",
       "</style>\n",
       "<table border=\"1\" class=\"dataframe\">\n",
       "  <thead>\n",
       "    <tr style=\"text-align: right;\">\n",
       "      <th></th>\n",
       "      <th>BIRTH_DATE_off</th>\n",
       "      <th>DEATH_DATE_off</th>\n",
       "      <th>sex</th>\n",
       "      <th>race</th>\n",
       "      <th>LUNG</th>\n",
       "      <th>PANCREAS</th>\n",
       "      <th>THYROID</th>\n",
       "      <th>COLORECTAL</th>\n",
       "      <th>MELANOMA</th>\n",
       "      <th>LUNG DT</th>\n",
       "      <th>PANCREAS_DT</th>\n",
       "      <th>THYROID_DT</th>\n",
       "      <th>COLORECTAL_DT</th>\n",
       "      <th>MELANOMA_DT</th>\n",
       "    </tr>\n",
       "  </thead>\n",
       "  <tbody>\n",
       "    <tr>\n",
       "      <th>0</th>\n",
       "      <td>1959-12-02</td>\n",
       "      <td>NaT</td>\n",
       "      <td>Male</td>\n",
       "      <td>Black/African-American</td>\n",
       "      <td>1</td>\n",
       "      <td>0</td>\n",
       "      <td>0</td>\n",
       "      <td>0</td>\n",
       "      <td>0</td>\n",
       "      <td>2013-09-01</td>\n",
       "      <td>NaT</td>\n",
       "      <td>NaT</td>\n",
       "      <td>NaT</td>\n",
       "      <td>NaT</td>\n",
       "    </tr>\n",
       "    <tr>\n",
       "      <th>1</th>\n",
       "      <td>1955-11-18</td>\n",
       "      <td>2016-04-20</td>\n",
       "      <td>Male</td>\n",
       "      <td>Black/African-American</td>\n",
       "      <td>1</td>\n",
       "      <td>0</td>\n",
       "      <td>0</td>\n",
       "      <td>0</td>\n",
       "      <td>0</td>\n",
       "      <td>2016-04-02</td>\n",
       "      <td>NaT</td>\n",
       "      <td>NaT</td>\n",
       "      <td>NaT</td>\n",
       "      <td>NaT</td>\n",
       "    </tr>\n",
       "    <tr>\n",
       "      <th>2</th>\n",
       "      <td>1946-01-14</td>\n",
       "      <td>2015-05-25</td>\n",
       "      <td>Female</td>\n",
       "      <td>Black/African-American</td>\n",
       "      <td>1</td>\n",
       "      <td>0</td>\n",
       "      <td>0</td>\n",
       "      <td>0</td>\n",
       "      <td>0</td>\n",
       "      <td>2015-04-11</td>\n",
       "      <td>NaT</td>\n",
       "      <td>NaT</td>\n",
       "      <td>NaT</td>\n",
       "      <td>NaT</td>\n",
       "    </tr>\n",
       "    <tr>\n",
       "      <th>3</th>\n",
       "      <td>1932-07-28</td>\n",
       "      <td>NaT</td>\n",
       "      <td>Female</td>\n",
       "      <td>Black/African-American</td>\n",
       "      <td>0</td>\n",
       "      <td>0</td>\n",
       "      <td>0</td>\n",
       "      <td>0</td>\n",
       "      <td>0</td>\n",
       "      <td>NaT</td>\n",
       "      <td>NaT</td>\n",
       "      <td>NaT</td>\n",
       "      <td>NaT</td>\n",
       "      <td>NaT</td>\n",
       "    </tr>\n",
       "    <tr>\n",
       "      <th>4</th>\n",
       "      <td>1943-04-17</td>\n",
       "      <td>NaT</td>\n",
       "      <td>Male</td>\n",
       "      <td>White</td>\n",
       "      <td>0</td>\n",
       "      <td>0</td>\n",
       "      <td>0</td>\n",
       "      <td>0</td>\n",
       "      <td>0</td>\n",
       "      <td>NaT</td>\n",
       "      <td>NaT</td>\n",
       "      <td>NaT</td>\n",
       "      <td>NaT</td>\n",
       "      <td>NaT</td>\n",
       "    </tr>\n",
       "  </tbody>\n",
       "</table>\n",
       "</div>"
      ],
      "text/plain": [
       "  BIRTH_DATE_off DEATH_DATE_off     sex                    race  LUNG  \\\n",
       "0     1959-12-02            NaT    Male  Black/African-American     1   \n",
       "1     1955-11-18     2016-04-20    Male  Black/African-American     1   \n",
       "2     1946-01-14     2015-05-25  Female  Black/African-American     1   \n",
       "3     1932-07-28            NaT  Female  Black/African-American     0   \n",
       "4     1943-04-17            NaT    Male                   White     0   \n",
       "\n",
       "   PANCREAS  THYROID  COLORECTAL  MELANOMA    LUNG DT PANCREAS_DT THYROID_DT  \\\n",
       "0         0        0           0         0 2013-09-01         NaT        NaT   \n",
       "1         0        0           0         0 2016-04-02         NaT        NaT   \n",
       "2         0        0           0         0 2015-04-11         NaT        NaT   \n",
       "3         0        0           0         0        NaT         NaT        NaT   \n",
       "4         0        0           0         0        NaT         NaT        NaT   \n",
       "\n",
       "  COLORECTAL_DT MELANOMA_DT  \n",
       "0           NaT         NaT  \n",
       "1           NaT         NaT  \n",
       "2           NaT         NaT  \n",
       "3           NaT         NaT  \n",
       "4           NaT         NaT  "
      ]
     },
     "execution_count": 4,
     "metadata": {},
     "output_type": "execute_result"
    }
   ],
   "source": [
    "df.head()"
   ]
  },
  {
   "cell_type": "code",
   "execution_count": 5,
   "metadata": {},
   "outputs": [],
   "source": [
    "df.rename(columns={\"LUNG DT\":\"LUNG_DT\"}, inplace=True)"
   ]
  },
  {
   "cell_type": "code",
   "execution_count": 6,
   "metadata": {},
   "outputs": [
    {
     "data": {
      "text/html": [
       "<div>\n",
       "<style scoped>\n",
       "    .dataframe tbody tr th:only-of-type {\n",
       "        vertical-align: middle;\n",
       "    }\n",
       "\n",
       "    .dataframe tbody tr th {\n",
       "        vertical-align: top;\n",
       "    }\n",
       "\n",
       "    .dataframe thead th {\n",
       "        text-align: right;\n",
       "    }\n",
       "</style>\n",
       "<table border=\"1\" class=\"dataframe\">\n",
       "  <thead>\n",
       "    <tr style=\"text-align: right;\">\n",
       "      <th></th>\n",
       "      <th>BIRTH_DATE_off</th>\n",
       "      <th>DEATH_DATE_off</th>\n",
       "      <th>sex</th>\n",
       "      <th>race</th>\n",
       "      <th>LUNG</th>\n",
       "      <th>PANCREAS</th>\n",
       "      <th>THYROID</th>\n",
       "      <th>COLORECTAL</th>\n",
       "      <th>MELANOMA</th>\n",
       "      <th>LUNG_DT</th>\n",
       "      <th>PANCREAS_DT</th>\n",
       "      <th>THYROID_DT</th>\n",
       "      <th>COLORECTAL_DT</th>\n",
       "      <th>MELANOMA_DT</th>\n",
       "    </tr>\n",
       "  </thead>\n",
       "  <tbody>\n",
       "    <tr>\n",
       "      <th>0</th>\n",
       "      <td>1959-12-02</td>\n",
       "      <td>NaT</td>\n",
       "      <td>Male</td>\n",
       "      <td>Black/African-American</td>\n",
       "      <td>1</td>\n",
       "      <td>0</td>\n",
       "      <td>0</td>\n",
       "      <td>0</td>\n",
       "      <td>0</td>\n",
       "      <td>2013-09-01</td>\n",
       "      <td>NaT</td>\n",
       "      <td>NaT</td>\n",
       "      <td>NaT</td>\n",
       "      <td>NaT</td>\n",
       "    </tr>\n",
       "    <tr>\n",
       "      <th>1</th>\n",
       "      <td>1955-11-18</td>\n",
       "      <td>2016-04-20</td>\n",
       "      <td>Male</td>\n",
       "      <td>Black/African-American</td>\n",
       "      <td>1</td>\n",
       "      <td>0</td>\n",
       "      <td>0</td>\n",
       "      <td>0</td>\n",
       "      <td>0</td>\n",
       "      <td>2016-04-02</td>\n",
       "      <td>NaT</td>\n",
       "      <td>NaT</td>\n",
       "      <td>NaT</td>\n",
       "      <td>NaT</td>\n",
       "    </tr>\n",
       "    <tr>\n",
       "      <th>2</th>\n",
       "      <td>1946-01-14</td>\n",
       "      <td>2015-05-25</td>\n",
       "      <td>Female</td>\n",
       "      <td>Black/African-American</td>\n",
       "      <td>1</td>\n",
       "      <td>0</td>\n",
       "      <td>0</td>\n",
       "      <td>0</td>\n",
       "      <td>0</td>\n",
       "      <td>2015-04-11</td>\n",
       "      <td>NaT</td>\n",
       "      <td>NaT</td>\n",
       "      <td>NaT</td>\n",
       "      <td>NaT</td>\n",
       "    </tr>\n",
       "    <tr>\n",
       "      <th>3</th>\n",
       "      <td>1932-07-28</td>\n",
       "      <td>NaT</td>\n",
       "      <td>Female</td>\n",
       "      <td>Black/African-American</td>\n",
       "      <td>0</td>\n",
       "      <td>0</td>\n",
       "      <td>0</td>\n",
       "      <td>0</td>\n",
       "      <td>0</td>\n",
       "      <td>NaT</td>\n",
       "      <td>NaT</td>\n",
       "      <td>NaT</td>\n",
       "      <td>NaT</td>\n",
       "      <td>NaT</td>\n",
       "    </tr>\n",
       "    <tr>\n",
       "      <th>4</th>\n",
       "      <td>1943-04-17</td>\n",
       "      <td>NaT</td>\n",
       "      <td>Male</td>\n",
       "      <td>White</td>\n",
       "      <td>0</td>\n",
       "      <td>0</td>\n",
       "      <td>0</td>\n",
       "      <td>0</td>\n",
       "      <td>0</td>\n",
       "      <td>NaT</td>\n",
       "      <td>NaT</td>\n",
       "      <td>NaT</td>\n",
       "      <td>NaT</td>\n",
       "      <td>NaT</td>\n",
       "    </tr>\n",
       "  </tbody>\n",
       "</table>\n",
       "</div>"
      ],
      "text/plain": [
       "  BIRTH_DATE_off DEATH_DATE_off     sex                    race  LUNG  \\\n",
       "0     1959-12-02            NaT    Male  Black/African-American     1   \n",
       "1     1955-11-18     2016-04-20    Male  Black/African-American     1   \n",
       "2     1946-01-14     2015-05-25  Female  Black/African-American     1   \n",
       "3     1932-07-28            NaT  Female  Black/African-American     0   \n",
       "4     1943-04-17            NaT    Male                   White     0   \n",
       "\n",
       "   PANCREAS  THYROID  COLORECTAL  MELANOMA    LUNG_DT PANCREAS_DT THYROID_DT  \\\n",
       "0         0        0           0         0 2013-09-01         NaT        NaT   \n",
       "1         0        0           0         0 2016-04-02         NaT        NaT   \n",
       "2         0        0           0         0 2015-04-11         NaT        NaT   \n",
       "3         0        0           0         0        NaT         NaT        NaT   \n",
       "4         0        0           0         0        NaT         NaT        NaT   \n",
       "\n",
       "  COLORECTAL_DT MELANOMA_DT  \n",
       "0           NaT         NaT  \n",
       "1           NaT         NaT  \n",
       "2           NaT         NaT  \n",
       "3           NaT         NaT  \n",
       "4           NaT         NaT  "
      ]
     },
     "execution_count": 6,
     "metadata": {},
     "output_type": "execute_result"
    }
   ],
   "source": [
    "df.head()"
   ]
  },
  {
   "cell_type": "markdown",
   "metadata": {},
   "source": [
    "# Part A: Data Preparation"
   ]
  },
  {
   "cell_type": "markdown",
   "metadata": {},
   "source": [
    "####  Removing all patients who were diagnosed after 8/25/16"
   ]
  },
  {
   "cell_type": "code",
   "execution_count": 7,
   "metadata": {},
   "outputs": [],
   "source": [
    "cutoff = pd.to_datetime(\"8/25/16\")"
   ]
  },
  {
   "cell_type": "code",
   "execution_count": 8,
   "metadata": {},
   "outputs": [],
   "source": [
    "L = df['LUNG_DT'] > cutoff\n",
    "L = ~L\n",
    "\n",
    "P = df['PANCREAS_DT'] > cutoff\n",
    "P = ~P\n",
    "\n",
    "T = df['THYROID_DT'] > cutoff\n",
    "T = ~T\n",
    "\n",
    "C = df['COLORECTAL_DT'] > cutoff\n",
    "C = ~C\n",
    "\n",
    "M = df['MELANOMA_DT'] > cutoff\n",
    "M = ~M"
   ]
  },
  {
   "cell_type": "code",
   "execution_count": 9,
   "metadata": {},
   "outputs": [],
   "source": [
    "df_sub = df[L & P & T & C & M].copy()"
   ]
  },
  {
   "cell_type": "code",
   "execution_count": 10,
   "metadata": {},
   "outputs": [
    {
     "data": {
      "text/plain": [
       "(8463, 14)"
      ]
     },
     "execution_count": 10,
     "metadata": {},
     "output_type": "execute_result"
    }
   ],
   "source": [
    "df_sub.shape"
   ]
  },
  {
   "cell_type": "markdown",
   "metadata": {},
   "source": [
    "#### Right Censoring the data where we don't know what happened to the patient after the study ended on \"8/2/5/016\""
   ]
  },
  {
   "cell_type": "code",
   "execution_count": 11,
   "metadata": {},
   "outputs": [],
   "source": [
    "df_sub['DATE_CUTOFF'] = cutoff ##adding the cutoff series to the dataframe with column title as \"DATE_CUTOFF\"\n",
    "df_sub['Censored'] = (df_sub['DEATH_DATE_off'] < df_sub['DATE_CUTOFF'])*1 ##create the column \"Censored\" based on the patients that died after the cutoff date"
   ]
  },
  {
   "cell_type": "code",
   "execution_count": 12,
   "metadata": {},
   "outputs": [],
   "source": [
    "df_sub['Censored'] = 1 - df_sub['Censored'] ##censoring the data after 8/25/2016 so this will flip the binary values"
   ]
  },
  {
   "cell_type": "code",
   "execution_count": 13,
   "metadata": {},
   "outputs": [
    {
     "data": {
      "text/plain": [
       "1    8063\n",
       "0     400\n",
       "Name: Censored, dtype: int64"
      ]
     },
     "execution_count": 13,
     "metadata": {},
     "output_type": "execute_result"
    }
   ],
   "source": [
    "df_sub['Censored'].value_counts()##determining the number of censored values \"0\" being censored and \"1\" is within the scope of the experiment/intervention"
   ]
  },
  {
   "cell_type": "markdown",
   "metadata": {},
   "source": [
    "#### Removing all patients who do not have a diagnosis date"
   ]
  },
  {
   "cell_type": "code",
   "execution_count": 14,
   "metadata": {},
   "outputs": [],
   "source": [
    "df_sub = df_sub[(df_sub['LUNG_DT'].notnull()) | (df_sub['PANCREAS_DT'].notnull()) | (df_sub['THYROID_DT'].notnull()) | (df_sub['COLORECTAL_DT'].notnull()) | (df_sub['MELANOMA_DT'].notnull())]"
   ]
  },
  {
   "cell_type": "code",
   "execution_count": 15,
   "metadata": {},
   "outputs": [
    {
     "data": {
      "text/plain": [
       "(4148, 16)"
      ]
     },
     "execution_count": 15,
     "metadata": {},
     "output_type": "execute_result"
    }
   ],
   "source": [
    "df_sub.shape"
   ]
  },
  {
   "cell_type": "code",
   "execution_count": 16,
   "metadata": {},
   "outputs": [
    {
     "data": {
      "text/html": [
       "<div>\n",
       "<style scoped>\n",
       "    .dataframe tbody tr th:only-of-type {\n",
       "        vertical-align: middle;\n",
       "    }\n",
       "\n",
       "    .dataframe tbody tr th {\n",
       "        vertical-align: top;\n",
       "    }\n",
       "\n",
       "    .dataframe thead th {\n",
       "        text-align: right;\n",
       "    }\n",
       "</style>\n",
       "<table border=\"1\" class=\"dataframe\">\n",
       "  <thead>\n",
       "    <tr style=\"text-align: right;\">\n",
       "      <th></th>\n",
       "      <th>BIRTH_DATE_off</th>\n",
       "      <th>DEATH_DATE_off</th>\n",
       "      <th>sex</th>\n",
       "      <th>race</th>\n",
       "      <th>LUNG</th>\n",
       "      <th>PANCREAS</th>\n",
       "      <th>THYROID</th>\n",
       "      <th>COLORECTAL</th>\n",
       "      <th>MELANOMA</th>\n",
       "      <th>LUNG_DT</th>\n",
       "      <th>PANCREAS_DT</th>\n",
       "      <th>THYROID_DT</th>\n",
       "      <th>COLORECTAL_DT</th>\n",
       "      <th>MELANOMA_DT</th>\n",
       "      <th>DATE_CUTOFF</th>\n",
       "      <th>Censored</th>\n",
       "    </tr>\n",
       "  </thead>\n",
       "  <tbody>\n",
       "    <tr>\n",
       "      <th>0</th>\n",
       "      <td>1959-12-02</td>\n",
       "      <td>NaT</td>\n",
       "      <td>Male</td>\n",
       "      <td>Black/African-American</td>\n",
       "      <td>1</td>\n",
       "      <td>0</td>\n",
       "      <td>0</td>\n",
       "      <td>0</td>\n",
       "      <td>0</td>\n",
       "      <td>2013-09-01</td>\n",
       "      <td>NaT</td>\n",
       "      <td>NaT</td>\n",
       "      <td>NaT</td>\n",
       "      <td>NaT</td>\n",
       "      <td>2016-08-25</td>\n",
       "      <td>1</td>\n",
       "    </tr>\n",
       "    <tr>\n",
       "      <th>1</th>\n",
       "      <td>1955-11-18</td>\n",
       "      <td>2016-04-20</td>\n",
       "      <td>Male</td>\n",
       "      <td>Black/African-American</td>\n",
       "      <td>1</td>\n",
       "      <td>0</td>\n",
       "      <td>0</td>\n",
       "      <td>0</td>\n",
       "      <td>0</td>\n",
       "      <td>2016-04-02</td>\n",
       "      <td>NaT</td>\n",
       "      <td>NaT</td>\n",
       "      <td>NaT</td>\n",
       "      <td>NaT</td>\n",
       "      <td>2016-08-25</td>\n",
       "      <td>0</td>\n",
       "    </tr>\n",
       "    <tr>\n",
       "      <th>2</th>\n",
       "      <td>1946-01-14</td>\n",
       "      <td>2015-05-25</td>\n",
       "      <td>Female</td>\n",
       "      <td>Black/African-American</td>\n",
       "      <td>1</td>\n",
       "      <td>0</td>\n",
       "      <td>0</td>\n",
       "      <td>0</td>\n",
       "      <td>0</td>\n",
       "      <td>2015-04-11</td>\n",
       "      <td>NaT</td>\n",
       "      <td>NaT</td>\n",
       "      <td>NaT</td>\n",
       "      <td>NaT</td>\n",
       "      <td>2016-08-25</td>\n",
       "      <td>0</td>\n",
       "    </tr>\n",
       "    <tr>\n",
       "      <th>6</th>\n",
       "      <td>1946-11-03</td>\n",
       "      <td>NaT</td>\n",
       "      <td>Female</td>\n",
       "      <td>Black/African-American</td>\n",
       "      <td>0</td>\n",
       "      <td>0</td>\n",
       "      <td>1</td>\n",
       "      <td>0</td>\n",
       "      <td>0</td>\n",
       "      <td>NaT</td>\n",
       "      <td>NaT</td>\n",
       "      <td>2012-11-29</td>\n",
       "      <td>NaT</td>\n",
       "      <td>NaT</td>\n",
       "      <td>2016-08-25</td>\n",
       "      <td>1</td>\n",
       "    </tr>\n",
       "    <tr>\n",
       "      <th>7</th>\n",
       "      <td>1938-06-10</td>\n",
       "      <td>NaT</td>\n",
       "      <td>Female</td>\n",
       "      <td>Black/African-American</td>\n",
       "      <td>0</td>\n",
       "      <td>0</td>\n",
       "      <td>1</td>\n",
       "      <td>0</td>\n",
       "      <td>0</td>\n",
       "      <td>NaT</td>\n",
       "      <td>NaT</td>\n",
       "      <td>2012-06-24</td>\n",
       "      <td>NaT</td>\n",
       "      <td>NaT</td>\n",
       "      <td>2016-08-25</td>\n",
       "      <td>1</td>\n",
       "    </tr>\n",
       "  </tbody>\n",
       "</table>\n",
       "</div>"
      ],
      "text/plain": [
       "  BIRTH_DATE_off DEATH_DATE_off     sex                    race  LUNG  \\\n",
       "0     1959-12-02            NaT    Male  Black/African-American     1   \n",
       "1     1955-11-18     2016-04-20    Male  Black/African-American     1   \n",
       "2     1946-01-14     2015-05-25  Female  Black/African-American     1   \n",
       "6     1946-11-03            NaT  Female  Black/African-American     0   \n",
       "7     1938-06-10            NaT  Female  Black/African-American     0   \n",
       "\n",
       "   PANCREAS  THYROID  COLORECTAL  MELANOMA    LUNG_DT PANCREAS_DT THYROID_DT  \\\n",
       "0         0        0           0         0 2013-09-01         NaT        NaT   \n",
       "1         0        0           0         0 2016-04-02         NaT        NaT   \n",
       "2         0        0           0         0 2015-04-11         NaT        NaT   \n",
       "6         0        1           0         0        NaT         NaT 2012-11-29   \n",
       "7         0        1           0         0        NaT         NaT 2012-06-24   \n",
       "\n",
       "  COLORECTAL_DT MELANOMA_DT DATE_CUTOFF  Censored  \n",
       "0           NaT         NaT  2016-08-25         1  \n",
       "1           NaT         NaT  2016-08-25         0  \n",
       "2           NaT         NaT  2016-08-25         0  \n",
       "6           NaT         NaT  2016-08-25         1  \n",
       "7           NaT         NaT  2016-08-25         1  "
      ]
     },
     "execution_count": 16,
     "metadata": {},
     "output_type": "execute_result"
    }
   ],
   "source": [
    "df_sub.head()"
   ]
  },
  {
   "cell_type": "markdown",
   "metadata": {},
   "source": [
    "#### Categorizing race into White, African-American, Asian/Mideast-Indian, and Others."
   ]
  },
  {
   "cell_type": "code",
   "execution_count": 17,
   "metadata": {},
   "outputs": [
    {
     "data": {
      "text/plain": [
       "White                                     2815\n",
       "Black/African-American                     956\n",
       "Unknown                                    163\n",
       "Asian/Mideast Indian                       117\n",
       "More than one Race                          49\n",
       "Patient Declined                            25\n",
       "Native Hawaiian/Other Pacific Islander      17\n",
       "American Indian or Alaska Native             4\n",
       "Name: race, dtype: int64"
      ]
     },
     "execution_count": 17,
     "metadata": {},
     "output_type": "execute_result"
    }
   ],
   "source": [
    "df_sub['race'].value_counts()"
   ]
  },
  {
   "cell_type": "code",
   "execution_count": 18,
   "metadata": {},
   "outputs": [],
   "source": [
    "def what_race(df):\n",
    "    if df['race'] == 'Black/African-American':\n",
    "        val = 'Black/African-American'\n",
    "    elif df['race'] == 'White':\n",
    "        val = 'White'\n",
    "    elif df['race'] == 'Native Hawaiian/Other Pacific Islander':\n",
    "        val = 'Asian/Mideast Indian'\n",
    "    elif df['race'] == 'Asian/Mideast Indian':\n",
    "        val = 'Asian/Mideast Indian'\n",
    "    elif df['race'] == 'American Indian or Alaska Native':\n",
    "        val = 'Other'\n",
    "    else:\n",
    "        val = 'Other'\n",
    "    return val"
   ]
  },
  {
   "cell_type": "code",
   "execution_count": 19,
   "metadata": {},
   "outputs": [],
   "source": [
    "df_sub['Race'] = df_sub.apply(what_race, axis = 1) "
   ]
  },
  {
   "cell_type": "code",
   "execution_count": 20,
   "metadata": {},
   "outputs": [
    {
     "data": {
      "text/plain": [
       "White                     2815\n",
       "Black/African-American     956\n",
       "Other                      243\n",
       "Asian/Mideast Indian       134\n",
       "Name: Race, dtype: int64"
      ]
     },
     "execution_count": 20,
     "metadata": {},
     "output_type": "execute_result"
    }
   ],
   "source": [
    "df_sub['Race'].value_counts()"
   ]
  },
  {
   "cell_type": "code",
   "execution_count": 21,
   "metadata": {},
   "outputs": [
    {
     "data": {
      "text/plain": [
       "BIRTH_DATE_off       0\n",
       "DEATH_DATE_off    3822\n",
       "sex                  0\n",
       "race                 2\n",
       "LUNG                 0\n",
       "PANCREAS             0\n",
       "THYROID              0\n",
       "COLORECTAL           0\n",
       "MELANOMA             0\n",
       "LUNG_DT           2665\n",
       "PANCREAS_DT       3490\n",
       "THYROID_DT        3404\n",
       "COLORECTAL_DT     3202\n",
       "MELANOMA_DT       3802\n",
       "DATE_CUTOFF          0\n",
       "Censored             0\n",
       "Race                 0\n",
       "dtype: int64"
      ]
     },
     "execution_count": 21,
     "metadata": {},
     "output_type": "execute_result"
    }
   ],
   "source": [
    "df_sub.isnull().sum()"
   ]
  },
  {
   "cell_type": "markdown",
   "metadata": {},
   "source": [
    "#### Missing Death_Date is replcaing by cutoff date"
   ]
  },
  {
   "cell_type": "code",
   "execution_count": 22,
   "metadata": {},
   "outputs": [],
   "source": [
    "df_sub['DEATH_DATE_off'].fillna(value = cutoff, inplace = True )"
   ]
  },
  {
   "cell_type": "code",
   "execution_count": 23,
   "metadata": {},
   "outputs": [
    {
     "data": {
      "text/html": [
       "<div>\n",
       "<style scoped>\n",
       "    .dataframe tbody tr th:only-of-type {\n",
       "        vertical-align: middle;\n",
       "    }\n",
       "\n",
       "    .dataframe tbody tr th {\n",
       "        vertical-align: top;\n",
       "    }\n",
       "\n",
       "    .dataframe thead th {\n",
       "        text-align: right;\n",
       "    }\n",
       "</style>\n",
       "<table border=\"1\" class=\"dataframe\">\n",
       "  <thead>\n",
       "    <tr style=\"text-align: right;\">\n",
       "      <th></th>\n",
       "      <th>BIRTH_DATE_off</th>\n",
       "      <th>DEATH_DATE_off</th>\n",
       "      <th>sex</th>\n",
       "      <th>race</th>\n",
       "      <th>LUNG</th>\n",
       "      <th>PANCREAS</th>\n",
       "      <th>THYROID</th>\n",
       "      <th>COLORECTAL</th>\n",
       "      <th>MELANOMA</th>\n",
       "      <th>LUNG_DT</th>\n",
       "      <th>PANCREAS_DT</th>\n",
       "      <th>THYROID_DT</th>\n",
       "      <th>COLORECTAL_DT</th>\n",
       "      <th>MELANOMA_DT</th>\n",
       "      <th>DATE_CUTOFF</th>\n",
       "      <th>Censored</th>\n",
       "      <th>Race</th>\n",
       "    </tr>\n",
       "  </thead>\n",
       "  <tbody>\n",
       "    <tr>\n",
       "      <th>0</th>\n",
       "      <td>1959-12-02</td>\n",
       "      <td>2016-08-25</td>\n",
       "      <td>Male</td>\n",
       "      <td>Black/African-American</td>\n",
       "      <td>1</td>\n",
       "      <td>0</td>\n",
       "      <td>0</td>\n",
       "      <td>0</td>\n",
       "      <td>0</td>\n",
       "      <td>2013-09-01</td>\n",
       "      <td>NaT</td>\n",
       "      <td>NaT</td>\n",
       "      <td>NaT</td>\n",
       "      <td>NaT</td>\n",
       "      <td>2016-08-25</td>\n",
       "      <td>1</td>\n",
       "      <td>Black/African-American</td>\n",
       "    </tr>\n",
       "    <tr>\n",
       "      <th>1</th>\n",
       "      <td>1955-11-18</td>\n",
       "      <td>2016-04-20</td>\n",
       "      <td>Male</td>\n",
       "      <td>Black/African-American</td>\n",
       "      <td>1</td>\n",
       "      <td>0</td>\n",
       "      <td>0</td>\n",
       "      <td>0</td>\n",
       "      <td>0</td>\n",
       "      <td>2016-04-02</td>\n",
       "      <td>NaT</td>\n",
       "      <td>NaT</td>\n",
       "      <td>NaT</td>\n",
       "      <td>NaT</td>\n",
       "      <td>2016-08-25</td>\n",
       "      <td>0</td>\n",
       "      <td>Black/African-American</td>\n",
       "    </tr>\n",
       "    <tr>\n",
       "      <th>2</th>\n",
       "      <td>1946-01-14</td>\n",
       "      <td>2015-05-25</td>\n",
       "      <td>Female</td>\n",
       "      <td>Black/African-American</td>\n",
       "      <td>1</td>\n",
       "      <td>0</td>\n",
       "      <td>0</td>\n",
       "      <td>0</td>\n",
       "      <td>0</td>\n",
       "      <td>2015-04-11</td>\n",
       "      <td>NaT</td>\n",
       "      <td>NaT</td>\n",
       "      <td>NaT</td>\n",
       "      <td>NaT</td>\n",
       "      <td>2016-08-25</td>\n",
       "      <td>0</td>\n",
       "      <td>Black/African-American</td>\n",
       "    </tr>\n",
       "    <tr>\n",
       "      <th>6</th>\n",
       "      <td>1946-11-03</td>\n",
       "      <td>2016-08-25</td>\n",
       "      <td>Female</td>\n",
       "      <td>Black/African-American</td>\n",
       "      <td>0</td>\n",
       "      <td>0</td>\n",
       "      <td>1</td>\n",
       "      <td>0</td>\n",
       "      <td>0</td>\n",
       "      <td>NaT</td>\n",
       "      <td>NaT</td>\n",
       "      <td>2012-11-29</td>\n",
       "      <td>NaT</td>\n",
       "      <td>NaT</td>\n",
       "      <td>2016-08-25</td>\n",
       "      <td>1</td>\n",
       "      <td>Black/African-American</td>\n",
       "    </tr>\n",
       "    <tr>\n",
       "      <th>7</th>\n",
       "      <td>1938-06-10</td>\n",
       "      <td>2016-08-25</td>\n",
       "      <td>Female</td>\n",
       "      <td>Black/African-American</td>\n",
       "      <td>0</td>\n",
       "      <td>0</td>\n",
       "      <td>1</td>\n",
       "      <td>0</td>\n",
       "      <td>0</td>\n",
       "      <td>NaT</td>\n",
       "      <td>NaT</td>\n",
       "      <td>2012-06-24</td>\n",
       "      <td>NaT</td>\n",
       "      <td>NaT</td>\n",
       "      <td>2016-08-25</td>\n",
       "      <td>1</td>\n",
       "      <td>Black/African-American</td>\n",
       "    </tr>\n",
       "  </tbody>\n",
       "</table>\n",
       "</div>"
      ],
      "text/plain": [
       "  BIRTH_DATE_off DEATH_DATE_off     sex                    race  LUNG  \\\n",
       "0     1959-12-02     2016-08-25    Male  Black/African-American     1   \n",
       "1     1955-11-18     2016-04-20    Male  Black/African-American     1   \n",
       "2     1946-01-14     2015-05-25  Female  Black/African-American     1   \n",
       "6     1946-11-03     2016-08-25  Female  Black/African-American     0   \n",
       "7     1938-06-10     2016-08-25  Female  Black/African-American     0   \n",
       "\n",
       "   PANCREAS  THYROID  COLORECTAL  MELANOMA    LUNG_DT PANCREAS_DT THYROID_DT  \\\n",
       "0         0        0           0         0 2013-09-01         NaT        NaT   \n",
       "1         0        0           0         0 2016-04-02         NaT        NaT   \n",
       "2         0        0           0         0 2015-04-11         NaT        NaT   \n",
       "6         0        1           0         0        NaT         NaT 2012-11-29   \n",
       "7         0        1           0         0        NaT         NaT 2012-06-24   \n",
       "\n",
       "  COLORECTAL_DT MELANOMA_DT DATE_CUTOFF  Censored                    Race  \n",
       "0           NaT         NaT  2016-08-25         1  Black/African-American  \n",
       "1           NaT         NaT  2016-08-25         0  Black/African-American  \n",
       "2           NaT         NaT  2016-08-25         0  Black/African-American  \n",
       "6           NaT         NaT  2016-08-25         1  Black/African-American  \n",
       "7           NaT         NaT  2016-08-25         1  Black/African-American  "
      ]
     },
     "execution_count": 23,
     "metadata": {},
     "output_type": "execute_result"
    }
   ],
   "source": [
    "df_sub.head()"
   ]
  },
  {
   "cell_type": "markdown",
   "metadata": {},
   "source": [
    "#### Calculating age"
   ]
  },
  {
   "cell_type": "code",
   "execution_count": 24,
   "metadata": {},
   "outputs": [],
   "source": [
    "df_sub['age'] = round(((df_sub['DEATH_DATE_off'] - df_sub['BIRTH_DATE_off']).dt.days)/365, 0).astype(int)"
   ]
  },
  {
   "cell_type": "code",
   "execution_count": 25,
   "metadata": {},
   "outputs": [
    {
     "data": {
      "text/html": [
       "<div>\n",
       "<style scoped>\n",
       "    .dataframe tbody tr th:only-of-type {\n",
       "        vertical-align: middle;\n",
       "    }\n",
       "\n",
       "    .dataframe tbody tr th {\n",
       "        vertical-align: top;\n",
       "    }\n",
       "\n",
       "    .dataframe thead th {\n",
       "        text-align: right;\n",
       "    }\n",
       "</style>\n",
       "<table border=\"1\" class=\"dataframe\">\n",
       "  <thead>\n",
       "    <tr style=\"text-align: right;\">\n",
       "      <th></th>\n",
       "      <th>BIRTH_DATE_off</th>\n",
       "      <th>DEATH_DATE_off</th>\n",
       "      <th>sex</th>\n",
       "      <th>race</th>\n",
       "      <th>LUNG</th>\n",
       "      <th>PANCREAS</th>\n",
       "      <th>THYROID</th>\n",
       "      <th>COLORECTAL</th>\n",
       "      <th>MELANOMA</th>\n",
       "      <th>LUNG_DT</th>\n",
       "      <th>PANCREAS_DT</th>\n",
       "      <th>THYROID_DT</th>\n",
       "      <th>COLORECTAL_DT</th>\n",
       "      <th>MELANOMA_DT</th>\n",
       "      <th>DATE_CUTOFF</th>\n",
       "      <th>Censored</th>\n",
       "      <th>Race</th>\n",
       "      <th>age</th>\n",
       "    </tr>\n",
       "  </thead>\n",
       "  <tbody>\n",
       "    <tr>\n",
       "      <th>0</th>\n",
       "      <td>1959-12-02</td>\n",
       "      <td>2016-08-25</td>\n",
       "      <td>Male</td>\n",
       "      <td>Black/African-American</td>\n",
       "      <td>1</td>\n",
       "      <td>0</td>\n",
       "      <td>0</td>\n",
       "      <td>0</td>\n",
       "      <td>0</td>\n",
       "      <td>2013-09-01</td>\n",
       "      <td>NaT</td>\n",
       "      <td>NaT</td>\n",
       "      <td>NaT</td>\n",
       "      <td>NaT</td>\n",
       "      <td>2016-08-25</td>\n",
       "      <td>1</td>\n",
       "      <td>Black/African-American</td>\n",
       "      <td>57</td>\n",
       "    </tr>\n",
       "    <tr>\n",
       "      <th>1</th>\n",
       "      <td>1955-11-18</td>\n",
       "      <td>2016-04-20</td>\n",
       "      <td>Male</td>\n",
       "      <td>Black/African-American</td>\n",
       "      <td>1</td>\n",
       "      <td>0</td>\n",
       "      <td>0</td>\n",
       "      <td>0</td>\n",
       "      <td>0</td>\n",
       "      <td>2016-04-02</td>\n",
       "      <td>NaT</td>\n",
       "      <td>NaT</td>\n",
       "      <td>NaT</td>\n",
       "      <td>NaT</td>\n",
       "      <td>2016-08-25</td>\n",
       "      <td>0</td>\n",
       "      <td>Black/African-American</td>\n",
       "      <td>60</td>\n",
       "    </tr>\n",
       "    <tr>\n",
       "      <th>2</th>\n",
       "      <td>1946-01-14</td>\n",
       "      <td>2015-05-25</td>\n",
       "      <td>Female</td>\n",
       "      <td>Black/African-American</td>\n",
       "      <td>1</td>\n",
       "      <td>0</td>\n",
       "      <td>0</td>\n",
       "      <td>0</td>\n",
       "      <td>0</td>\n",
       "      <td>2015-04-11</td>\n",
       "      <td>NaT</td>\n",
       "      <td>NaT</td>\n",
       "      <td>NaT</td>\n",
       "      <td>NaT</td>\n",
       "      <td>2016-08-25</td>\n",
       "      <td>0</td>\n",
       "      <td>Black/African-American</td>\n",
       "      <td>69</td>\n",
       "    </tr>\n",
       "    <tr>\n",
       "      <th>6</th>\n",
       "      <td>1946-11-03</td>\n",
       "      <td>2016-08-25</td>\n",
       "      <td>Female</td>\n",
       "      <td>Black/African-American</td>\n",
       "      <td>0</td>\n",
       "      <td>0</td>\n",
       "      <td>1</td>\n",
       "      <td>0</td>\n",
       "      <td>0</td>\n",
       "      <td>NaT</td>\n",
       "      <td>NaT</td>\n",
       "      <td>2012-11-29</td>\n",
       "      <td>NaT</td>\n",
       "      <td>NaT</td>\n",
       "      <td>2016-08-25</td>\n",
       "      <td>1</td>\n",
       "      <td>Black/African-American</td>\n",
       "      <td>70</td>\n",
       "    </tr>\n",
       "    <tr>\n",
       "      <th>7</th>\n",
       "      <td>1938-06-10</td>\n",
       "      <td>2016-08-25</td>\n",
       "      <td>Female</td>\n",
       "      <td>Black/African-American</td>\n",
       "      <td>0</td>\n",
       "      <td>0</td>\n",
       "      <td>1</td>\n",
       "      <td>0</td>\n",
       "      <td>0</td>\n",
       "      <td>NaT</td>\n",
       "      <td>NaT</td>\n",
       "      <td>2012-06-24</td>\n",
       "      <td>NaT</td>\n",
       "      <td>NaT</td>\n",
       "      <td>2016-08-25</td>\n",
       "      <td>1</td>\n",
       "      <td>Black/African-American</td>\n",
       "      <td>78</td>\n",
       "    </tr>\n",
       "  </tbody>\n",
       "</table>\n",
       "</div>"
      ],
      "text/plain": [
       "  BIRTH_DATE_off DEATH_DATE_off     sex                    race  LUNG  \\\n",
       "0     1959-12-02     2016-08-25    Male  Black/African-American     1   \n",
       "1     1955-11-18     2016-04-20    Male  Black/African-American     1   \n",
       "2     1946-01-14     2015-05-25  Female  Black/African-American     1   \n",
       "6     1946-11-03     2016-08-25  Female  Black/African-American     0   \n",
       "7     1938-06-10     2016-08-25  Female  Black/African-American     0   \n",
       "\n",
       "   PANCREAS  THYROID  COLORECTAL  MELANOMA    LUNG_DT PANCREAS_DT THYROID_DT  \\\n",
       "0         0        0           0         0 2013-09-01         NaT        NaT   \n",
       "1         0        0           0         0 2016-04-02         NaT        NaT   \n",
       "2         0        0           0         0 2015-04-11         NaT        NaT   \n",
       "6         0        1           0         0        NaT         NaT 2012-11-29   \n",
       "7         0        1           0         0        NaT         NaT 2012-06-24   \n",
       "\n",
       "  COLORECTAL_DT MELANOMA_DT DATE_CUTOFF  Censored                    Race  age  \n",
       "0           NaT         NaT  2016-08-25         1  Black/African-American   57  \n",
       "1           NaT         NaT  2016-08-25         0  Black/African-American   60  \n",
       "2           NaT         NaT  2016-08-25         0  Black/African-American   69  \n",
       "6           NaT         NaT  2016-08-25         1  Black/African-American   70  \n",
       "7           NaT         NaT  2016-08-25         1  Black/African-American   78  "
      ]
     },
     "execution_count": 25,
     "metadata": {},
     "output_type": "execute_result"
    }
   ],
   "source": [
    "df_sub.head()"
   ]
  },
  {
   "cell_type": "markdown",
   "metadata": {},
   "source": [
    "#### Creating different age group"
   ]
  },
  {
   "cell_type": "code",
   "execution_count": 26,
   "metadata": {},
   "outputs": [],
   "source": [
    "bins = [0,10,20,30,40,50,60,70,80,90,100,np.inf]\n",
    "names = ['<10', '11-20','21-30','31-40','41-50','51-60','61-70','71-80','81-90','91-100','100+']\n",
    "df_sub['Age_Range'] = pd.cut(df_sub['age'], bins, labels=names)"
   ]
  },
  {
   "cell_type": "code",
   "execution_count": 27,
   "metadata": {},
   "outputs": [],
   "source": [
    "# df_sub.head()"
   ]
  },
  {
   "cell_type": "code",
   "execution_count": 28,
   "metadata": {},
   "outputs": [
    {
     "data": {
      "text/plain": [
       "BIRTH_DATE_off       0\n",
       "DEATH_DATE_off       0\n",
       "sex                  0\n",
       "race                 2\n",
       "LUNG                 0\n",
       "PANCREAS             0\n",
       "THYROID              0\n",
       "COLORECTAL           0\n",
       "MELANOMA             0\n",
       "LUNG_DT           2665\n",
       "PANCREAS_DT       3490\n",
       "THYROID_DT        3404\n",
       "COLORECTAL_DT     3202\n",
       "MELANOMA_DT       3802\n",
       "DATE_CUTOFF          0\n",
       "Censored             0\n",
       "Race                 0\n",
       "age                  0\n",
       "Age_Range            0\n",
       "dtype: int64"
      ]
     },
     "execution_count": 28,
     "metadata": {},
     "output_type": "execute_result"
    }
   ],
   "source": [
    "df_sub.isnull().sum()"
   ]
  },
  {
   "cell_type": "code",
   "execution_count": null,
   "metadata": {},
   "outputs": [],
   "source": []
  },
  {
   "cell_type": "markdown",
   "metadata": {},
   "source": [
    "# Part B"
   ]
  },
  {
   "cell_type": "markdown",
   "metadata": {},
   "source": [
    "### Exploratory Data Analysis on newly formed features\n",
    "\n",
    "Analyze survival rate by gender, race and age group in deciles (11-20, 21-30, ....) for patients with following cancer:\n",
    "1.\tlung\n",
    "2.\tpancreas\n",
    "3.\tthyroid\n",
    "4.\tcolorectal\n",
    "5.\tmelanoma\n",
    "    "
   ]
  },
  {
   "cell_type": "markdown",
   "metadata": {},
   "source": [
    "# Creating data set for each cancer category"
   ]
  },
  {
   "cell_type": "markdown",
   "metadata": {},
   "source": [
    "# Lung"
   ]
  },
  {
   "cell_type": "code",
   "execution_count": 29,
   "metadata": {},
   "outputs": [
    {
     "data": {
      "text/plain": [
       "Index(['BIRTH_DATE_off', 'DEATH_DATE_off', 'sex', 'race', 'LUNG', 'PANCREAS',\n",
       "       'THYROID', 'COLORECTAL', 'MELANOMA', 'LUNG_DT', 'PANCREAS_DT',\n",
       "       'THYROID_DT', 'COLORECTAL_DT', 'MELANOMA_DT', 'DATE_CUTOFF', 'Censored',\n",
       "       'Race', 'age', 'Age_Range'],\n",
       "      dtype='object')"
      ]
     },
     "execution_count": 29,
     "metadata": {},
     "output_type": "execute_result"
    }
   ],
   "source": [
    "df_sub.columns"
   ]
  },
  {
   "cell_type": "code",
   "execution_count": 30,
   "metadata": {},
   "outputs": [],
   "source": [
    "## Lung Data"
   ]
  },
  {
   "cell_type": "code",
   "execution_count": 31,
   "metadata": {},
   "outputs": [],
   "source": [
    "df_Lung = df_sub[['BIRTH_DATE_off', 'DEATH_DATE_off', 'sex', 'LUNG','LUNG_DT', 'DATE_CUTOFF', 'Censored',\n",
    "       'Race', 'age', 'Age_Range']]"
   ]
  },
  {
   "cell_type": "code",
   "execution_count": 32,
   "metadata": {},
   "outputs": [
    {
     "data": {
      "text/html": [
       "<div>\n",
       "<style scoped>\n",
       "    .dataframe tbody tr th:only-of-type {\n",
       "        vertical-align: middle;\n",
       "    }\n",
       "\n",
       "    .dataframe tbody tr th {\n",
       "        vertical-align: top;\n",
       "    }\n",
       "\n",
       "    .dataframe thead th {\n",
       "        text-align: right;\n",
       "    }\n",
       "</style>\n",
       "<table border=\"1\" class=\"dataframe\">\n",
       "  <thead>\n",
       "    <tr style=\"text-align: right;\">\n",
       "      <th></th>\n",
       "      <th>BIRTH_DATE_off</th>\n",
       "      <th>DEATH_DATE_off</th>\n",
       "      <th>sex</th>\n",
       "      <th>LUNG</th>\n",
       "      <th>LUNG_DT</th>\n",
       "      <th>DATE_CUTOFF</th>\n",
       "      <th>Censored</th>\n",
       "      <th>Race</th>\n",
       "      <th>age</th>\n",
       "      <th>Age_Range</th>\n",
       "    </tr>\n",
       "  </thead>\n",
       "  <tbody>\n",
       "    <tr>\n",
       "      <th>0</th>\n",
       "      <td>1959-12-02</td>\n",
       "      <td>2016-08-25</td>\n",
       "      <td>Male</td>\n",
       "      <td>1</td>\n",
       "      <td>2013-09-01</td>\n",
       "      <td>2016-08-25</td>\n",
       "      <td>1</td>\n",
       "      <td>Black/African-American</td>\n",
       "      <td>57</td>\n",
       "      <td>51-60</td>\n",
       "    </tr>\n",
       "    <tr>\n",
       "      <th>1</th>\n",
       "      <td>1955-11-18</td>\n",
       "      <td>2016-04-20</td>\n",
       "      <td>Male</td>\n",
       "      <td>1</td>\n",
       "      <td>2016-04-02</td>\n",
       "      <td>2016-08-25</td>\n",
       "      <td>0</td>\n",
       "      <td>Black/African-American</td>\n",
       "      <td>60</td>\n",
       "      <td>51-60</td>\n",
       "    </tr>\n",
       "    <tr>\n",
       "      <th>2</th>\n",
       "      <td>1946-01-14</td>\n",
       "      <td>2015-05-25</td>\n",
       "      <td>Female</td>\n",
       "      <td>1</td>\n",
       "      <td>2015-04-11</td>\n",
       "      <td>2016-08-25</td>\n",
       "      <td>0</td>\n",
       "      <td>Black/African-American</td>\n",
       "      <td>69</td>\n",
       "      <td>61-70</td>\n",
       "    </tr>\n",
       "    <tr>\n",
       "      <th>6</th>\n",
       "      <td>1946-11-03</td>\n",
       "      <td>2016-08-25</td>\n",
       "      <td>Female</td>\n",
       "      <td>0</td>\n",
       "      <td>NaT</td>\n",
       "      <td>2016-08-25</td>\n",
       "      <td>1</td>\n",
       "      <td>Black/African-American</td>\n",
       "      <td>70</td>\n",
       "      <td>61-70</td>\n",
       "    </tr>\n",
       "    <tr>\n",
       "      <th>7</th>\n",
       "      <td>1938-06-10</td>\n",
       "      <td>2016-08-25</td>\n",
       "      <td>Female</td>\n",
       "      <td>0</td>\n",
       "      <td>NaT</td>\n",
       "      <td>2016-08-25</td>\n",
       "      <td>1</td>\n",
       "      <td>Black/African-American</td>\n",
       "      <td>78</td>\n",
       "      <td>71-80</td>\n",
       "    </tr>\n",
       "  </tbody>\n",
       "</table>\n",
       "</div>"
      ],
      "text/plain": [
       "  BIRTH_DATE_off DEATH_DATE_off     sex  LUNG    LUNG_DT DATE_CUTOFF  \\\n",
       "0     1959-12-02     2016-08-25    Male     1 2013-09-01  2016-08-25   \n",
       "1     1955-11-18     2016-04-20    Male     1 2016-04-02  2016-08-25   \n",
       "2     1946-01-14     2015-05-25  Female     1 2015-04-11  2016-08-25   \n",
       "6     1946-11-03     2016-08-25  Female     0        NaT  2016-08-25   \n",
       "7     1938-06-10     2016-08-25  Female     0        NaT  2016-08-25   \n",
       "\n",
       "   Censored                    Race  age Age_Range  \n",
       "0         1  Black/African-American   57     51-60  \n",
       "1         0  Black/African-American   60     51-60  \n",
       "2         0  Black/African-American   69     61-70  \n",
       "6         1  Black/African-American   70     61-70  \n",
       "7         1  Black/African-American   78     71-80  "
      ]
     },
     "execution_count": 32,
     "metadata": {},
     "output_type": "execute_result"
    }
   ],
   "source": [
    "df_Lung.head()"
   ]
  },
  {
   "cell_type": "code",
   "execution_count": 33,
   "metadata": {},
   "outputs": [
    {
     "data": {
      "text/plain": [
       "BIRTH_DATE_off       0\n",
       "DEATH_DATE_off       0\n",
       "sex                  0\n",
       "LUNG                 0\n",
       "LUNG_DT           2665\n",
       "DATE_CUTOFF          0\n",
       "Censored             0\n",
       "Race                 0\n",
       "age                  0\n",
       "Age_Range            0\n",
       "dtype: int64"
      ]
     },
     "execution_count": 33,
     "metadata": {},
     "output_type": "execute_result"
    }
   ],
   "source": [
    "df_Lung.isnull().sum()"
   ]
  },
  {
   "cell_type": "code",
   "execution_count": 34,
   "metadata": {},
   "outputs": [],
   "source": [
    "df_Lung=df_Lung.dropna()"
   ]
  },
  {
   "cell_type": "code",
   "execution_count": 35,
   "metadata": {},
   "outputs": [],
   "source": [
    "df_Lung['Lung_Duration'] = (df_Lung['DEATH_DATE_off'] - df_Lung['LUNG_DT']).dt.days.astype(int)"
   ]
  },
  {
   "cell_type": "code",
   "execution_count": 36,
   "metadata": {},
   "outputs": [
    {
     "data": {
      "text/html": [
       "<div>\n",
       "<style scoped>\n",
       "    .dataframe tbody tr th:only-of-type {\n",
       "        vertical-align: middle;\n",
       "    }\n",
       "\n",
       "    .dataframe tbody tr th {\n",
       "        vertical-align: top;\n",
       "    }\n",
       "\n",
       "    .dataframe thead th {\n",
       "        text-align: right;\n",
       "    }\n",
       "</style>\n",
       "<table border=\"1\" class=\"dataframe\">\n",
       "  <thead>\n",
       "    <tr style=\"text-align: right;\">\n",
       "      <th></th>\n",
       "      <th>BIRTH_DATE_off</th>\n",
       "      <th>DEATH_DATE_off</th>\n",
       "      <th>sex</th>\n",
       "      <th>LUNG</th>\n",
       "      <th>LUNG_DT</th>\n",
       "      <th>DATE_CUTOFF</th>\n",
       "      <th>Censored</th>\n",
       "      <th>Race</th>\n",
       "      <th>age</th>\n",
       "      <th>Age_Range</th>\n",
       "      <th>Lung_Duration</th>\n",
       "    </tr>\n",
       "  </thead>\n",
       "  <tbody>\n",
       "    <tr>\n",
       "      <th>0</th>\n",
       "      <td>1959-12-02</td>\n",
       "      <td>2016-08-25</td>\n",
       "      <td>Male</td>\n",
       "      <td>1</td>\n",
       "      <td>2013-09-01</td>\n",
       "      <td>2016-08-25</td>\n",
       "      <td>1</td>\n",
       "      <td>Black/African-American</td>\n",
       "      <td>57</td>\n",
       "      <td>51-60</td>\n",
       "      <td>1089</td>\n",
       "    </tr>\n",
       "    <tr>\n",
       "      <th>1</th>\n",
       "      <td>1955-11-18</td>\n",
       "      <td>2016-04-20</td>\n",
       "      <td>Male</td>\n",
       "      <td>1</td>\n",
       "      <td>2016-04-02</td>\n",
       "      <td>2016-08-25</td>\n",
       "      <td>0</td>\n",
       "      <td>Black/African-American</td>\n",
       "      <td>60</td>\n",
       "      <td>51-60</td>\n",
       "      <td>18</td>\n",
       "    </tr>\n",
       "    <tr>\n",
       "      <th>2</th>\n",
       "      <td>1946-01-14</td>\n",
       "      <td>2015-05-25</td>\n",
       "      <td>Female</td>\n",
       "      <td>1</td>\n",
       "      <td>2015-04-11</td>\n",
       "      <td>2016-08-25</td>\n",
       "      <td>0</td>\n",
       "      <td>Black/African-American</td>\n",
       "      <td>69</td>\n",
       "      <td>61-70</td>\n",
       "      <td>44</td>\n",
       "    </tr>\n",
       "    <tr>\n",
       "      <th>9</th>\n",
       "      <td>1957-10-18</td>\n",
       "      <td>2016-08-25</td>\n",
       "      <td>Male</td>\n",
       "      <td>1</td>\n",
       "      <td>2012-11-29</td>\n",
       "      <td>2016-08-25</td>\n",
       "      <td>1</td>\n",
       "      <td>Black/African-American</td>\n",
       "      <td>59</td>\n",
       "      <td>51-60</td>\n",
       "      <td>1365</td>\n",
       "    </tr>\n",
       "    <tr>\n",
       "      <th>12</th>\n",
       "      <td>1940-02-04</td>\n",
       "      <td>2016-08-25</td>\n",
       "      <td>Male</td>\n",
       "      <td>1</td>\n",
       "      <td>2013-05-21</td>\n",
       "      <td>2016-08-25</td>\n",
       "      <td>1</td>\n",
       "      <td>Black/African-American</td>\n",
       "      <td>77</td>\n",
       "      <td>71-80</td>\n",
       "      <td>1192</td>\n",
       "    </tr>\n",
       "  </tbody>\n",
       "</table>\n",
       "</div>"
      ],
      "text/plain": [
       "   BIRTH_DATE_off DEATH_DATE_off     sex  LUNG    LUNG_DT DATE_CUTOFF  \\\n",
       "0      1959-12-02     2016-08-25    Male     1 2013-09-01  2016-08-25   \n",
       "1      1955-11-18     2016-04-20    Male     1 2016-04-02  2016-08-25   \n",
       "2      1946-01-14     2015-05-25  Female     1 2015-04-11  2016-08-25   \n",
       "9      1957-10-18     2016-08-25    Male     1 2012-11-29  2016-08-25   \n",
       "12     1940-02-04     2016-08-25    Male     1 2013-05-21  2016-08-25   \n",
       "\n",
       "    Censored                    Race  age Age_Range  Lung_Duration  \n",
       "0          1  Black/African-American   57     51-60           1089  \n",
       "1          0  Black/African-American   60     51-60             18  \n",
       "2          0  Black/African-American   69     61-70             44  \n",
       "9          1  Black/African-American   59     51-60           1365  \n",
       "12         1  Black/African-American   77     71-80           1192  "
      ]
     },
     "execution_count": 36,
     "metadata": {},
     "output_type": "execute_result"
    }
   ],
   "source": [
    "df_Lung.head()"
   ]
  },
  {
   "cell_type": "markdown",
   "metadata": {},
   "source": [
    "### survival rate by gender"
   ]
  },
  {
   "cell_type": "code",
   "execution_count": 37,
   "metadata": {},
   "outputs": [
    {
     "data": {
      "image/png": "[encoded data removed]",
      "text/plain": [
       "<Figure size 432x288 with 1 Axes>"
      ]
     },
     "metadata": {
      "needs_background": "light"
     },
     "output_type": "display_data"
    }
   ],
   "source": [
    "kmf = KaplanMeierFitter()\n",
    "\n",
    "T = df_Lung['Lung_Duration']\n",
    "E = df_Lung['Censored']\n",
    "\n",
    "\n",
    "groups = df_Lung['sex']\n",
    "\n",
    "ix1 = (groups == 'Male')\n",
    "ix2 = (groups == 'Female')\n",
    "\n",
    "kmf.fit(T[ix1], E[ix1], label='Male')    ## fit the cohort 1 data\n",
    "ax = kmf.plot()\n",
    "\n",
    "\n",
    "kmf.fit(T[ix2], E[ix2], label='Female')         ## fit the cohort 2 data\n",
    "ax1 = kmf.plot(ax=ax)\n"
   ]
  },
  {
   "cell_type": "markdown",
   "metadata": {},
   "source": [
    "### survival rate by race"
   ]
  },
  {
   "cell_type": "code",
   "execution_count": 38,
   "metadata": {},
   "outputs": [
    {
     "data": {
      "image/png": "[encoded data removed]",
      "text/plain": [
       "<Figure size 432x288 with 1 Axes>"
      ]
     },
     "metadata": {
      "needs_background": "light"
     },
     "output_type": "display_data"
    }
   ],
   "source": [
    "kmf = KaplanMeierFitter()\n",
    "\n",
    "T = df_Lung['Lung_Duration']\n",
    "E = df_Lung['Censored']\n",
    "\n",
    "\n",
    "groups =  df_Lung['Race']\n",
    "\n",
    "ix1 = (groups == 'Black/African-American')\n",
    "ix2 = (groups == 'White')\n",
    "ix3 = (groups == 'Asian/Mideast Indian')\n",
    "ix4 = (groups == 'Other')\n",
    "\n",
    "kmf.fit(T[ix1], E[ix1], label='Black/African-American')    \n",
    "ax = kmf.plot()\n",
    "\n",
    "\n",
    "kmf.fit(T[ix2], E[ix2], label='White')       \n",
    "ax1 = kmf.plot(ax=ax)\n",
    "\n",
    "kmf.fit(T[ix3], E[ix3], label='Asian/Mideast Indian')    \n",
    "ax2 = kmf.plot(ax=ax)\n",
    "\n",
    "\n",
    "kmf.fit(T[ix4], E[ix4], label='Other')         \n",
    "ax3 = kmf.plot(ax=ax)\n",
    "\n",
    "                  "
   ]
  },
  {
   "cell_type": "markdown",
   "metadata": {},
   "source": [
    "### survival rate by age group "
   ]
  },
  {
   "cell_type": "code",
   "execution_count": 39,
   "metadata": {},
   "outputs": [
    {
     "data": {
      "text/plain": [
       "61-70     469\n",
       "71-80     463\n",
       "51-60     253\n",
       "81-90     202\n",
       "41-50      53\n",
       "91-100     24\n",
       "31-40      10\n",
       "21-30       6\n",
       "100+        1\n",
       "11-20       1\n",
       "<10         1\n",
       "Name: Age_Range, dtype: int64"
      ]
     },
     "execution_count": 39,
     "metadata": {},
     "output_type": "execute_result"
    }
   ],
   "source": [
    "df_Lung['Age_Range'].value_counts()"
   ]
  },
  {
   "cell_type": "code",
   "execution_count": 40,
   "metadata": {},
   "outputs": [
    {
     "data": {
      "image/png": "[encoded data removed]",
      "text/plain": [
       "<Figure size 432x288 with 1 Axes>"
      ]
     },
     "metadata": {
      "needs_background": "light"
     },
     "output_type": "display_data"
    }
   ],
   "source": [
    "kmf = KaplanMeierFitter()\n",
    "\n",
    "T = df_Lung['Lung_Duration']\n",
    "E = df_Lung['Censored']\n",
    "\n",
    "\n",
    "groups =  df_Lung['Age_Range']\n",
    "\n",
    "ix1 = (groups == '<10')\n",
    "ix2 = (groups == '11-20')\n",
    "ix3 = (groups == '21-30')\n",
    "ix4 = (groups == '31-40')\n",
    "ix5 = (groups == '41-50')\n",
    "ix6 = (groups == '51-60')\n",
    "ix7 = (groups == '61-70')\n",
    "ix8 = (groups == '71-80')\n",
    "ix9 = (groups == '81-90')\n",
    "ix10 = (groups == '91-100')\n",
    "ix11 = (groups == '100+')\n",
    "\n",
    "kmf.fit(T[ix1], E[ix1], label='<10')    \n",
    "ax = kmf.plot()\n",
    "\n",
    "\n",
    "kmf.fit(T[ix2], E[ix2], label='11-20')       \n",
    "ax1 = kmf.plot(ax=ax)\n",
    "\n",
    "kmf.fit(T[ix3], E[ix3], label='21-30')    \n",
    "ax2 = kmf.plot(ax=ax)\n",
    "\n",
    "\n",
    "kmf.fit(T[ix4], E[ix4], label='31-40')         \n",
    "ax3 = kmf.plot(ax=ax)\n",
    "\n",
    "kmf.fit(T[ix5], E[ix5], label='41-50')       \n",
    "ax4 = kmf.plot(ax=ax)\n",
    "\n",
    "kmf.fit(T[ix6], E[ix6], label='51-60')    \n",
    "ax5 = kmf.plot(ax=ax)\n",
    "\n",
    "\n",
    "kmf.fit(T[ix7], E[ix7], label='61-70')         \n",
    "ax6 = kmf.plot(ax=ax)\n",
    "\n",
    "kmf.fit(T[ix8], E[ix8], label='71-80')       \n",
    "ax7 = kmf.plot(ax=ax)\n",
    "\n",
    "kmf.fit(T[ix9], E[ix9], label='81-90')    \n",
    "ax8 = kmf.plot(ax=ax)\n",
    "\n",
    "\n",
    "kmf.fit(T[ix10], E[ix10], label='91-100')         \n",
    "ax9 = kmf.plot(ax=ax)\n",
    "\n",
    "kmf.fit(T[ix11], E[ix11], label='100+')         \n",
    "ax10 = kmf.plot(ax=ax)\n",
    "\n",
    "\n",
    "    "
   ]
  },
  {
   "cell_type": "code",
   "execution_count": null,
   "metadata": {},
   "outputs": [],
   "source": []
  },
  {
   "cell_type": "markdown",
   "metadata": {},
   "source": [
    "# PANCREAS"
   ]
  },
  {
   "cell_type": "code",
   "execution_count": 41,
   "metadata": {},
   "outputs": [],
   "source": [
    "df_Pancreas = df_sub[['BIRTH_DATE_off', 'DEATH_DATE_off', 'sex', 'PANCREAS','PANCREAS_DT', 'DATE_CUTOFF', 'Censored',\n",
    "       'Race', 'age', 'Age_Range']]"
   ]
  },
  {
   "cell_type": "code",
   "execution_count": 42,
   "metadata": {},
   "outputs": [],
   "source": [
    "df_Pancreas = df_Pancreas.dropna()"
   ]
  },
  {
   "cell_type": "code",
   "execution_count": 43,
   "metadata": {},
   "outputs": [],
   "source": [
    "df_Pancreas['Pancreas_Duration'] = (df_Pancreas['DEATH_DATE_off'] - df_Pancreas['PANCREAS_DT']).dt.days.astype(int)"
   ]
  },
  {
   "cell_type": "code",
   "execution_count": null,
   "metadata": {
    "scrolled": true
   },
   "outputs": [],
   "source": []
  },
  {
   "cell_type": "markdown",
   "metadata": {},
   "source": [
    "### Survival rate by Gender"
   ]
  },
  {
   "cell_type": "code",
   "execution_count": 44,
   "metadata": {},
   "outputs": [
    {
     "data": {
      "image/png": "[encoded data removed]",
      "text/plain": [
       "<Figure size 432x288 with 1 Axes>"
      ]
     },
     "metadata": {
      "needs_background": "light"
     },
     "output_type": "display_data"
    }
   ],
   "source": [
    "kmf = KaplanMeierFitter()\n",
    "\n",
    "T = df_Pancreas['Pancreas_Duration']\n",
    "E = df_Pancreas['Censored']\n",
    "\n",
    "\n",
    "groups = df_Pancreas['sex']\n",
    "\n",
    "ix1 = (groups == 'Male')\n",
    "ix2 = (groups == 'Female')\n",
    "\n",
    "kmf.fit(T[ix1], E[ix1], label='Male')    \n",
    "ax = kmf.plot()\n",
    "\n",
    "\n",
    "kmf.fit(T[ix2], E[ix2], label='Female')       \n",
    "ax1 = kmf.plot(ax=ax)\n"
   ]
  },
  {
   "cell_type": "markdown",
   "metadata": {},
   "source": [
    "### Survival rate by Race"
   ]
  },
  {
   "cell_type": "code",
   "execution_count": 45,
   "metadata": {},
   "outputs": [
    {
     "data": {
      "image/png": "[encoded data removed]",
      "text/plain": [
       "<Figure size 432x288 with 1 Axes>"
      ]
     },
     "metadata": {
      "needs_background": "light"
     },
     "output_type": "display_data"
    }
   ],
   "source": [
    "kmf = KaplanMeierFitter()\n",
    "\n",
    "T = df_Pancreas['Pancreas_Duration']\n",
    "E = df_Pancreas['Censored']\n",
    "\n",
    "\n",
    "groups =  df_Pancreas['Race']\n",
    "\n",
    "ix1 = (groups == 'Black/African-American')\n",
    "ix2 = (groups == 'White')\n",
    "ix3 = (groups == 'Asian/Mideast Indian')\n",
    "ix4 = (groups == 'Other')\n",
    "\n",
    "kmf.fit(T[ix1], E[ix1], label='Black/African-American')    \n",
    "ax = kmf.plot()\n",
    "\n",
    "\n",
    "kmf.fit(T[ix2], E[ix2], label='White')       \n",
    "ax1 = kmf.plot(ax=ax)\n",
    "\n",
    "kmf.fit(T[ix3], E[ix3], label='Asian/Mideast Indian')    \n",
    "ax2 = kmf.plot(ax=ax)\n",
    "\n",
    "\n",
    "kmf.fit(T[ix4], E[ix4], label='Other')         \n",
    "ax3 = kmf.plot(ax=ax)\n",
    "\n",
    "                  "
   ]
  },
  {
   "cell_type": "markdown",
   "metadata": {},
   "source": [
    "### Survival rate by Race"
   ]
  },
  {
   "cell_type": "code",
   "execution_count": 46,
   "metadata": {},
   "outputs": [
    {
     "data": {
      "text/plain": [
       "61-70     213\n",
       "71-80     186\n",
       "51-60     110\n",
       "81-90     100\n",
       "41-50      25\n",
       "91-100     14\n",
       "31-40       7\n",
       "21-30       3\n",
       "100+        0\n",
       "11-20       0\n",
       "<10         0\n",
       "Name: Age_Range, dtype: int64"
      ]
     },
     "execution_count": 46,
     "metadata": {},
     "output_type": "execute_result"
    }
   ],
   "source": [
    "df_Pancreas['Age_Range'].value_counts()"
   ]
  },
  {
   "cell_type": "code",
   "execution_count": 47,
   "metadata": {},
   "outputs": [
    {
     "data": {
      "image/png": "[encoded data removed]",
      "text/plain": [
       "<Figure size 432x288 with 1 Axes>"
      ]
     },
     "metadata": {
      "needs_background": "light"
     },
     "output_type": "display_data"
    }
   ],
   "source": [
    "kmf = KaplanMeierFitter()\n",
    "\n",
    "T = df_Pancreas['Pancreas_Duration']\n",
    "E = df_Pancreas['Censored']\n",
    "\n",
    "\n",
    "groups =  df_Pancreas['Age_Range']\n",
    "\n",
    "#ix1 = (groups == '<10')\n",
    "#ix2 = (groups == '11-20')\n",
    "ix3 = (groups == '21-30')\n",
    "ix4 = (groups == '31-40')\n",
    "ix5 = (groups == '41-50')\n",
    "ix6 = (groups == '51-60')\n",
    "ix7 = (groups == '61-70')\n",
    "ix8 = (groups == '71-80')\n",
    "ix9 = (groups == '81-90')\n",
    "ix10 = (groups == '91-100')\n",
    "#ix11 = (groups == '100+')\n",
    "\n",
    "#kmf.fit(T[ix1], E[ix1], label='<10')    \n",
    "#ax = kmf.plot()\n",
    "\n",
    "\n",
    "#kmf.fit(T[ix2], E[ix2], label='11-20')       \n",
    "#ax1 = kmf.plot(ax=ax)\n",
    "\n",
    "kmf.fit(T[ix3], E[ix3], label='21-30')    \n",
    "ax = kmf.plot()\n",
    "\n",
    "\n",
    "kmf.fit(T[ix4], E[ix4], label='31-40')         \n",
    "ax3 = kmf.plot(ax=ax)\n",
    "\n",
    "kmf.fit(T[ix5], E[ix5], label='41-50')       \n",
    "ax4 = kmf.plot(ax=ax)\n",
    "\n",
    "kmf.fit(T[ix6], E[ix6], label='51-60')    \n",
    "ax5 = kmf.plot(ax=ax)\n",
    "\n",
    "\n",
    "kmf.fit(T[ix7], E[ix7], label='61-70')         \n",
    "ax6 = kmf.plot(ax=ax)\n",
    "\n",
    "kmf.fit(T[ix8], E[ix8], label='71-80')       \n",
    "ax7 = kmf.plot(ax=ax)\n",
    "\n",
    "kmf.fit(T[ix9], E[ix9], label='81-90')    \n",
    "ax8 = kmf.plot(ax=ax)\n",
    "\n",
    "\n",
    "kmf.fit(T[ix10], E[ix10], label='91-100')         \n",
    "ax9 = kmf.plot(ax=ax)\n",
    "\n",
    "#kmf.fit(T[ix11], E[ix11], label='100+')         \n",
    "#ax10 = kmf.plot(ax=ax)\n",
    "\n",
    "\n",
    "    "
   ]
  },
  {
   "cell_type": "code",
   "execution_count": null,
   "metadata": {},
   "outputs": [],
   "source": []
  },
  {
   "cell_type": "markdown",
   "metadata": {},
   "source": [
    "# THYROID"
   ]
  },
  {
   "cell_type": "code",
   "execution_count": 48,
   "metadata": {},
   "outputs": [
    {
     "data": {
      "text/plain": [
       "Index(['BIRTH_DATE_off', 'DEATH_DATE_off', 'sex', 'race', 'LUNG', 'PANCREAS',\n",
       "       'THYROID', 'COLORECTAL', 'MELANOMA', 'LUNG_DT', 'PANCREAS_DT',\n",
       "       'THYROID_DT', 'COLORECTAL_DT', 'MELANOMA_DT', 'DATE_CUTOFF', 'Censored',\n",
       "       'Race', 'age', 'Age_Range'],\n",
       "      dtype='object')"
      ]
     },
     "execution_count": 48,
     "metadata": {},
     "output_type": "execute_result"
    }
   ],
   "source": [
    "df_sub.columns"
   ]
  },
  {
   "cell_type": "code",
   "execution_count": 49,
   "metadata": {},
   "outputs": [],
   "source": [
    "## THYROID Data"
   ]
  },
  {
   "cell_type": "code",
   "execution_count": 50,
   "metadata": {},
   "outputs": [],
   "source": [
    "df_Thyroid = df_sub[['BIRTH_DATE_off', 'DEATH_DATE_off', 'sex', 'THYROID','THYROID_DT', 'DATE_CUTOFF', 'Censored',\n",
    "       'Race', 'age', 'Age_Range']]"
   ]
  },
  {
   "cell_type": "code",
   "execution_count": 51,
   "metadata": {},
   "outputs": [
    {
     "data": {
      "text/html": [
       "<div>\n",
       "<style scoped>\n",
       "    .dataframe tbody tr th:only-of-type {\n",
       "        vertical-align: middle;\n",
       "    }\n",
       "\n",
       "    .dataframe tbody tr th {\n",
       "        vertical-align: top;\n",
       "    }\n",
       "\n",
       "    .dataframe thead th {\n",
       "        text-align: right;\n",
       "    }\n",
       "</style>\n",
       "<table border=\"1\" class=\"dataframe\">\n",
       "  <thead>\n",
       "    <tr style=\"text-align: right;\">\n",
       "      <th></th>\n",
       "      <th>BIRTH_DATE_off</th>\n",
       "      <th>DEATH_DATE_off</th>\n",
       "      <th>sex</th>\n",
       "      <th>THYROID</th>\n",
       "      <th>THYROID_DT</th>\n",
       "      <th>DATE_CUTOFF</th>\n",
       "      <th>Censored</th>\n",
       "      <th>Race</th>\n",
       "      <th>age</th>\n",
       "      <th>Age_Range</th>\n",
       "    </tr>\n",
       "  </thead>\n",
       "  <tbody>\n",
       "    <tr>\n",
       "      <th>0</th>\n",
       "      <td>1959-12-02</td>\n",
       "      <td>2016-08-25</td>\n",
       "      <td>Male</td>\n",
       "      <td>0</td>\n",
       "      <td>NaT</td>\n",
       "      <td>2016-08-25</td>\n",
       "      <td>1</td>\n",
       "      <td>Black/African-American</td>\n",
       "      <td>57</td>\n",
       "      <td>51-60</td>\n",
       "    </tr>\n",
       "    <tr>\n",
       "      <th>1</th>\n",
       "      <td>1955-11-18</td>\n",
       "      <td>2016-04-20</td>\n",
       "      <td>Male</td>\n",
       "      <td>0</td>\n",
       "      <td>NaT</td>\n",
       "      <td>2016-08-25</td>\n",
       "      <td>0</td>\n",
       "      <td>Black/African-American</td>\n",
       "      <td>60</td>\n",
       "      <td>51-60</td>\n",
       "    </tr>\n",
       "    <tr>\n",
       "      <th>2</th>\n",
       "      <td>1946-01-14</td>\n",
       "      <td>2015-05-25</td>\n",
       "      <td>Female</td>\n",
       "      <td>0</td>\n",
       "      <td>NaT</td>\n",
       "      <td>2016-08-25</td>\n",
       "      <td>0</td>\n",
       "      <td>Black/African-American</td>\n",
       "      <td>69</td>\n",
       "      <td>61-70</td>\n",
       "    </tr>\n",
       "    <tr>\n",
       "      <th>6</th>\n",
       "      <td>1946-11-03</td>\n",
       "      <td>2016-08-25</td>\n",
       "      <td>Female</td>\n",
       "      <td>1</td>\n",
       "      <td>2012-11-29</td>\n",
       "      <td>2016-08-25</td>\n",
       "      <td>1</td>\n",
       "      <td>Black/African-American</td>\n",
       "      <td>70</td>\n",
       "      <td>61-70</td>\n",
       "    </tr>\n",
       "    <tr>\n",
       "      <th>7</th>\n",
       "      <td>1938-06-10</td>\n",
       "      <td>2016-08-25</td>\n",
       "      <td>Female</td>\n",
       "      <td>1</td>\n",
       "      <td>2012-06-24</td>\n",
       "      <td>2016-08-25</td>\n",
       "      <td>1</td>\n",
       "      <td>Black/African-American</td>\n",
       "      <td>78</td>\n",
       "      <td>71-80</td>\n",
       "    </tr>\n",
       "  </tbody>\n",
       "</table>\n",
       "</div>"
      ],
      "text/plain": [
       "  BIRTH_DATE_off DEATH_DATE_off     sex  THYROID THYROID_DT DATE_CUTOFF  \\\n",
       "0     1959-12-02     2016-08-25    Male        0        NaT  2016-08-25   \n",
       "1     1955-11-18     2016-04-20    Male        0        NaT  2016-08-25   \n",
       "2     1946-01-14     2015-05-25  Female        0        NaT  2016-08-25   \n",
       "6     1946-11-03     2016-08-25  Female        1 2012-11-29  2016-08-25   \n",
       "7     1938-06-10     2016-08-25  Female        1 2012-06-24  2016-08-25   \n",
       "\n",
       "   Censored                    Race  age Age_Range  \n",
       "0         1  Black/African-American   57     51-60  \n",
       "1         0  Black/African-American   60     51-60  \n",
       "2         0  Black/African-American   69     61-70  \n",
       "6         1  Black/African-American   70     61-70  \n",
       "7         1  Black/African-American   78     71-80  "
      ]
     },
     "execution_count": 51,
     "metadata": {},
     "output_type": "execute_result"
    }
   ],
   "source": [
    "df_Thyroid.head()"
   ]
  },
  {
   "cell_type": "code",
   "execution_count": 52,
   "metadata": {},
   "outputs": [
    {
     "data": {
      "text/plain": [
       "BIRTH_DATE_off       0\n",
       "DEATH_DATE_off       0\n",
       "sex                  0\n",
       "THYROID              0\n",
       "THYROID_DT        3404\n",
       "DATE_CUTOFF          0\n",
       "Censored             0\n",
       "Race                 0\n",
       "age                  0\n",
       "Age_Range            0\n",
       "dtype: int64"
      ]
     },
     "execution_count": 52,
     "metadata": {},
     "output_type": "execute_result"
    }
   ],
   "source": [
    "df_Thyroid.isnull().sum()"
   ]
  },
  {
   "cell_type": "code",
   "execution_count": 53,
   "metadata": {},
   "outputs": [],
   "source": [
    "df_Thyroid=df_Thyroid.dropna()\n"
   ]
  },
  {
   "cell_type": "code",
   "execution_count": 54,
   "metadata": {},
   "outputs": [],
   "source": [
    "df_Thyroid['Thyroid_Duration'] = (df_Thyroid['DEATH_DATE_off'] - df_Thyroid['THYROID_DT']).dt.days.astype(int)"
   ]
  },
  {
   "cell_type": "code",
   "execution_count": 55,
   "metadata": {},
   "outputs": [
    {
     "data": {
      "text/html": [
       "<div>\n",
       "<style scoped>\n",
       "    .dataframe tbody tr th:only-of-type {\n",
       "        vertical-align: middle;\n",
       "    }\n",
       "\n",
       "    .dataframe tbody tr th {\n",
       "        vertical-align: top;\n",
       "    }\n",
       "\n",
       "    .dataframe thead th {\n",
       "        text-align: right;\n",
       "    }\n",
       "</style>\n",
       "<table border=\"1\" class=\"dataframe\">\n",
       "  <thead>\n",
       "    <tr style=\"text-align: right;\">\n",
       "      <th></th>\n",
       "      <th>BIRTH_DATE_off</th>\n",
       "      <th>DEATH_DATE_off</th>\n",
       "      <th>sex</th>\n",
       "      <th>THYROID</th>\n",
       "      <th>THYROID_DT</th>\n",
       "      <th>DATE_CUTOFF</th>\n",
       "      <th>Censored</th>\n",
       "      <th>Race</th>\n",
       "      <th>age</th>\n",
       "      <th>Age_Range</th>\n",
       "      <th>Thyroid_Duration</th>\n",
       "    </tr>\n",
       "  </thead>\n",
       "  <tbody>\n",
       "    <tr>\n",
       "      <th>6</th>\n",
       "      <td>1946-11-03</td>\n",
       "      <td>2016-08-25</td>\n",
       "      <td>Female</td>\n",
       "      <td>1</td>\n",
       "      <td>2012-11-29</td>\n",
       "      <td>2016-08-25</td>\n",
       "      <td>1</td>\n",
       "      <td>Black/African-American</td>\n",
       "      <td>70</td>\n",
       "      <td>61-70</td>\n",
       "      <td>1365</td>\n",
       "    </tr>\n",
       "    <tr>\n",
       "      <th>7</th>\n",
       "      <td>1938-06-10</td>\n",
       "      <td>2016-08-25</td>\n",
       "      <td>Female</td>\n",
       "      <td>1</td>\n",
       "      <td>2012-06-24</td>\n",
       "      <td>2016-08-25</td>\n",
       "      <td>1</td>\n",
       "      <td>Black/African-American</td>\n",
       "      <td>78</td>\n",
       "      <td>71-80</td>\n",
       "      <td>1523</td>\n",
       "    </tr>\n",
       "    <tr>\n",
       "      <th>28</th>\n",
       "      <td>1948-02-17</td>\n",
       "      <td>2016-08-25</td>\n",
       "      <td>Female</td>\n",
       "      <td>1</td>\n",
       "      <td>2012-09-02</td>\n",
       "      <td>2016-08-25</td>\n",
       "      <td>1</td>\n",
       "      <td>Black/African-American</td>\n",
       "      <td>69</td>\n",
       "      <td>61-70</td>\n",
       "      <td>1453</td>\n",
       "    </tr>\n",
       "    <tr>\n",
       "      <th>32</th>\n",
       "      <td>1949-09-04</td>\n",
       "      <td>2016-08-25</td>\n",
       "      <td>Female</td>\n",
       "      <td>1</td>\n",
       "      <td>2014-03-19</td>\n",
       "      <td>2016-08-25</td>\n",
       "      <td>1</td>\n",
       "      <td>White</td>\n",
       "      <td>67</td>\n",
       "      <td>61-70</td>\n",
       "      <td>890</td>\n",
       "    </tr>\n",
       "    <tr>\n",
       "      <th>98</th>\n",
       "      <td>1949-12-15</td>\n",
       "      <td>2016-08-25</td>\n",
       "      <td>Female</td>\n",
       "      <td>1</td>\n",
       "      <td>2013-02-26</td>\n",
       "      <td>2016-08-25</td>\n",
       "      <td>1</td>\n",
       "      <td>Black/African-American</td>\n",
       "      <td>67</td>\n",
       "      <td>61-70</td>\n",
       "      <td>1276</td>\n",
       "    </tr>\n",
       "  </tbody>\n",
       "</table>\n",
       "</div>"
      ],
      "text/plain": [
       "   BIRTH_DATE_off DEATH_DATE_off     sex  THYROID THYROID_DT DATE_CUTOFF  \\\n",
       "6      1946-11-03     2016-08-25  Female        1 2012-11-29  2016-08-25   \n",
       "7      1938-06-10     2016-08-25  Female        1 2012-06-24  2016-08-25   \n",
       "28     1948-02-17     2016-08-25  Female        1 2012-09-02  2016-08-25   \n",
       "32     1949-09-04     2016-08-25  Female        1 2014-03-19  2016-08-25   \n",
       "98     1949-12-15     2016-08-25  Female        1 2013-02-26  2016-08-25   \n",
       "\n",
       "    Censored                    Race  age Age_Range  Thyroid_Duration  \n",
       "6          1  Black/African-American   70     61-70              1365  \n",
       "7          1  Black/African-American   78     71-80              1523  \n",
       "28         1  Black/African-American   69     61-70              1453  \n",
       "32         1                   White   67     61-70               890  \n",
       "98         1  Black/African-American   67     61-70              1276  "
      ]
     },
     "execution_count": 55,
     "metadata": {},
     "output_type": "execute_result"
    }
   ],
   "source": [
    "df_Thyroid.head()"
   ]
  },
  {
   "cell_type": "markdown",
   "metadata": {},
   "source": [
    "### survival rate by gender"
   ]
  },
  {
   "cell_type": "code",
   "execution_count": 56,
   "metadata": {},
   "outputs": [
    {
     "data": {
      "image/png": "[encoded data removed]",
      "text/plain": [
       "<Figure size 432x288 with 1 Axes>"
      ]
     },
     "metadata": {
      "needs_background": "light"
     },
     "output_type": "display_data"
    }
   ],
   "source": [
    "kmf = KaplanMeierFitter()\n",
    "\n",
    "T = df_Thyroid['Thyroid_Duration']\n",
    "E = df_Thyroid['Censored']\n",
    "\n",
    "\n",
    "groups = df_Thyroid['sex']\n",
    "\n",
    "ix1 = (groups == 'Male')\n",
    "ix2 = (groups == 'Female')\n",
    "\n",
    "kmf.fit(T[ix1], E[ix1], label='Male')    \n",
    "ax = kmf.plot()\n",
    "\n",
    "\n",
    "kmf.fit(T[ix2], E[ix2], label='Female')        \n",
    "ax1 = kmf.plot(ax=ax)\n"
   ]
  },
  {
   "cell_type": "markdown",
   "metadata": {},
   "source": [
    "### survival rate by race"
   ]
  },
  {
   "cell_type": "code",
   "execution_count": 57,
   "metadata": {},
   "outputs": [
    {
     "data": {
      "image/png": "[encoded data removed]",
      "text/plain": [
       "<Figure size 432x288 with 1 Axes>"
      ]
     },
     "metadata": {
      "needs_background": "light"
     },
     "output_type": "display_data"
    }
   ],
   "source": [
    "kmf = KaplanMeierFitter()\n",
    "\n",
    "T = df_Thyroid['Thyroid_Duration']\n",
    "E = df_Thyroid['Censored']\n",
    "\n",
    "\n",
    "groups =  df_Thyroid['Race']\n",
    "\n",
    "ix1 = (groups == 'Black/African-American')\n",
    "ix2 = (groups == 'White')\n",
    "ix3 = (groups == 'Asian/Mideast Indian')\n",
    "ix4 = (groups == 'Other')\n",
    "\n",
    "kmf.fit(T[ix1], E[ix1], label='Black/African-American')    \n",
    "ax = kmf.plot()\n",
    "\n",
    "\n",
    "kmf.fit(T[ix2], E[ix2], label='White')       \n",
    "ax1 = kmf.plot(ax=ax)\n",
    "\n",
    "kmf.fit(T[ix3], E[ix3], label='Asian/Mideast Indian')    \n",
    "ax2 = kmf.plot(ax=ax)\n",
    "\n",
    "\n",
    "kmf.fit(T[ix4], E[ix4], label='Other')         \n",
    "ax3 = kmf.plot(ax=ax)\n",
    "\n",
    "                  "
   ]
  },
  {
   "cell_type": "markdown",
   "metadata": {},
   "source": [
    "### survival rate by age group "
   ]
  },
  {
   "cell_type": "code",
   "execution_count": 58,
   "metadata": {},
   "outputs": [
    {
     "data": {
      "text/plain": [
       "61-70     175\n",
       "51-60     168\n",
       "41-50     141\n",
       "31-40     104\n",
       "71-80      71\n",
       "21-30      44\n",
       "11-20      23\n",
       "81-90      17\n",
       "<10         1\n",
       "100+        0\n",
       "91-100      0\n",
       "Name: Age_Range, dtype: int64"
      ]
     },
     "execution_count": 58,
     "metadata": {},
     "output_type": "execute_result"
    }
   ],
   "source": [
    "df_Thyroid['Age_Range'].value_counts()"
   ]
  },
  {
   "cell_type": "code",
   "execution_count": 59,
   "metadata": {},
   "outputs": [
    {
     "data": {
      "image/png": "[encoded data removed]",
      "text/plain": [
       "<Figure size 432x288 with 1 Axes>"
      ]
     },
     "metadata": {
      "needs_background": "light"
     },
     "output_type": "display_data"
    }
   ],
   "source": [
    "kmf = KaplanMeierFitter()\n",
    "\n",
    "T = df_Thyroid['Thyroid_Duration']\n",
    "E = df_Thyroid['Censored']\n",
    "\n",
    "\n",
    "groups =  df_Thyroid['Age_Range']\n",
    "\n",
    "ix1 = (groups == '<10')\n",
    "ix2 = (groups == '11-20')\n",
    "ix3 = (groups == '21-30')\n",
    "ix4 = (groups == '31-40')\n",
    "ix5 = (groups == '41-50')\n",
    "ix6 = (groups == '51-60')\n",
    "ix7 = (groups == '61-70')\n",
    "ix8 = (groups == '71-80')\n",
    "ix9 = (groups == '81-90')\n",
    "#ix10 = (groups == '91-100')\n",
    "#ix11 = (groups == '100+')\n",
    "\n",
    "kmf.fit(T[ix1], E[ix1], label='<10')    \n",
    "ax = kmf.plot()\n",
    "\n",
    "\n",
    "kmf.fit(T[ix2], E[ix2], label='11-20')       \n",
    "ax1 = kmf.plot(ax=ax)\n",
    "\n",
    "kmf.fit(T[ix3], E[ix3], label='21-30')    \n",
    "ax2 = kmf.plot(ax=ax)\n",
    "\n",
    "\n",
    "kmf.fit(T[ix4], E[ix4], label='31-40')         \n",
    "ax3 = kmf.plot(ax=ax)\n",
    "\n",
    "kmf.fit(T[ix5], E[ix5], label='41-50')       \n",
    "ax4 = kmf.plot(ax=ax)\n",
    "\n",
    "kmf.fit(T[ix6], E[ix6], label='51-60')    \n",
    "ax5 = kmf.plot(ax=ax)\n",
    "\n",
    "\n",
    "kmf.fit(T[ix7], E[ix7], label='61-70')         \n",
    "ax6 = kmf.plot(ax=ax)\n",
    "\n",
    "kmf.fit(T[ix8], E[ix8], label='71-80')       \n",
    "ax7 = kmf.plot(ax=ax)\n",
    "\n",
    "kmf.fit(T[ix9], E[ix9], label='81-90')    \n",
    "ax8 = kmf.plot(ax=ax)\n",
    "\n",
    "\n",
    "\n",
    "    "
   ]
  },
  {
   "cell_type": "code",
   "execution_count": null,
   "metadata": {},
   "outputs": [],
   "source": []
  },
  {
   "cell_type": "markdown",
   "metadata": {},
   "source": [
    "# COLORECTAL"
   ]
  },
  {
   "cell_type": "code",
   "execution_count": 60,
   "metadata": {},
   "outputs": [
    {
     "data": {
      "text/plain": [
       "Index(['BIRTH_DATE_off', 'DEATH_DATE_off', 'sex', 'race', 'LUNG', 'PANCREAS',\n",
       "       'THYROID', 'COLORECTAL', 'MELANOMA', 'LUNG_DT', 'PANCREAS_DT',\n",
       "       'THYROID_DT', 'COLORECTAL_DT', 'MELANOMA_DT', 'DATE_CUTOFF', 'Censored',\n",
       "       'Race', 'age', 'Age_Range'],\n",
       "      dtype='object')"
      ]
     },
     "execution_count": 60,
     "metadata": {},
     "output_type": "execute_result"
    }
   ],
   "source": [
    "df_sub.columns"
   ]
  },
  {
   "cell_type": "code",
   "execution_count": 62,
   "metadata": {},
   "outputs": [],
   "source": [
    "df_Colorectal = df_sub[['BIRTH_DATE_off', 'DEATH_DATE_off', 'sex', 'COLORECTAL','COLORECTAL_DT', 'DATE_CUTOFF', 'Censored',\n",
    "       'Race', 'age', 'Age_Range']]"
   ]
  },
  {
   "cell_type": "code",
   "execution_count": 63,
   "metadata": {},
   "outputs": [
    {
     "data": {
      "text/html": [
       "<div>\n",
       "<style scoped>\n",
       "    .dataframe tbody tr th:only-of-type {\n",
       "        vertical-align: middle;\n",
       "    }\n",
       "\n",
       "    .dataframe tbody tr th {\n",
       "        vertical-align: top;\n",
       "    }\n",
       "\n",
       "    .dataframe thead th {\n",
       "        text-align: right;\n",
       "    }\n",
       "</style>\n",
       "<table border=\"1\" class=\"dataframe\">\n",
       "  <thead>\n",
       "    <tr style=\"text-align: right;\">\n",
       "      <th></th>\n",
       "      <th>BIRTH_DATE_off</th>\n",
       "      <th>DEATH_DATE_off</th>\n",
       "      <th>sex</th>\n",
       "      <th>COLORECTAL</th>\n",
       "      <th>COLORECTAL_DT</th>\n",
       "      <th>DATE_CUTOFF</th>\n",
       "      <th>Censored</th>\n",
       "      <th>Race</th>\n",
       "      <th>age</th>\n",
       "      <th>Age_Range</th>\n",
       "    </tr>\n",
       "  </thead>\n",
       "  <tbody>\n",
       "    <tr>\n",
       "      <th>0</th>\n",
       "      <td>1959-12-02</td>\n",
       "      <td>2016-08-25</td>\n",
       "      <td>Male</td>\n",
       "      <td>0</td>\n",
       "      <td>NaT</td>\n",
       "      <td>2016-08-25</td>\n",
       "      <td>1</td>\n",
       "      <td>Black/African-American</td>\n",
       "      <td>57</td>\n",
       "      <td>51-60</td>\n",
       "    </tr>\n",
       "    <tr>\n",
       "      <th>1</th>\n",
       "      <td>1955-11-18</td>\n",
       "      <td>2016-04-20</td>\n",
       "      <td>Male</td>\n",
       "      <td>0</td>\n",
       "      <td>NaT</td>\n",
       "      <td>2016-08-25</td>\n",
       "      <td>0</td>\n",
       "      <td>Black/African-American</td>\n",
       "      <td>60</td>\n",
       "      <td>51-60</td>\n",
       "    </tr>\n",
       "    <tr>\n",
       "      <th>2</th>\n",
       "      <td>1946-01-14</td>\n",
       "      <td>2015-05-25</td>\n",
       "      <td>Female</td>\n",
       "      <td>0</td>\n",
       "      <td>NaT</td>\n",
       "      <td>2016-08-25</td>\n",
       "      <td>0</td>\n",
       "      <td>Black/African-American</td>\n",
       "      <td>69</td>\n",
       "      <td>61-70</td>\n",
       "    </tr>\n",
       "    <tr>\n",
       "      <th>6</th>\n",
       "      <td>1946-11-03</td>\n",
       "      <td>2016-08-25</td>\n",
       "      <td>Female</td>\n",
       "      <td>0</td>\n",
       "      <td>NaT</td>\n",
       "      <td>2016-08-25</td>\n",
       "      <td>1</td>\n",
       "      <td>Black/African-American</td>\n",
       "      <td>70</td>\n",
       "      <td>61-70</td>\n",
       "    </tr>\n",
       "    <tr>\n",
       "      <th>7</th>\n",
       "      <td>1938-06-10</td>\n",
       "      <td>2016-08-25</td>\n",
       "      <td>Female</td>\n",
       "      <td>0</td>\n",
       "      <td>NaT</td>\n",
       "      <td>2016-08-25</td>\n",
       "      <td>1</td>\n",
       "      <td>Black/African-American</td>\n",
       "      <td>78</td>\n",
       "      <td>71-80</td>\n",
       "    </tr>\n",
       "  </tbody>\n",
       "</table>\n",
       "</div>"
      ],
      "text/plain": [
       "  BIRTH_DATE_off DEATH_DATE_off     sex  COLORECTAL COLORECTAL_DT DATE_CUTOFF  \\\n",
       "0     1959-12-02     2016-08-25    Male           0           NaT  2016-08-25   \n",
       "1     1955-11-18     2016-04-20    Male           0           NaT  2016-08-25   \n",
       "2     1946-01-14     2015-05-25  Female           0           NaT  2016-08-25   \n",
       "6     1946-11-03     2016-08-25  Female           0           NaT  2016-08-25   \n",
       "7     1938-06-10     2016-08-25  Female           0           NaT  2016-08-25   \n",
       "\n",
       "   Censored                    Race  age Age_Range  \n",
       "0         1  Black/African-American   57     51-60  \n",
       "1         0  Black/African-American   60     51-60  \n",
       "2         0  Black/African-American   69     61-70  \n",
       "6         1  Black/African-American   70     61-70  \n",
       "7         1  Black/African-American   78     71-80  "
      ]
     },
     "execution_count": 63,
     "metadata": {},
     "output_type": "execute_result"
    }
   ],
   "source": [
    "df_Colorectal.head()"
   ]
  },
  {
   "cell_type": "code",
   "execution_count": 64,
   "metadata": {},
   "outputs": [
    {
     "data": {
      "text/plain": [
       "BIRTH_DATE_off       0\n",
       "DEATH_DATE_off       0\n",
       "sex                  0\n",
       "COLORECTAL           0\n",
       "COLORECTAL_DT     3202\n",
       "DATE_CUTOFF          0\n",
       "Censored             0\n",
       "Race                 0\n",
       "age                  0\n",
       "Age_Range            0\n",
       "dtype: int64"
      ]
     },
     "execution_count": 64,
     "metadata": {},
     "output_type": "execute_result"
    }
   ],
   "source": [
    "df_Colorectal.isnull().sum()"
   ]
  },
  {
   "cell_type": "code",
   "execution_count": 65,
   "metadata": {},
   "outputs": [],
   "source": [
    "df_Colorectal=df_Colorectal.dropna()"
   ]
  },
  {
   "cell_type": "code",
   "execution_count": 66,
   "metadata": {},
   "outputs": [],
   "source": [
    "df_Colorectal['Colorectal_Duration'] = (df_Colorectal['DEATH_DATE_off'] - df_Colorectal['COLORECTAL_DT']).dt.days.astype(int)"
   ]
  },
  {
   "cell_type": "code",
   "execution_count": 67,
   "metadata": {},
   "outputs": [
    {
     "data": {
      "text/html": [
       "<div>\n",
       "<style scoped>\n",
       "    .dataframe tbody tr th:only-of-type {\n",
       "        vertical-align: middle;\n",
       "    }\n",
       "\n",
       "    .dataframe tbody tr th {\n",
       "        vertical-align: top;\n",
       "    }\n",
       "\n",
       "    .dataframe thead th {\n",
       "        text-align: right;\n",
       "    }\n",
       "</style>\n",
       "<table border=\"1\" class=\"dataframe\">\n",
       "  <thead>\n",
       "    <tr style=\"text-align: right;\">\n",
       "      <th></th>\n",
       "      <th>BIRTH_DATE_off</th>\n",
       "      <th>DEATH_DATE_off</th>\n",
       "      <th>sex</th>\n",
       "      <th>COLORECTAL</th>\n",
       "      <th>COLORECTAL_DT</th>\n",
       "      <th>DATE_CUTOFF</th>\n",
       "      <th>Censored</th>\n",
       "      <th>Race</th>\n",
       "      <th>age</th>\n",
       "      <th>Age_Range</th>\n",
       "      <th>Colorectal_Duration</th>\n",
       "    </tr>\n",
       "  </thead>\n",
       "  <tbody>\n",
       "    <tr>\n",
       "      <th>13</th>\n",
       "      <td>1971-08-11</td>\n",
       "      <td>2016-08-25</td>\n",
       "      <td>Female</td>\n",
       "      <td>1</td>\n",
       "      <td>2014-01-01</td>\n",
       "      <td>2016-08-25</td>\n",
       "      <td>1</td>\n",
       "      <td>Black/African-American</td>\n",
       "      <td>45</td>\n",
       "      <td>41-50</td>\n",
       "      <td>967</td>\n",
       "    </tr>\n",
       "    <tr>\n",
       "      <th>14</th>\n",
       "      <td>1948-03-22</td>\n",
       "      <td>2016-01-07</td>\n",
       "      <td>Female</td>\n",
       "      <td>1</td>\n",
       "      <td>2014-09-30</td>\n",
       "      <td>2016-08-25</td>\n",
       "      <td>0</td>\n",
       "      <td>Black/African-American</td>\n",
       "      <td>68</td>\n",
       "      <td>61-70</td>\n",
       "      <td>464</td>\n",
       "    </tr>\n",
       "    <tr>\n",
       "      <th>16</th>\n",
       "      <td>1946-01-09</td>\n",
       "      <td>2016-08-25</td>\n",
       "      <td>Female</td>\n",
       "      <td>1</td>\n",
       "      <td>2013-09-14</td>\n",
       "      <td>2016-08-25</td>\n",
       "      <td>1</td>\n",
       "      <td>Black/African-American</td>\n",
       "      <td>71</td>\n",
       "      <td>71-80</td>\n",
       "      <td>1076</td>\n",
       "    </tr>\n",
       "    <tr>\n",
       "      <th>36</th>\n",
       "      <td>1970-12-19</td>\n",
       "      <td>2016-08-25</td>\n",
       "      <td>Female</td>\n",
       "      <td>1</td>\n",
       "      <td>2013-12-09</td>\n",
       "      <td>2016-08-25</td>\n",
       "      <td>1</td>\n",
       "      <td>White</td>\n",
       "      <td>46</td>\n",
       "      <td>41-50</td>\n",
       "      <td>990</td>\n",
       "    </tr>\n",
       "    <tr>\n",
       "      <th>41</th>\n",
       "      <td>1928-03-25</td>\n",
       "      <td>2016-08-25</td>\n",
       "      <td>Female</td>\n",
       "      <td>1</td>\n",
       "      <td>2013-12-11</td>\n",
       "      <td>2016-08-25</td>\n",
       "      <td>1</td>\n",
       "      <td>Black/African-American</td>\n",
       "      <td>88</td>\n",
       "      <td>81-90</td>\n",
       "      <td>988</td>\n",
       "    </tr>\n",
       "  </tbody>\n",
       "</table>\n",
       "</div>"
      ],
      "text/plain": [
       "   BIRTH_DATE_off DEATH_DATE_off     sex  COLORECTAL COLORECTAL_DT  \\\n",
       "13     1971-08-11     2016-08-25  Female           1    2014-01-01   \n",
       "14     1948-03-22     2016-01-07  Female           1    2014-09-30   \n",
       "16     1946-01-09     2016-08-25  Female           1    2013-09-14   \n",
       "36     1970-12-19     2016-08-25  Female           1    2013-12-09   \n",
       "41     1928-03-25     2016-08-25  Female           1    2013-12-11   \n",
       "\n",
       "   DATE_CUTOFF  Censored                    Race  age Age_Range  \\\n",
       "13  2016-08-25         1  Black/African-American   45     41-50   \n",
       "14  2016-08-25         0  Black/African-American   68     61-70   \n",
       "16  2016-08-25         1  Black/African-American   71     71-80   \n",
       "36  2016-08-25         1                   White   46     41-50   \n",
       "41  2016-08-25         1  Black/African-American   88     81-90   \n",
       "\n",
       "    Colorectal_Duration  \n",
       "13                  967  \n",
       "14                  464  \n",
       "16                 1076  \n",
       "36                  990  \n",
       "41                  988  "
      ]
     },
     "execution_count": 67,
     "metadata": {},
     "output_type": "execute_result"
    }
   ],
   "source": [
    "df_Colorectal.head()"
   ]
  },
  {
   "cell_type": "markdown",
   "metadata": {},
   "source": [
    "### survival rate by gender"
   ]
  },
  {
   "cell_type": "code",
   "execution_count": 68,
   "metadata": {},
   "outputs": [
    {
     "data": {
      "image/png": "[encoded data removed]",
      "text/plain": [
       "<Figure size 432x288 with 1 Axes>"
      ]
     },
     "metadata": {
      "needs_background": "light"
     },
     "output_type": "display_data"
    }
   ],
   "source": [
    "kmf = KaplanMeierFitter()\n",
    "\n",
    "T = df_Colorectal['Colorectal_Duration']\n",
    "E = df_Colorectal['Censored']\n",
    "\n",
    "\n",
    "groups = df_Colorectal['sex']\n",
    "\n",
    "ix1 = (groups == 'Male')\n",
    "ix2 = (groups == 'Female')\n",
    "\n",
    "kmf.fit(T[ix1], E[ix1], label='Male')   \n",
    "ax = kmf.plot()\n",
    "\n",
    "\n",
    "kmf.fit(T[ix2], E[ix2], label='Female')        \n",
    "ax1 = kmf.plot(ax=ax)\n"
   ]
  },
  {
   "cell_type": "markdown",
   "metadata": {},
   "source": [
    "### survival rate by race"
   ]
  },
  {
   "cell_type": "code",
   "execution_count": 69,
   "metadata": {},
   "outputs": [
    {
     "data": {
      "image/png": "[encoded data removed]",
      "text/plain": [
       "<Figure size 432x288 with 1 Axes>"
      ]
     },
     "metadata": {
      "needs_background": "light"
     },
     "output_type": "display_data"
    }
   ],
   "source": [
    "kmf = KaplanMeierFitter()\n",
    "\n",
    "T = df_Colorectal['Colorectal_Duration']\n",
    "E = df_Colorectal['Censored']\n",
    "\n",
    "\n",
    "groups =  df_Colorectal['Race']\n",
    "\n",
    "ix1 = (groups == 'Black/African-American')\n",
    "ix2 = (groups == 'White')\n",
    "ix3 = (groups == 'Asian/Mideast Indian')\n",
    "ix4 = (groups == 'Other')\n",
    "\n",
    "kmf.fit(T[ix1], E[ix1], label='Black/African-American')    \n",
    "ax = kmf.plot()\n",
    "\n",
    "\n",
    "kmf.fit(T[ix2], E[ix2], label='White')       \n",
    "ax1 = kmf.plot(ax=ax)\n",
    "\n",
    "kmf.fit(T[ix3], E[ix3], label='Asian/Mideast Indian')    \n",
    "ax2 = kmf.plot(ax=ax)\n",
    "\n",
    "\n",
    "kmf.fit(T[ix4], E[ix4], label='Other')         \n",
    "ax3 = kmf.plot(ax=ax)\n",
    "\n",
    "                  "
   ]
  },
  {
   "cell_type": "markdown",
   "metadata": {},
   "source": [
    "### survival rate by age group "
   ]
  },
  {
   "cell_type": "code",
   "execution_count": 70,
   "metadata": {},
   "outputs": [
    {
     "data": {
      "text/plain": [
       "61-70     287\n",
       "51-60     224\n",
       "71-80     177\n",
       "81-90     105\n",
       "41-50      90\n",
       "31-40      37\n",
       "91-100     20\n",
       "21-30       5\n",
       "11-20       1\n",
       "100+        0\n",
       "<10         0\n",
       "Name: Age_Range, dtype: int64"
      ]
     },
     "execution_count": 70,
     "metadata": {},
     "output_type": "execute_result"
    }
   ],
   "source": [
    "df_Colorectal['Age_Range'].value_counts()"
   ]
  },
  {
   "cell_type": "code",
   "execution_count": 71,
   "metadata": {},
   "outputs": [
    {
     "data": {
      "image/png": "[encoded data removed]",
      "text/plain": [
       "<Figure size 432x288 with 1 Axes>"
      ]
     },
     "metadata": {
      "needs_background": "light"
     },
     "output_type": "display_data"
    }
   ],
   "source": [
    "kmf = KaplanMeierFitter()\n",
    "\n",
    "T = df_Colorectal['Colorectal_Duration']\n",
    "E = df_Colorectal['Censored']\n",
    "\n",
    "\n",
    "groups =  df_Colorectal['Age_Range']\n",
    "\n",
    "#ix1 = (groups == '<10')\n",
    "ix2 = (groups == '11-20')\n",
    "ix3 = (groups == '21-30')\n",
    "ix4 = (groups == '31-40')\n",
    "ix5 = (groups == '41-50')\n",
    "ix6 = (groups == '51-60')\n",
    "ix7 = (groups == '61-70')\n",
    "ix8 = (groups == '71-80')\n",
    "ix9 = (groups == '81-90')\n",
    "ix10 = (groups == '91-100')\n",
    "#ix11 = (groups == '100+')\n",
    "\n",
    "#kmf.fit(T[ix1], E[ix1], label='<10')    \n",
    "#ax = kmf.plot()\n",
    "\n",
    "\n",
    "kmf.fit(T[ix2], E[ix2], label='11-20')       \n",
    "ax = kmf.plot()\n",
    "\n",
    "kmf.fit(T[ix3], E[ix3], label='21-30')    \n",
    "ax2 = kmf.plot(ax=ax)\n",
    "\n",
    "\n",
    "kmf.fit(T[ix4], E[ix4], label='31-40')         \n",
    "ax3 = kmf.plot(ax=ax)\n",
    "\n",
    "kmf.fit(T[ix5], E[ix5], label='41-50')       \n",
    "ax4 = kmf.plot(ax=ax)\n",
    "\n",
    "kmf.fit(T[ix6], E[ix6], label='51-60')    \n",
    "ax5 = kmf.plot(ax=ax)\n",
    "\n",
    "\n",
    "kmf.fit(T[ix7], E[ix7], label='61-70')         \n",
    "ax6 = kmf.plot(ax=ax)\n",
    "\n",
    "kmf.fit(T[ix8], E[ix8], label='71-80')       \n",
    "ax7 = kmf.plot(ax=ax)\n",
    "\n",
    "kmf.fit(T[ix9], E[ix9], label='81-90')    \n",
    "ax8 = kmf.plot(ax=ax)\n",
    "\n",
    "\n",
    "kmf.fit(T[ix10], E[ix10], label='91-100')         \n",
    "ax9 = kmf.plot(ax=ax)\n",
    "\n",
    "#kmf.fit(T[ix11], E[ix11], label='100+')         \n",
    "#ax10 = kmf.plot(ax=ax)\n",
    "\n",
    "\n",
    "    "
   ]
  },
  {
   "cell_type": "code",
   "execution_count": null,
   "metadata": {},
   "outputs": [],
   "source": []
  },
  {
   "cell_type": "markdown",
   "metadata": {},
   "source": [
    "# MELANOMA"
   ]
  },
  {
   "cell_type": "code",
   "execution_count": 72,
   "metadata": {},
   "outputs": [
    {
     "data": {
      "text/plain": [
       "Index(['BIRTH_DATE_off', 'DEATH_DATE_off', 'sex', 'race', 'LUNG', 'PANCREAS',\n",
       "       'THYROID', 'COLORECTAL', 'MELANOMA', 'LUNG_DT', 'PANCREAS_DT',\n",
       "       'THYROID_DT', 'COLORECTAL_DT', 'MELANOMA_DT', 'DATE_CUTOFF', 'Censored',\n",
       "       'Race', 'age', 'Age_Range'],\n",
       "      dtype='object')"
      ]
     },
     "execution_count": 72,
     "metadata": {},
     "output_type": "execute_result"
    }
   ],
   "source": [
    "df_sub.columns"
   ]
  },
  {
   "cell_type": "code",
   "execution_count": 74,
   "metadata": {},
   "outputs": [],
   "source": [
    "df_Melanoma = df_sub[['BIRTH_DATE_off', 'DEATH_DATE_off', 'sex', 'MELANOMA','MELANOMA_DT', 'DATE_CUTOFF', 'Censored',\n",
    "       'Race', 'age', 'Age_Range']]"
   ]
  },
  {
   "cell_type": "code",
   "execution_count": 75,
   "metadata": {},
   "outputs": [
    {
     "data": {
      "text/html": [
       "<div>\n",
       "<style scoped>\n",
       "    .dataframe tbody tr th:only-of-type {\n",
       "        vertical-align: middle;\n",
       "    }\n",
       "\n",
       "    .dataframe tbody tr th {\n",
       "        vertical-align: top;\n",
       "    }\n",
       "\n",
       "    .dataframe thead th {\n",
       "        text-align: right;\n",
       "    }\n",
       "</style>\n",
       "<table border=\"1\" class=\"dataframe\">\n",
       "  <thead>\n",
       "    <tr style=\"text-align: right;\">\n",
       "      <th></th>\n",
       "      <th>BIRTH_DATE_off</th>\n",
       "      <th>DEATH_DATE_off</th>\n",
       "      <th>sex</th>\n",
       "      <th>MELANOMA</th>\n",
       "      <th>MELANOMA_DT</th>\n",
       "      <th>DATE_CUTOFF</th>\n",
       "      <th>Censored</th>\n",
       "      <th>Race</th>\n",
       "      <th>age</th>\n",
       "      <th>Age_Range</th>\n",
       "    </tr>\n",
       "  </thead>\n",
       "  <tbody>\n",
       "    <tr>\n",
       "      <th>0</th>\n",
       "      <td>1959-12-02</td>\n",
       "      <td>2016-08-25</td>\n",
       "      <td>Male</td>\n",
       "      <td>0</td>\n",
       "      <td>NaT</td>\n",
       "      <td>2016-08-25</td>\n",
       "      <td>1</td>\n",
       "      <td>Black/African-American</td>\n",
       "      <td>57</td>\n",
       "      <td>51-60</td>\n",
       "    </tr>\n",
       "    <tr>\n",
       "      <th>1</th>\n",
       "      <td>1955-11-18</td>\n",
       "      <td>2016-04-20</td>\n",
       "      <td>Male</td>\n",
       "      <td>0</td>\n",
       "      <td>NaT</td>\n",
       "      <td>2016-08-25</td>\n",
       "      <td>0</td>\n",
       "      <td>Black/African-American</td>\n",
       "      <td>60</td>\n",
       "      <td>51-60</td>\n",
       "    </tr>\n",
       "    <tr>\n",
       "      <th>2</th>\n",
       "      <td>1946-01-14</td>\n",
       "      <td>2015-05-25</td>\n",
       "      <td>Female</td>\n",
       "      <td>0</td>\n",
       "      <td>NaT</td>\n",
       "      <td>2016-08-25</td>\n",
       "      <td>0</td>\n",
       "      <td>Black/African-American</td>\n",
       "      <td>69</td>\n",
       "      <td>61-70</td>\n",
       "    </tr>\n",
       "    <tr>\n",
       "      <th>6</th>\n",
       "      <td>1946-11-03</td>\n",
       "      <td>2016-08-25</td>\n",
       "      <td>Female</td>\n",
       "      <td>0</td>\n",
       "      <td>NaT</td>\n",
       "      <td>2016-08-25</td>\n",
       "      <td>1</td>\n",
       "      <td>Black/African-American</td>\n",
       "      <td>70</td>\n",
       "      <td>61-70</td>\n",
       "    </tr>\n",
       "    <tr>\n",
       "      <th>7</th>\n",
       "      <td>1938-06-10</td>\n",
       "      <td>2016-08-25</td>\n",
       "      <td>Female</td>\n",
       "      <td>0</td>\n",
       "      <td>NaT</td>\n",
       "      <td>2016-08-25</td>\n",
       "      <td>1</td>\n",
       "      <td>Black/African-American</td>\n",
       "      <td>78</td>\n",
       "      <td>71-80</td>\n",
       "    </tr>\n",
       "  </tbody>\n",
       "</table>\n",
       "</div>"
      ],
      "text/plain": [
       "  BIRTH_DATE_off DEATH_DATE_off     sex  MELANOMA MELANOMA_DT DATE_CUTOFF  \\\n",
       "0     1959-12-02     2016-08-25    Male         0         NaT  2016-08-25   \n",
       "1     1955-11-18     2016-04-20    Male         0         NaT  2016-08-25   \n",
       "2     1946-01-14     2015-05-25  Female         0         NaT  2016-08-25   \n",
       "6     1946-11-03     2016-08-25  Female         0         NaT  2016-08-25   \n",
       "7     1938-06-10     2016-08-25  Female         0         NaT  2016-08-25   \n",
       "\n",
       "   Censored                    Race  age Age_Range  \n",
       "0         1  Black/African-American   57     51-60  \n",
       "1         0  Black/African-American   60     51-60  \n",
       "2         0  Black/African-American   69     61-70  \n",
       "6         1  Black/African-American   70     61-70  \n",
       "7         1  Black/African-American   78     71-80  "
      ]
     },
     "execution_count": 75,
     "metadata": {},
     "output_type": "execute_result"
    }
   ],
   "source": [
    "df_Melanoma.head()"
   ]
  },
  {
   "cell_type": "code",
   "execution_count": 76,
   "metadata": {},
   "outputs": [
    {
     "data": {
      "text/plain": [
       "BIRTH_DATE_off       0\n",
       "DEATH_DATE_off       0\n",
       "sex                  0\n",
       "MELANOMA             0\n",
       "MELANOMA_DT       3802\n",
       "DATE_CUTOFF          0\n",
       "Censored             0\n",
       "Race                 0\n",
       "age                  0\n",
       "Age_Range            0\n",
       "dtype: int64"
      ]
     },
     "execution_count": 76,
     "metadata": {},
     "output_type": "execute_result"
    }
   ],
   "source": [
    "df_Melanoma.isnull().sum()"
   ]
  },
  {
   "cell_type": "code",
   "execution_count": 77,
   "metadata": {},
   "outputs": [],
   "source": [
    "df_Melanoma=df_Melanoma.dropna()"
   ]
  },
  {
   "cell_type": "code",
   "execution_count": 78,
   "metadata": {},
   "outputs": [],
   "source": [
    "df_Melanoma['Melanoma_Duration'] = (df_Melanoma['DEATH_DATE_off'] - df_Melanoma['MELANOMA_DT']).dt.days.astype(int)"
   ]
  },
  {
   "cell_type": "code",
   "execution_count": 79,
   "metadata": {},
   "outputs": [
    {
     "data": {
      "text/html": [
       "<div>\n",
       "<style scoped>\n",
       "    .dataframe tbody tr th:only-of-type {\n",
       "        vertical-align: middle;\n",
       "    }\n",
       "\n",
       "    .dataframe tbody tr th {\n",
       "        vertical-align: top;\n",
       "    }\n",
       "\n",
       "    .dataframe thead th {\n",
       "        text-align: right;\n",
       "    }\n",
       "</style>\n",
       "<table border=\"1\" class=\"dataframe\">\n",
       "  <thead>\n",
       "    <tr style=\"text-align: right;\">\n",
       "      <th></th>\n",
       "      <th>BIRTH_DATE_off</th>\n",
       "      <th>DEATH_DATE_off</th>\n",
       "      <th>sex</th>\n",
       "      <th>MELANOMA</th>\n",
       "      <th>MELANOMA_DT</th>\n",
       "      <th>DATE_CUTOFF</th>\n",
       "      <th>Censored</th>\n",
       "      <th>Race</th>\n",
       "      <th>age</th>\n",
       "      <th>Age_Range</th>\n",
       "      <th>Melanoma_Duration</th>\n",
       "    </tr>\n",
       "  </thead>\n",
       "  <tbody>\n",
       "    <tr>\n",
       "      <th>146</th>\n",
       "      <td>1928-06-22</td>\n",
       "      <td>2016-08-25</td>\n",
       "      <td>Male</td>\n",
       "      <td>1</td>\n",
       "      <td>2015-03-03</td>\n",
       "      <td>2016-08-25</td>\n",
       "      <td>1</td>\n",
       "      <td>White</td>\n",
       "      <td>88</td>\n",
       "      <td>81-90</td>\n",
       "      <td>541</td>\n",
       "    </tr>\n",
       "    <tr>\n",
       "      <th>178</th>\n",
       "      <td>1933-12-27</td>\n",
       "      <td>2014-11-27</td>\n",
       "      <td>Male</td>\n",
       "      <td>1</td>\n",
       "      <td>2012-12-20</td>\n",
       "      <td>2016-08-25</td>\n",
       "      <td>0</td>\n",
       "      <td>White</td>\n",
       "      <td>81</td>\n",
       "      <td>81-90</td>\n",
       "      <td>707</td>\n",
       "    </tr>\n",
       "    <tr>\n",
       "      <th>196</th>\n",
       "      <td>1924-04-08</td>\n",
       "      <td>2016-08-25</td>\n",
       "      <td>Female</td>\n",
       "      <td>1</td>\n",
       "      <td>2014-05-31</td>\n",
       "      <td>2016-08-25</td>\n",
       "      <td>1</td>\n",
       "      <td>White</td>\n",
       "      <td>92</td>\n",
       "      <td>91-100</td>\n",
       "      <td>817</td>\n",
       "    </tr>\n",
       "    <tr>\n",
       "      <th>341</th>\n",
       "      <td>1957-10-04</td>\n",
       "      <td>2016-08-25</td>\n",
       "      <td>Female</td>\n",
       "      <td>1</td>\n",
       "      <td>2013-05-19</td>\n",
       "      <td>2016-08-25</td>\n",
       "      <td>1</td>\n",
       "      <td>White</td>\n",
       "      <td>59</td>\n",
       "      <td>51-60</td>\n",
       "      <td>1194</td>\n",
       "    </tr>\n",
       "    <tr>\n",
       "      <th>354</th>\n",
       "      <td>1966-08-03</td>\n",
       "      <td>2016-08-25</td>\n",
       "      <td>Male</td>\n",
       "      <td>1</td>\n",
       "      <td>2015-03-09</td>\n",
       "      <td>2016-08-25</td>\n",
       "      <td>1</td>\n",
       "      <td>White</td>\n",
       "      <td>50</td>\n",
       "      <td>41-50</td>\n",
       "      <td>535</td>\n",
       "    </tr>\n",
       "  </tbody>\n",
       "</table>\n",
       "</div>"
      ],
      "text/plain": [
       "    BIRTH_DATE_off DEATH_DATE_off     sex  MELANOMA MELANOMA_DT DATE_CUTOFF  \\\n",
       "146     1928-06-22     2016-08-25    Male         1  2015-03-03  2016-08-25   \n",
       "178     1933-12-27     2014-11-27    Male         1  2012-12-20  2016-08-25   \n",
       "196     1924-04-08     2016-08-25  Female         1  2014-05-31  2016-08-25   \n",
       "341     1957-10-04     2016-08-25  Female         1  2013-05-19  2016-08-25   \n",
       "354     1966-08-03     2016-08-25    Male         1  2015-03-09  2016-08-25   \n",
       "\n",
       "     Censored   Race  age Age_Range  Melanoma_Duration  \n",
       "146         1  White   88     81-90                541  \n",
       "178         0  White   81     81-90                707  \n",
       "196         1  White   92    91-100                817  \n",
       "341         1  White   59     51-60               1194  \n",
       "354         1  White   50     41-50                535  "
      ]
     },
     "execution_count": 79,
     "metadata": {},
     "output_type": "execute_result"
    }
   ],
   "source": [
    "df_Melanoma.head()"
   ]
  },
  {
   "cell_type": "markdown",
   "metadata": {},
   "source": [
    "### survival rate by gender"
   ]
  },
  {
   "cell_type": "code",
   "execution_count": 80,
   "metadata": {},
   "outputs": [
    {
     "data": {
      "image/png": "[encoded data removed]",
      "text/plain": [
       "<Figure size 432x288 with 1 Axes>"
      ]
     },
     "metadata": {
      "needs_background": "light"
     },
     "output_type": "display_data"
    }
   ],
   "source": [
    "kmf = KaplanMeierFitter()\n",
    "\n",
    "T = df_Melanoma['Melanoma_Duration']\n",
    "E = df_Melanoma['Censored']\n",
    "\n",
    "\n",
    "groups = df_Melanoma['sex']\n",
    "\n",
    "ix1 = (groups == 'Male')\n",
    "ix2 = (groups == 'Female')\n",
    "\n",
    "kmf.fit(T[ix1], E[ix1], label='Male')    ## fit the cohort 1 data\n",
    "ax = kmf.plot()\n",
    "\n",
    "\n",
    "kmf.fit(T[ix2], E[ix2], label='Female')         ## fit the cohort 2 data\n",
    "ax1 = kmf.plot(ax=ax)\n"
   ]
  },
  {
   "cell_type": "markdown",
   "metadata": {},
   "source": [
    "### survival rate by race"
   ]
  },
  {
   "cell_type": "code",
   "execution_count": 81,
   "metadata": {},
   "outputs": [
    {
     "data": {
      "image/png": "[encoded data removed]",
      "text/plain": [
       "<Figure size 432x288 with 1 Axes>"
      ]
     },
     "metadata": {
      "needs_background": "light"
     },
     "output_type": "display_data"
    }
   ],
   "source": [
    "kmf = KaplanMeierFitter()\n",
    "\n",
    "T = df_Melanoma['Melanoma_Duration']\n",
    "E = df_Melanoma['Censored']\n",
    "\n",
    "\n",
    "groups =  df_Melanoma['Race']\n",
    "\n",
    "ix1 = (groups == 'Black/African-American')\n",
    "ix2 = (groups == 'White')\n",
    "ix3 = (groups == 'Asian/Mideast Indian')\n",
    "ix4 = (groups == 'Other')\n",
    "\n",
    "kmf.fit(T[ix1], E[ix1], label='Black/African-American')    \n",
    "ax = kmf.plot()\n",
    "\n",
    "\n",
    "kmf.fit(T[ix2], E[ix2], label='White')       \n",
    "ax1 = kmf.plot(ax=ax)\n",
    "\n",
    "kmf.fit(T[ix3], E[ix3], label='Asian/Mideast Indian')    \n",
    "ax2 = kmf.plot(ax=ax)\n",
    "\n",
    "\n",
    "kmf.fit(T[ix4], E[ix4], label='Other')         \n",
    "ax3 = kmf.plot(ax=ax)\n",
    "\n",
    "                  "
   ]
  },
  {
   "cell_type": "markdown",
   "metadata": {},
   "source": [
    "### survival rate by age group "
   ]
  },
  {
   "cell_type": "code",
   "execution_count": 82,
   "metadata": {},
   "outputs": [
    {
     "data": {
      "text/plain": [
       "61-70     93\n",
       "71-80     70\n",
       "51-60     57\n",
       "41-50     41\n",
       "81-90     34\n",
       "31-40     24\n",
       "21-30     16\n",
       "91-100     8\n",
       "11-20      3\n",
       "100+       0\n",
       "<10        0\n",
       "Name: Age_Range, dtype: int64"
      ]
     },
     "execution_count": 82,
     "metadata": {},
     "output_type": "execute_result"
    }
   ],
   "source": [
    "df_Melanoma['Age_Range'].value_counts()"
   ]
  },
  {
   "cell_type": "code",
   "execution_count": 83,
   "metadata": {},
   "outputs": [
    {
     "data": {
      "image/png": "[encoded data removed]",
      "text/plain": [
       "<Figure size 432x288 with 1 Axes>"
      ]
     },
     "metadata": {
      "needs_background": "light"
     },
     "output_type": "display_data"
    }
   ],
   "source": [
    "kmf = KaplanMeierFitter()\n",
    "\n",
    "T = df_Melanoma['Melanoma_Duration']\n",
    "E = df_Melanoma['Censored']\n",
    "\n",
    "\n",
    "groups =  df_Melanoma['Age_Range']\n",
    "\n",
    "#ix1 = (groups == '<10')\n",
    "ix2 = (groups == '11-20')\n",
    "ix3 = (groups == '21-30')\n",
    "ix4 = (groups == '31-40')\n",
    "ix5 = (groups == '41-50')\n",
    "ix6 = (groups == '51-60')\n",
    "ix7 = (groups == '61-70')\n",
    "ix8 = (groups == '71-80')\n",
    "ix9 = (groups == '81-90')\n",
    "ix10 = (groups == '91-100')\n",
    "#ix11 = (groups == '100+')\n",
    "\n",
    "#kmf.fit(T[ix1], E[ix1], label='<10')    \n",
    "#ax = kmf.plot()\n",
    "\n",
    "\n",
    "kmf.fit(T[ix2], E[ix2], label='11-20')       \n",
    "ax = kmf.plot()\n",
    "\n",
    "kmf.fit(T[ix3], E[ix3], label='21-30')    \n",
    "ax2 = kmf.plot(ax=ax)\n",
    "\n",
    "\n",
    "kmf.fit(T[ix4], E[ix4], label='31-40')         \n",
    "ax3 = kmf.plot(ax=ax)\n",
    "\n",
    "kmf.fit(T[ix5], E[ix5], label='41-50')       \n",
    "ax4 = kmf.plot(ax=ax)\n",
    "\n",
    "kmf.fit(T[ix6], E[ix6], label='51-60')    \n",
    "ax5 = kmf.plot(ax=ax)\n",
    "\n",
    "\n",
    "kmf.fit(T[ix7], E[ix7], label='61-70')         \n",
    "ax6 = kmf.plot(ax=ax)\n",
    "\n",
    "kmf.fit(T[ix8], E[ix8], label='71-80')       \n",
    "ax7 = kmf.plot(ax=ax)\n",
    "\n",
    "kmf.fit(T[ix9], E[ix9], label='81-90')    \n",
    "ax8 = kmf.plot(ax=ax)\n",
    "\n",
    "\n",
    "kmf.fit(T[ix10], E[ix10], label='91-100')         \n",
    "ax9 = kmf.plot(ax=ax)\n",
    "\n",
    "#kmf.fit(T[ix11], E[ix11], label='100+')         \n",
    "#ax10 = kmf.plot(ax=ax)\n",
    "\n",
    "\n",
    "    "
   ]
  },
  {
   "cell_type": "code",
   "execution_count": null,
   "metadata": {},
   "outputs": [],
   "source": []
  },
  {
   "cell_type": "code",
   "execution_count": null,
   "metadata": {},
   "outputs": [],
   "source": []
  },
  {
   "cell_type": "markdown",
   "metadata": {},
   "source": [
    "# Part C: Questions"
   ]
  },
  {
   "cell_type": "markdown",
   "metadata": {},
   "source": [
    "## 1. Which cancer has the highest survival for this cohort?"
   ]
  },
  {
   "cell_type": "code",
   "execution_count": 84,
   "metadata": {},
   "outputs": [
    {
     "data": {
      "text/plain": [
       "<matplotlib.axes._subplots.AxesSubplot at 0x1da27fff888>"
      ]
     },
     "execution_count": 84,
     "metadata": {},
     "output_type": "execute_result"
    },
    {
     "data": {
      "image/png": "[encoded data removed]",
      "text/plain": [
       "<Figure size 2160x720 with 1 Axes>"
      ]
     },
     "metadata": {
      "needs_background": "light"
     },
     "output_type": "display_data"
    }
   ],
   "source": [
    "kmf = KaplanMeierFitter() \n",
    "\n",
    "kmf.fit(df_Lung['Lung_Duration'], df_Lung['Censored'], label='Lung')  \n",
    "ax = kmf.plot()\n",
    "\n",
    "kmf.fit(df_Pancreas['Pancreas_Duration'], df_Pancreas['Censored'], label='Pancreas')        \n",
    "ax1 = kmf.plot(ax=ax)\n",
    "\n",
    "kmf.fit(df_Thyroid['Thyroid_Duration'], df_Thyroid['Censored'], label='Thyroid')       \n",
    "ax2 = kmf.plot(ax=ax1)\n",
    "\n",
    "kmf.fit(df_Colorectal['Colorectal_Duration'], df_Colorectal['Censored'], label='Colorectal')     \n",
    "ax3 = kmf.plot(ax=ax2)\n",
    "\n",
    "kmf.fit(df_Melanoma['Melanoma_Duration'], df_Melanoma['Censored'], label='Melanoma')        \n",
    "kmf.plot(ax=ax3,figsize = (30,10))"
   ]
  },
  {
   "cell_type": "markdown",
   "metadata": {},
   "source": [
    "Highest survival rate for the cohort is Thyroid."
   ]
  },
  {
   "cell_type": "markdown",
   "metadata": {},
   "source": [
    "## 2. Which cancer has the lowest survival for this cohort?"
   ]
  },
  {
   "cell_type": "markdown",
   "metadata": {},
   "source": [
    "Lowest survival rate for the cohort is Pancreatic cancer."
   ]
  },
  {
   "cell_type": "markdown",
   "metadata": {},
   "source": [
    "## 3. how many patients had 2 cancer diagnosis?"
   ]
  },
  {
   "cell_type": "code",
   "execution_count": 85,
   "metadata": {},
   "outputs": [],
   "source": [
    "df_sub['Count of diagnosis'] = df_sub['LUNG'] + df_sub['PANCREAS'] + df_sub['THYROID'] + df_sub['COLORECTAL'] + df_sub['MELANOMA'] "
   ]
  },
  {
   "cell_type": "code",
   "execution_count": 86,
   "metadata": {},
   "outputs": [
    {
     "data": {
      "text/plain": [
       "1    4119\n",
       "2      29\n",
       "Name: Count of diagnosis, dtype: int64"
      ]
     },
     "execution_count": 86,
     "metadata": {},
     "output_type": "execute_result"
    }
   ],
   "source": [
    "df_sub['Count of diagnosis'].value_counts()"
   ]
  },
  {
   "cell_type": "markdown",
   "metadata": {},
   "source": [
    "29 Patients."
   ]
  },
  {
   "cell_type": "markdown",
   "metadata": {},
   "source": [
    "## 4. which age group has the lowest survival after 400 days since cancer diagnosis?"
   ]
  },
  {
   "cell_type": "markdown",
   "metadata": {},
   "source": [
    "From the figure of survivar rate by age group, it is observed that you age groups (11-20 and 21-30) have lowest survival rate after 400 days since cancer diagnosis. However, the number of data points is too small for them."
   ]
  },
  {
   "cell_type": "code",
   "execution_count": null,
   "metadata": {},
   "outputs": [],
   "source": []
  },
  {
   "cell_type": "markdown",
   "metadata": {},
   "source": [
    "## 5. what is the survival rate for females with colorectal cancer after 1000 days since diagnosis?"
   ]
  },
  {
   "cell_type": "code",
   "execution_count": 87,
   "metadata": {},
   "outputs": [],
   "source": [
    "df_Colorectal_Female = df_Colorectal[df_Colorectal['sex'] == 'Female']"
   ]
  },
  {
   "cell_type": "code",
   "execution_count": 88,
   "metadata": {},
   "outputs": [
    {
     "data": {
      "text/html": [
       "<div>\n",
       "<style scoped>\n",
       "    .dataframe tbody tr th:only-of-type {\n",
       "        vertical-align: middle;\n",
       "    }\n",
       "\n",
       "    .dataframe tbody tr th {\n",
       "        vertical-align: top;\n",
       "    }\n",
       "\n",
       "    .dataframe thead th {\n",
       "        text-align: right;\n",
       "    }\n",
       "</style>\n",
       "<table border=\"1\" class=\"dataframe\">\n",
       "  <thead>\n",
       "    <tr style=\"text-align: right;\">\n",
       "      <th></th>\n",
       "      <th>BIRTH_DATE_off</th>\n",
       "      <th>DEATH_DATE_off</th>\n",
       "      <th>sex</th>\n",
       "      <th>COLORECTAL</th>\n",
       "      <th>COLORECTAL_DT</th>\n",
       "      <th>DATE_CUTOFF</th>\n",
       "      <th>Censored</th>\n",
       "      <th>Race</th>\n",
       "      <th>age</th>\n",
       "      <th>Age_Range</th>\n",
       "      <th>Colorectal_Duration</th>\n",
       "    </tr>\n",
       "  </thead>\n",
       "  <tbody>\n",
       "    <tr>\n",
       "      <th>13</th>\n",
       "      <td>1971-08-11</td>\n",
       "      <td>2016-08-25</td>\n",
       "      <td>Female</td>\n",
       "      <td>1</td>\n",
       "      <td>2014-01-01</td>\n",
       "      <td>2016-08-25</td>\n",
       "      <td>1</td>\n",
       "      <td>Black/African-American</td>\n",
       "      <td>45</td>\n",
       "      <td>41-50</td>\n",
       "      <td>967</td>\n",
       "    </tr>\n",
       "    <tr>\n",
       "      <th>14</th>\n",
       "      <td>1948-03-22</td>\n",
       "      <td>2016-01-07</td>\n",
       "      <td>Female</td>\n",
       "      <td>1</td>\n",
       "      <td>2014-09-30</td>\n",
       "      <td>2016-08-25</td>\n",
       "      <td>0</td>\n",
       "      <td>Black/African-American</td>\n",
       "      <td>68</td>\n",
       "      <td>61-70</td>\n",
       "      <td>464</td>\n",
       "    </tr>\n",
       "    <tr>\n",
       "      <th>16</th>\n",
       "      <td>1946-01-09</td>\n",
       "      <td>2016-08-25</td>\n",
       "      <td>Female</td>\n",
       "      <td>1</td>\n",
       "      <td>2013-09-14</td>\n",
       "      <td>2016-08-25</td>\n",
       "      <td>1</td>\n",
       "      <td>Black/African-American</td>\n",
       "      <td>71</td>\n",
       "      <td>71-80</td>\n",
       "      <td>1076</td>\n",
       "    </tr>\n",
       "    <tr>\n",
       "      <th>36</th>\n",
       "      <td>1970-12-19</td>\n",
       "      <td>2016-08-25</td>\n",
       "      <td>Female</td>\n",
       "      <td>1</td>\n",
       "      <td>2013-12-09</td>\n",
       "      <td>2016-08-25</td>\n",
       "      <td>1</td>\n",
       "      <td>White</td>\n",
       "      <td>46</td>\n",
       "      <td>41-50</td>\n",
       "      <td>990</td>\n",
       "    </tr>\n",
       "    <tr>\n",
       "      <th>41</th>\n",
       "      <td>1928-03-25</td>\n",
       "      <td>2016-08-25</td>\n",
       "      <td>Female</td>\n",
       "      <td>1</td>\n",
       "      <td>2013-12-11</td>\n",
       "      <td>2016-08-25</td>\n",
       "      <td>1</td>\n",
       "      <td>Black/African-American</td>\n",
       "      <td>88</td>\n",
       "      <td>81-90</td>\n",
       "      <td>988</td>\n",
       "    </tr>\n",
       "  </tbody>\n",
       "</table>\n",
       "</div>"
      ],
      "text/plain": [
       "   BIRTH_DATE_off DEATH_DATE_off     sex  COLORECTAL COLORECTAL_DT  \\\n",
       "13     1971-08-11     2016-08-25  Female           1    2014-01-01   \n",
       "14     1948-03-22     2016-01-07  Female           1    2014-09-30   \n",
       "16     1946-01-09     2016-08-25  Female           1    2013-09-14   \n",
       "36     1970-12-19     2016-08-25  Female           1    2013-12-09   \n",
       "41     1928-03-25     2016-08-25  Female           1    2013-12-11   \n",
       "\n",
       "   DATE_CUTOFF  Censored                    Race  age Age_Range  \\\n",
       "13  2016-08-25         1  Black/African-American   45     41-50   \n",
       "14  2016-08-25         0  Black/African-American   68     61-70   \n",
       "16  2016-08-25         1  Black/African-American   71     71-80   \n",
       "36  2016-08-25         1                   White   46     41-50   \n",
       "41  2016-08-25         1  Black/African-American   88     81-90   \n",
       "\n",
       "    Colorectal_Duration  \n",
       "13                  967  \n",
       "14                  464  \n",
       "16                 1076  \n",
       "36                  990  \n",
       "41                  988  "
      ]
     },
     "execution_count": 88,
     "metadata": {},
     "output_type": "execute_result"
    }
   ],
   "source": [
    "df_Colorectal_Female.head()"
   ]
  },
  {
   "cell_type": "code",
   "execution_count": 89,
   "metadata": {},
   "outputs": [
    {
     "data": {
      "text/plain": [
       "<lifelines.KaplanMeierFitter:\"Female\", fitted with 423 total observations, 25 right-censored observations>"
      ]
     },
     "execution_count": 89,
     "metadata": {},
     "output_type": "execute_result"
    }
   ],
   "source": [
    "kmf_Female = KaplanMeierFitter()\n",
    "kmf_Female.fit(df_Colorectal_Female['Colorectal_Duration'], df_Colorectal_Female['Censored'], label = 'Female')"
   ]
  },
  {
   "cell_type": "code",
   "execution_count": 91,
   "metadata": {},
   "outputs": [
    {
     "data": {
      "text/plain": [
       "Text(0, 0.5, 'Survival')"
      ]
     },
     "execution_count": 91,
     "metadata": {},
     "output_type": "execute_result"
    },
    {
     "data": {
      "image/png": "[encoded data removed]",
      "text/plain": [
       "<Figure size 432x288 with 1 Axes>"
      ]
     },
     "metadata": {
      "needs_background": "light"
     },
     "output_type": "display_data"
    }
   ],
   "source": [
    "kmf_Female.plot()\n",
    "\n",
    "plt.xlabel(\"Days Passed\")\n",
    "plt.ylabel('Survival')"
   ]
  },
  {
   "cell_type": "code",
   "execution_count": 92,
   "metadata": {},
   "outputs": [
    {
     "data": {
      "text/plain": [
       "0.5409275029971161"
      ]
     },
     "execution_count": 92,
     "metadata": {},
     "output_type": "execute_result"
    }
   ],
   "source": [
    "kmf_Female.predict(1000)"
   ]
  },
  {
   "cell_type": "markdown",
   "metadata": {},
   "source": [
    "#### Survival Rate for females with colorectal cancer after 1000 days since diagnosis is ~0.54or 54%"
   ]
  },
  {
   "cell_type": "markdown",
   "metadata": {},
   "source": [
    "# 6. What is the survival rate for males with lung cancer after 300 days since diagnosis?"
   ]
  },
  {
   "cell_type": "code",
   "execution_count": 93,
   "metadata": {},
   "outputs": [],
   "source": [
    "df_Lung_Male = df_Lung[df_Lung['sex'] == 'Male']"
   ]
  },
  {
   "cell_type": "code",
   "execution_count": 94,
   "metadata": {},
   "outputs": [
    {
     "data": {
      "text/html": [
       "<div>\n",
       "<style scoped>\n",
       "    .dataframe tbody tr th:only-of-type {\n",
       "        vertical-align: middle;\n",
       "    }\n",
       "\n",
       "    .dataframe tbody tr th {\n",
       "        vertical-align: top;\n",
       "    }\n",
       "\n",
       "    .dataframe thead th {\n",
       "        text-align: right;\n",
       "    }\n",
       "</style>\n",
       "<table border=\"1\" class=\"dataframe\">\n",
       "  <thead>\n",
       "    <tr style=\"text-align: right;\">\n",
       "      <th></th>\n",
       "      <th>BIRTH_DATE_off</th>\n",
       "      <th>DEATH_DATE_off</th>\n",
       "      <th>sex</th>\n",
       "      <th>LUNG</th>\n",
       "      <th>LUNG_DT</th>\n",
       "      <th>DATE_CUTOFF</th>\n",
       "      <th>Censored</th>\n",
       "      <th>Race</th>\n",
       "      <th>age</th>\n",
       "      <th>Age_Range</th>\n",
       "      <th>Lung_Duration</th>\n",
       "    </tr>\n",
       "  </thead>\n",
       "  <tbody>\n",
       "    <tr>\n",
       "      <th>0</th>\n",
       "      <td>1959-12-02</td>\n",
       "      <td>2016-08-25</td>\n",
       "      <td>Male</td>\n",
       "      <td>1</td>\n",
       "      <td>2013-09-01</td>\n",
       "      <td>2016-08-25</td>\n",
       "      <td>1</td>\n",
       "      <td>Black/African-American</td>\n",
       "      <td>57</td>\n",
       "      <td>51-60</td>\n",
       "      <td>1089</td>\n",
       "    </tr>\n",
       "    <tr>\n",
       "      <th>1</th>\n",
       "      <td>1955-11-18</td>\n",
       "      <td>2016-04-20</td>\n",
       "      <td>Male</td>\n",
       "      <td>1</td>\n",
       "      <td>2016-04-02</td>\n",
       "      <td>2016-08-25</td>\n",
       "      <td>0</td>\n",
       "      <td>Black/African-American</td>\n",
       "      <td>60</td>\n",
       "      <td>51-60</td>\n",
       "      <td>18</td>\n",
       "    </tr>\n",
       "    <tr>\n",
       "      <th>9</th>\n",
       "      <td>1957-10-18</td>\n",
       "      <td>2016-08-25</td>\n",
       "      <td>Male</td>\n",
       "      <td>1</td>\n",
       "      <td>2012-11-29</td>\n",
       "      <td>2016-08-25</td>\n",
       "      <td>1</td>\n",
       "      <td>Black/African-American</td>\n",
       "      <td>59</td>\n",
       "      <td>51-60</td>\n",
       "      <td>1365</td>\n",
       "    </tr>\n",
       "    <tr>\n",
       "      <th>12</th>\n",
       "      <td>1940-02-04</td>\n",
       "      <td>2016-08-25</td>\n",
       "      <td>Male</td>\n",
       "      <td>1</td>\n",
       "      <td>2013-05-21</td>\n",
       "      <td>2016-08-25</td>\n",
       "      <td>1</td>\n",
       "      <td>Black/African-American</td>\n",
       "      <td>77</td>\n",
       "      <td>71-80</td>\n",
       "      <td>1192</td>\n",
       "    </tr>\n",
       "    <tr>\n",
       "      <th>25</th>\n",
       "      <td>1953-08-25</td>\n",
       "      <td>2016-08-25</td>\n",
       "      <td>Male</td>\n",
       "      <td>1</td>\n",
       "      <td>2015-01-14</td>\n",
       "      <td>2016-08-25</td>\n",
       "      <td>1</td>\n",
       "      <td>Black/African-American</td>\n",
       "      <td>63</td>\n",
       "      <td>61-70</td>\n",
       "      <td>589</td>\n",
       "    </tr>\n",
       "  </tbody>\n",
       "</table>\n",
       "</div>"
      ],
      "text/plain": [
       "   BIRTH_DATE_off DEATH_DATE_off   sex  LUNG    LUNG_DT DATE_CUTOFF  Censored  \\\n",
       "0      1959-12-02     2016-08-25  Male     1 2013-09-01  2016-08-25         1   \n",
       "1      1955-11-18     2016-04-20  Male     1 2016-04-02  2016-08-25         0   \n",
       "9      1957-10-18     2016-08-25  Male     1 2012-11-29  2016-08-25         1   \n",
       "12     1940-02-04     2016-08-25  Male     1 2013-05-21  2016-08-25         1   \n",
       "25     1953-08-25     2016-08-25  Male     1 2015-01-14  2016-08-25         1   \n",
       "\n",
       "                      Race  age Age_Range  Lung_Duration  \n",
       "0   Black/African-American   57     51-60           1089  \n",
       "1   Black/African-American   60     51-60             18  \n",
       "9   Black/African-American   59     51-60           1365  \n",
       "12  Black/African-American   77     71-80           1192  \n",
       "25  Black/African-American   63     61-70            589  "
      ]
     },
     "execution_count": 94,
     "metadata": {},
     "output_type": "execute_result"
    }
   ],
   "source": [
    "df_Lung_Male.head()"
   ]
  },
  {
   "cell_type": "code",
   "execution_count": 95,
   "metadata": {},
   "outputs": [
    {
     "data": {
      "text/plain": [
       "<lifelines.KaplanMeierFitter:\"Male\", fitted with 718 total observations, 95 right-censored observations>"
      ]
     },
     "execution_count": 95,
     "metadata": {},
     "output_type": "execute_result"
    }
   ],
   "source": [
    "kmf_Male_Lung = KaplanMeierFitter()\n",
    "kmf_Male_Lung.fit(df_Lung_Male['Lung_Duration'], df_Lung_Male['Censored'], label = 'Male')"
   ]
  },
  {
   "cell_type": "code",
   "execution_count": 97,
   "metadata": {},
   "outputs": [
    {
     "data": {
      "text/plain": [
       "Text(0, 0.5, 'Survival')"
      ]
     },
     "execution_count": 97,
     "metadata": {},
     "output_type": "execute_result"
    },
    {
     "data": {
      "image/png": "[encoded data removed]",
      "text/plain": [
       "<Figure size 432x288 with 1 Axes>"
      ]
     },
     "metadata": {
      "needs_background": "light"
     },
     "output_type": "display_data"
    }
   ],
   "source": [
    "kmf_Male_Lung.plot()\n",
    "\n",
    "plt.xlabel(\"Days Passed\")\n",
    "plt.ylabel('Survival')"
   ]
  },
  {
   "cell_type": "code",
   "execution_count": 98,
   "metadata": {},
   "outputs": [
    {
     "data": {
      "text/plain": [
       "0.930039896782673"
      ]
     },
     "execution_count": 98,
     "metadata": {},
     "output_type": "execute_result"
    }
   ],
   "source": [
    "kmf_Male_Lung.predict(300)"
   ]
  },
  {
   "cell_type": "markdown",
   "metadata": {},
   "source": [
    "### Survival Rate for males with lung cancer after 300 days since diagnosis is ~0.93 or 93%"
   ]
  },
  {
   "cell_type": "code",
   "execution_count": null,
   "metadata": {},
   "outputs": [],
   "source": []
  },
  {
   "cell_type": "markdown",
   "metadata": {},
   "source": [
    "# 7.\tWhat is the survival rate for females with melanoma cancer after 1200 days since diagnosis?"
   ]
  },
  {
   "cell_type": "code",
   "execution_count": 99,
   "metadata": {},
   "outputs": [],
   "source": [
    "df_Melanoma_Female = df_Melanoma[df_Melanoma['sex'] == 'Female']"
   ]
  },
  {
   "cell_type": "code",
   "execution_count": 100,
   "metadata": {},
   "outputs": [
    {
     "data": {
      "text/html": [
       "<div>\n",
       "<style scoped>\n",
       "    .dataframe tbody tr th:only-of-type {\n",
       "        vertical-align: middle;\n",
       "    }\n",
       "\n",
       "    .dataframe tbody tr th {\n",
       "        vertical-align: top;\n",
       "    }\n",
       "\n",
       "    .dataframe thead th {\n",
       "        text-align: right;\n",
       "    }\n",
       "</style>\n",
       "<table border=\"1\" class=\"dataframe\">\n",
       "  <thead>\n",
       "    <tr style=\"text-align: right;\">\n",
       "      <th></th>\n",
       "      <th>BIRTH_DATE_off</th>\n",
       "      <th>DEATH_DATE_off</th>\n",
       "      <th>sex</th>\n",
       "      <th>MELANOMA</th>\n",
       "      <th>MELANOMA_DT</th>\n",
       "      <th>DATE_CUTOFF</th>\n",
       "      <th>Censored</th>\n",
       "      <th>Race</th>\n",
       "      <th>age</th>\n",
       "      <th>Age_Range</th>\n",
       "      <th>Melanoma_Duration</th>\n",
       "    </tr>\n",
       "  </thead>\n",
       "  <tbody>\n",
       "    <tr>\n",
       "      <th>196</th>\n",
       "      <td>1924-04-08</td>\n",
       "      <td>2016-08-25</td>\n",
       "      <td>Female</td>\n",
       "      <td>1</td>\n",
       "      <td>2014-05-31</td>\n",
       "      <td>2016-08-25</td>\n",
       "      <td>1</td>\n",
       "      <td>White</td>\n",
       "      <td>92</td>\n",
       "      <td>91-100</td>\n",
       "      <td>817</td>\n",
       "    </tr>\n",
       "    <tr>\n",
       "      <th>341</th>\n",
       "      <td>1957-10-04</td>\n",
       "      <td>2016-08-25</td>\n",
       "      <td>Female</td>\n",
       "      <td>1</td>\n",
       "      <td>2013-05-19</td>\n",
       "      <td>2016-08-25</td>\n",
       "      <td>1</td>\n",
       "      <td>White</td>\n",
       "      <td>59</td>\n",
       "      <td>51-60</td>\n",
       "      <td>1194</td>\n",
       "    </tr>\n",
       "    <tr>\n",
       "      <th>422</th>\n",
       "      <td>1961-08-24</td>\n",
       "      <td>2016-08-25</td>\n",
       "      <td>Female</td>\n",
       "      <td>1</td>\n",
       "      <td>2012-01-09</td>\n",
       "      <td>2016-08-25</td>\n",
       "      <td>1</td>\n",
       "      <td>White</td>\n",
       "      <td>55</td>\n",
       "      <td>51-60</td>\n",
       "      <td>1690</td>\n",
       "    </tr>\n",
       "    <tr>\n",
       "      <th>638</th>\n",
       "      <td>1952-06-08</td>\n",
       "      <td>2016-08-25</td>\n",
       "      <td>Female</td>\n",
       "      <td>1</td>\n",
       "      <td>2015-02-08</td>\n",
       "      <td>2016-08-25</td>\n",
       "      <td>1</td>\n",
       "      <td>White</td>\n",
       "      <td>64</td>\n",
       "      <td>61-70</td>\n",
       "      <td>564</td>\n",
       "    </tr>\n",
       "    <tr>\n",
       "      <th>708</th>\n",
       "      <td>1961-04-14</td>\n",
       "      <td>2016-08-25</td>\n",
       "      <td>Female</td>\n",
       "      <td>1</td>\n",
       "      <td>2012-07-26</td>\n",
       "      <td>2016-08-25</td>\n",
       "      <td>1</td>\n",
       "      <td>White</td>\n",
       "      <td>55</td>\n",
       "      <td>51-60</td>\n",
       "      <td>1491</td>\n",
       "    </tr>\n",
       "  </tbody>\n",
       "</table>\n",
       "</div>"
      ],
      "text/plain": [
       "    BIRTH_DATE_off DEATH_DATE_off     sex  MELANOMA MELANOMA_DT DATE_CUTOFF  \\\n",
       "196     1924-04-08     2016-08-25  Female         1  2014-05-31  2016-08-25   \n",
       "341     1957-10-04     2016-08-25  Female         1  2013-05-19  2016-08-25   \n",
       "422     1961-08-24     2016-08-25  Female         1  2012-01-09  2016-08-25   \n",
       "638     1952-06-08     2016-08-25  Female         1  2015-02-08  2016-08-25   \n",
       "708     1961-04-14     2016-08-25  Female         1  2012-07-26  2016-08-25   \n",
       "\n",
       "     Censored   Race  age Age_Range  Melanoma_Duration  \n",
       "196         1  White   92    91-100                817  \n",
       "341         1  White   59     51-60               1194  \n",
       "422         1  White   55     51-60               1690  \n",
       "638         1  White   64     61-70                564  \n",
       "708         1  White   55     51-60               1491  "
      ]
     },
     "execution_count": 100,
     "metadata": {},
     "output_type": "execute_result"
    }
   ],
   "source": [
    "df_Melanoma_Female.head()"
   ]
  },
  {
   "cell_type": "code",
   "execution_count": 101,
   "metadata": {},
   "outputs": [
    {
     "data": {
      "text/plain": [
       "<lifelines.KaplanMeierFitter:\"Female\", fitted with 160 total observations, 8 right-censored observations>"
      ]
     },
     "execution_count": 101,
     "metadata": {},
     "output_type": "execute_result"
    }
   ],
   "source": [
    "kmf_Female_Melanoma = KaplanMeierFitter()\n",
    "kmf_Female_Melanoma.fit(df_Melanoma_Female['Melanoma_Duration'], df_Melanoma_Female['Censored'], label = 'Female')"
   ]
  },
  {
   "cell_type": "code",
   "execution_count": 103,
   "metadata": {},
   "outputs": [
    {
     "data": {
      "text/plain": [
       "Text(0, 0.5, 'Survival')"
      ]
     },
     "execution_count": 103,
     "metadata": {},
     "output_type": "execute_result"
    },
    {
     "data": {
      "image/png": "[encoded data removed]",
      "text/plain": [
       "<Figure size 432x288 with 1 Axes>"
      ]
     },
     "metadata": {
      "needs_background": "light"
     },
     "output_type": "display_data"
    }
   ],
   "source": [
    "kmf_Female_Melanoma.plot()\n",
    "\n",
    "plt.xlabel(\"Days Passed\")\n",
    "plt.ylabel('Survival')"
   ]
  },
  {
   "cell_type": "code",
   "execution_count": 104,
   "metadata": {},
   "outputs": [
    {
     "data": {
      "text/plain": [
       "0.4041815360339413"
      ]
     },
     "execution_count": 104,
     "metadata": {},
     "output_type": "execute_result"
    }
   ],
   "source": [
    "kmf_Female_Melanoma.predict(1200)"
   ]
  },
  {
   "cell_type": "markdown",
   "metadata": {},
   "source": [
    "Survival Rate for females with melanoma cancer after 1200 days since diagnosis is ~0.40 or 40%"
   ]
  },
  {
   "cell_type": "markdown",
   "metadata": {},
   "source": [
    "# 8. what is the survival rate for males with thyroid cancer after 1500 days since diagnosis?"
   ]
  },
  {
   "cell_type": "code",
   "execution_count": 105,
   "metadata": {},
   "outputs": [],
   "source": [
    "df_Thyroid_Male = df_Thyroid[df_Thyroid['sex'] == 'Male']"
   ]
  },
  {
   "cell_type": "code",
   "execution_count": 106,
   "metadata": {},
   "outputs": [
    {
     "data": {
      "text/html": [
       "<div>\n",
       "<style scoped>\n",
       "    .dataframe tbody tr th:only-of-type {\n",
       "        vertical-align: middle;\n",
       "    }\n",
       "\n",
       "    .dataframe tbody tr th {\n",
       "        vertical-align: top;\n",
       "    }\n",
       "\n",
       "    .dataframe thead th {\n",
       "        text-align: right;\n",
       "    }\n",
       "</style>\n",
       "<table border=\"1\" class=\"dataframe\">\n",
       "  <thead>\n",
       "    <tr style=\"text-align: right;\">\n",
       "      <th></th>\n",
       "      <th>BIRTH_DATE_off</th>\n",
       "      <th>DEATH_DATE_off</th>\n",
       "      <th>sex</th>\n",
       "      <th>THYROID</th>\n",
       "      <th>THYROID_DT</th>\n",
       "      <th>DATE_CUTOFF</th>\n",
       "      <th>Censored</th>\n",
       "      <th>Race</th>\n",
       "      <th>age</th>\n",
       "      <th>Age_Range</th>\n",
       "      <th>Thyroid_Duration</th>\n",
       "    </tr>\n",
       "  </thead>\n",
       "  <tbody>\n",
       "    <tr>\n",
       "      <th>188</th>\n",
       "      <td>1928-10-10</td>\n",
       "      <td>2016-08-25</td>\n",
       "      <td>Male</td>\n",
       "      <td>1</td>\n",
       "      <td>2015-01-04</td>\n",
       "      <td>2016-08-25</td>\n",
       "      <td>1</td>\n",
       "      <td>Black/African-American</td>\n",
       "      <td>88</td>\n",
       "      <td>81-90</td>\n",
       "      <td>599</td>\n",
       "    </tr>\n",
       "    <tr>\n",
       "      <th>350</th>\n",
       "      <td>1940-07-09</td>\n",
       "      <td>2016-08-25</td>\n",
       "      <td>Male</td>\n",
       "      <td>1</td>\n",
       "      <td>2015-02-02</td>\n",
       "      <td>2016-08-25</td>\n",
       "      <td>1</td>\n",
       "      <td>White</td>\n",
       "      <td>76</td>\n",
       "      <td>71-80</td>\n",
       "      <td>570</td>\n",
       "    </tr>\n",
       "    <tr>\n",
       "      <th>370</th>\n",
       "      <td>1977-08-11</td>\n",
       "      <td>2016-08-25</td>\n",
       "      <td>Male</td>\n",
       "      <td>1</td>\n",
       "      <td>2015-08-26</td>\n",
       "      <td>2016-08-25</td>\n",
       "      <td>1</td>\n",
       "      <td>White</td>\n",
       "      <td>39</td>\n",
       "      <td>31-40</td>\n",
       "      <td>365</td>\n",
       "    </tr>\n",
       "    <tr>\n",
       "      <th>406</th>\n",
       "      <td>1959-03-04</td>\n",
       "      <td>2016-08-25</td>\n",
       "      <td>Male</td>\n",
       "      <td>1</td>\n",
       "      <td>2014-12-24</td>\n",
       "      <td>2016-08-25</td>\n",
       "      <td>1</td>\n",
       "      <td>Black/African-American</td>\n",
       "      <td>58</td>\n",
       "      <td>51-60</td>\n",
       "      <td>610</td>\n",
       "    </tr>\n",
       "    <tr>\n",
       "      <th>411</th>\n",
       "      <td>1953-07-20</td>\n",
       "      <td>2016-08-25</td>\n",
       "      <td>Male</td>\n",
       "      <td>1</td>\n",
       "      <td>1995-03-15</td>\n",
       "      <td>2016-08-25</td>\n",
       "      <td>1</td>\n",
       "      <td>Black/African-American</td>\n",
       "      <td>63</td>\n",
       "      <td>61-70</td>\n",
       "      <td>7834</td>\n",
       "    </tr>\n",
       "  </tbody>\n",
       "</table>\n",
       "</div>"
      ],
      "text/plain": [
       "    BIRTH_DATE_off DEATH_DATE_off   sex  THYROID THYROID_DT DATE_CUTOFF  \\\n",
       "188     1928-10-10     2016-08-25  Male        1 2015-01-04  2016-08-25   \n",
       "350     1940-07-09     2016-08-25  Male        1 2015-02-02  2016-08-25   \n",
       "370     1977-08-11     2016-08-25  Male        1 2015-08-26  2016-08-25   \n",
       "406     1959-03-04     2016-08-25  Male        1 2014-12-24  2016-08-25   \n",
       "411     1953-07-20     2016-08-25  Male        1 1995-03-15  2016-08-25   \n",
       "\n",
       "     Censored                    Race  age Age_Range  Thyroid_Duration  \n",
       "188         1  Black/African-American   88     81-90               599  \n",
       "350         1                   White   76     71-80               570  \n",
       "370         1                   White   39     31-40               365  \n",
       "406         1  Black/African-American   58     51-60               610  \n",
       "411         1  Black/African-American   63     61-70              7834  "
      ]
     },
     "execution_count": 106,
     "metadata": {},
     "output_type": "execute_result"
    }
   ],
   "source": [
    "df_Thyroid_Male.head()"
   ]
  },
  {
   "cell_type": "code",
   "execution_count": 107,
   "metadata": {},
   "outputs": [
    {
     "data": {
      "text/plain": [
       "<lifelines.KaplanMeierFitter:\"Male\", fitted with 205 total observations, 5 right-censored observations>"
      ]
     },
     "execution_count": 107,
     "metadata": {},
     "output_type": "execute_result"
    }
   ],
   "source": [
    "kmf_Male_Thyroid = KaplanMeierFitter()\n",
    "kmf_Male_Thyroid.fit(df_Thyroid_Male['Thyroid_Duration'], df_Thyroid_Male['Censored'], label = 'Male')"
   ]
  },
  {
   "cell_type": "code",
   "execution_count": 109,
   "metadata": {},
   "outputs": [
    {
     "data": {
      "text/plain": [
       "Text(0, 0.5, 'Survival')"
      ]
     },
     "execution_count": 109,
     "metadata": {},
     "output_type": "execute_result"
    },
    {
     "data": {
      "image/png": "[encoded data removed]",
      "text/plain": [
       "<Figure size 432x288 with 1 Axes>"
      ]
     },
     "metadata": {
      "needs_background": "light"
     },
     "output_type": "display_data"
    }
   ],
   "source": [
    "kmf_Male_Thyroid.plot()\n",
    "\n",
    "plt.xlabel(\"Days Passed\")\n",
    "plt.ylabel('Survival')"
   ]
  },
  {
   "cell_type": "code",
   "execution_count": 110,
   "metadata": {},
   "outputs": [
    {
     "data": {
      "text/plain": [
       "0.26087975718986306"
      ]
     },
     "execution_count": 110,
     "metadata": {},
     "output_type": "execute_result"
    }
   ],
   "source": [
    "kmf_Male_Thyroid.predict(1500)"
   ]
  },
  {
   "cell_type": "markdown",
   "metadata": {},
   "source": [
    "Survival Rate for males with thyroid cancer after 1500 days since diagnosis is 0.26 or 26%"
   ]
  },
  {
   "cell_type": "markdown",
   "metadata": {},
   "source": [
    "# 9.\tWhat is the survival rate for males with pancreatic cancer after 2200 days since diagnosis?"
   ]
  },
  {
   "cell_type": "code",
   "execution_count": 111,
   "metadata": {},
   "outputs": [],
   "source": [
    "df_Pancreatic_Male = df_Pancreas[df_Pancreas['sex'] == 'Male']"
   ]
  },
  {
   "cell_type": "code",
   "execution_count": 112,
   "metadata": {},
   "outputs": [
    {
     "data": {
      "text/html": [
       "<div>\n",
       "<style scoped>\n",
       "    .dataframe tbody tr th:only-of-type {\n",
       "        vertical-align: middle;\n",
       "    }\n",
       "\n",
       "    .dataframe tbody tr th {\n",
       "        vertical-align: top;\n",
       "    }\n",
       "\n",
       "    .dataframe thead th {\n",
       "        text-align: right;\n",
       "    }\n",
       "</style>\n",
       "<table border=\"1\" class=\"dataframe\">\n",
       "  <thead>\n",
       "    <tr style=\"text-align: right;\">\n",
       "      <th></th>\n",
       "      <th>BIRTH_DATE_off</th>\n",
       "      <th>DEATH_DATE_off</th>\n",
       "      <th>sex</th>\n",
       "      <th>PANCREAS</th>\n",
       "      <th>PANCREAS_DT</th>\n",
       "      <th>DATE_CUTOFF</th>\n",
       "      <th>Censored</th>\n",
       "      <th>Race</th>\n",
       "      <th>age</th>\n",
       "      <th>Age_Range</th>\n",
       "      <th>Pancreas_Duration</th>\n",
       "    </tr>\n",
       "  </thead>\n",
       "  <tbody>\n",
       "    <tr>\n",
       "      <th>57</th>\n",
       "      <td>1938-06-24</td>\n",
       "      <td>2016-08-25</td>\n",
       "      <td>Male</td>\n",
       "      <td>1</td>\n",
       "      <td>2013-11-19</td>\n",
       "      <td>2016-08-25</td>\n",
       "      <td>1</td>\n",
       "      <td>White</td>\n",
       "      <td>78</td>\n",
       "      <td>71-80</td>\n",
       "      <td>1010</td>\n",
       "    </tr>\n",
       "    <tr>\n",
       "      <th>92</th>\n",
       "      <td>1952-08-30</td>\n",
       "      <td>2016-11-21</td>\n",
       "      <td>Male</td>\n",
       "      <td>1</td>\n",
       "      <td>2014-10-27</td>\n",
       "      <td>2016-08-25</td>\n",
       "      <td>1</td>\n",
       "      <td>Black/African-American</td>\n",
       "      <td>64</td>\n",
       "      <td>61-70</td>\n",
       "      <td>756</td>\n",
       "    </tr>\n",
       "    <tr>\n",
       "      <th>118</th>\n",
       "      <td>1956-07-15</td>\n",
       "      <td>2016-04-22</td>\n",
       "      <td>Male</td>\n",
       "      <td>1</td>\n",
       "      <td>2016-03-13</td>\n",
       "      <td>2016-08-25</td>\n",
       "      <td>0</td>\n",
       "      <td>Black/African-American</td>\n",
       "      <td>60</td>\n",
       "      <td>51-60</td>\n",
       "      <td>40</td>\n",
       "    </tr>\n",
       "    <tr>\n",
       "      <th>138</th>\n",
       "      <td>1958-03-09</td>\n",
       "      <td>2016-08-25</td>\n",
       "      <td>Male</td>\n",
       "      <td>1</td>\n",
       "      <td>2014-09-16</td>\n",
       "      <td>2016-08-25</td>\n",
       "      <td>1</td>\n",
       "      <td>Black/African-American</td>\n",
       "      <td>59</td>\n",
       "      <td>51-60</td>\n",
       "      <td>709</td>\n",
       "    </tr>\n",
       "    <tr>\n",
       "      <th>223</th>\n",
       "      <td>1930-08-11</td>\n",
       "      <td>2016-08-25</td>\n",
       "      <td>Male</td>\n",
       "      <td>1</td>\n",
       "      <td>2012-12-11</td>\n",
       "      <td>2016-08-25</td>\n",
       "      <td>1</td>\n",
       "      <td>Black/African-American</td>\n",
       "      <td>86</td>\n",
       "      <td>81-90</td>\n",
       "      <td>1353</td>\n",
       "    </tr>\n",
       "  </tbody>\n",
       "</table>\n",
       "</div>"
      ],
      "text/plain": [
       "    BIRTH_DATE_off DEATH_DATE_off   sex  PANCREAS PANCREAS_DT DATE_CUTOFF  \\\n",
       "57      1938-06-24     2016-08-25  Male         1  2013-11-19  2016-08-25   \n",
       "92      1952-08-30     2016-11-21  Male         1  2014-10-27  2016-08-25   \n",
       "118     1956-07-15     2016-04-22  Male         1  2016-03-13  2016-08-25   \n",
       "138     1958-03-09     2016-08-25  Male         1  2014-09-16  2016-08-25   \n",
       "223     1930-08-11     2016-08-25  Male         1  2012-12-11  2016-08-25   \n",
       "\n",
       "     Censored                    Race  age Age_Range  Pancreas_Duration  \n",
       "57          1                   White   78     71-80               1010  \n",
       "92          1  Black/African-American   64     61-70                756  \n",
       "118         0  Black/African-American   60     51-60                 40  \n",
       "138         1  Black/African-American   59     51-60                709  \n",
       "223         1  Black/African-American   86     81-90               1353  "
      ]
     },
     "execution_count": 112,
     "metadata": {},
     "output_type": "execute_result"
    }
   ],
   "source": [
    "df_Pancreatic_Male.head()"
   ]
  },
  {
   "cell_type": "code",
   "execution_count": 113,
   "metadata": {},
   "outputs": [
    {
     "data": {
      "text/plain": [
       "<lifelines.KaplanMeierFitter:\"Male\", fitted with 340 total observations, 14 right-censored observations>"
      ]
     },
     "execution_count": 113,
     "metadata": {},
     "output_type": "execute_result"
    }
   ],
   "source": [
    "kmf_Male_Pancreatic = KaplanMeierFitter()\n",
    "kmf_Male_Pancreatic.fit(df_Pancreatic_Male['Pancreas_Duration'], df_Pancreatic_Male['Censored'], label = 'Male')"
   ]
  },
  {
   "cell_type": "code",
   "execution_count": 115,
   "metadata": {},
   "outputs": [
    {
     "data": {
      "text/plain": [
       "Text(0, 0.5, 'Survival')"
      ]
     },
     "execution_count": 115,
     "metadata": {},
     "output_type": "execute_result"
    },
    {
     "data": {
      "image/png": "[encoded data removed]",
      "text/plain": [
       "<Figure size 432x288 with 1 Axes>"
      ]
     },
     "metadata": {
      "needs_background": "light"
     },
     "output_type": "display_data"
    }
   ],
   "source": [
    "kmf_Male_Pancreatic.plot()\n",
    "\n",
    "plt.xlabel(\"Days Passed\")\n",
    "plt.ylabel('Survival')"
   ]
  },
  {
   "cell_type": "code",
   "execution_count": 116,
   "metadata": {},
   "outputs": [
    {
     "data": {
      "text/plain": [
       "0.018522666046588476"
      ]
     },
     "execution_count": 116,
     "metadata": {},
     "output_type": "execute_result"
    }
   ],
   "source": [
    "kmf_Male_Pancreatic.predict(2200)"
   ]
  },
  {
   "cell_type": "markdown",
   "metadata": {},
   "source": [
    "Survival Rate for males with pancreatic cancer after 2200 days since diagnosis is ~0.01 or 1%"
   ]
  },
  {
   "cell_type": "markdown",
   "metadata": {},
   "source": [
    "# 10. What is the survival rate for African-Americans with colorectal cancer after 2000 days since diagnosis?"
   ]
  },
  {
   "cell_type": "code",
   "execution_count": 117,
   "metadata": {},
   "outputs": [],
   "source": [
    "df_Colorectal_African_American = df_Colorectal[df_Colorectal['Race'] == 'Black/African-American']"
   ]
  },
  {
   "cell_type": "code",
   "execution_count": 118,
   "metadata": {},
   "outputs": [
    {
     "data": {
      "text/html": [
       "<div>\n",
       "<style scoped>\n",
       "    .dataframe tbody tr th:only-of-type {\n",
       "        vertical-align: middle;\n",
       "    }\n",
       "\n",
       "    .dataframe tbody tr th {\n",
       "        vertical-align: top;\n",
       "    }\n",
       "\n",
       "    .dataframe thead th {\n",
       "        text-align: right;\n",
       "    }\n",
       "</style>\n",
       "<table border=\"1\" class=\"dataframe\">\n",
       "  <thead>\n",
       "    <tr style=\"text-align: right;\">\n",
       "      <th></th>\n",
       "      <th>BIRTH_DATE_off</th>\n",
       "      <th>DEATH_DATE_off</th>\n",
       "      <th>sex</th>\n",
       "      <th>COLORECTAL</th>\n",
       "      <th>COLORECTAL_DT</th>\n",
       "      <th>DATE_CUTOFF</th>\n",
       "      <th>Censored</th>\n",
       "      <th>Race</th>\n",
       "      <th>age</th>\n",
       "      <th>Age_Range</th>\n",
       "      <th>Colorectal_Duration</th>\n",
       "    </tr>\n",
       "  </thead>\n",
       "  <tbody>\n",
       "    <tr>\n",
       "      <th>13</th>\n",
       "      <td>1971-08-11</td>\n",
       "      <td>2016-08-25</td>\n",
       "      <td>Female</td>\n",
       "      <td>1</td>\n",
       "      <td>2014-01-01</td>\n",
       "      <td>2016-08-25</td>\n",
       "      <td>1</td>\n",
       "      <td>Black/African-American</td>\n",
       "      <td>45</td>\n",
       "      <td>41-50</td>\n",
       "      <td>967</td>\n",
       "    </tr>\n",
       "    <tr>\n",
       "      <th>14</th>\n",
       "      <td>1948-03-22</td>\n",
       "      <td>2016-01-07</td>\n",
       "      <td>Female</td>\n",
       "      <td>1</td>\n",
       "      <td>2014-09-30</td>\n",
       "      <td>2016-08-25</td>\n",
       "      <td>0</td>\n",
       "      <td>Black/African-American</td>\n",
       "      <td>68</td>\n",
       "      <td>61-70</td>\n",
       "      <td>464</td>\n",
       "    </tr>\n",
       "    <tr>\n",
       "      <th>16</th>\n",
       "      <td>1946-01-09</td>\n",
       "      <td>2016-08-25</td>\n",
       "      <td>Female</td>\n",
       "      <td>1</td>\n",
       "      <td>2013-09-14</td>\n",
       "      <td>2016-08-25</td>\n",
       "      <td>1</td>\n",
       "      <td>Black/African-American</td>\n",
       "      <td>71</td>\n",
       "      <td>71-80</td>\n",
       "      <td>1076</td>\n",
       "    </tr>\n",
       "    <tr>\n",
       "      <th>41</th>\n",
       "      <td>1928-03-25</td>\n",
       "      <td>2016-08-25</td>\n",
       "      <td>Female</td>\n",
       "      <td>1</td>\n",
       "      <td>2013-12-11</td>\n",
       "      <td>2016-08-25</td>\n",
       "      <td>1</td>\n",
       "      <td>Black/African-American</td>\n",
       "      <td>88</td>\n",
       "      <td>81-90</td>\n",
       "      <td>988</td>\n",
       "    </tr>\n",
       "    <tr>\n",
       "      <th>45</th>\n",
       "      <td>1947-06-12</td>\n",
       "      <td>2013-03-24</td>\n",
       "      <td>Male</td>\n",
       "      <td>1</td>\n",
       "      <td>2009-07-30</td>\n",
       "      <td>2016-08-25</td>\n",
       "      <td>0</td>\n",
       "      <td>Black/African-American</td>\n",
       "      <td>66</td>\n",
       "      <td>61-70</td>\n",
       "      <td>1333</td>\n",
       "    </tr>\n",
       "  </tbody>\n",
       "</table>\n",
       "</div>"
      ],
      "text/plain": [
       "   BIRTH_DATE_off DEATH_DATE_off     sex  COLORECTAL COLORECTAL_DT  \\\n",
       "13     1971-08-11     2016-08-25  Female           1    2014-01-01   \n",
       "14     1948-03-22     2016-01-07  Female           1    2014-09-30   \n",
       "16     1946-01-09     2016-08-25  Female           1    2013-09-14   \n",
       "41     1928-03-25     2016-08-25  Female           1    2013-12-11   \n",
       "45     1947-06-12     2013-03-24    Male           1    2009-07-30   \n",
       "\n",
       "   DATE_CUTOFF  Censored                    Race  age Age_Range  \\\n",
       "13  2016-08-25         1  Black/African-American   45     41-50   \n",
       "14  2016-08-25         0  Black/African-American   68     61-70   \n",
       "16  2016-08-25         1  Black/African-American   71     71-80   \n",
       "41  2016-08-25         1  Black/African-American   88     81-90   \n",
       "45  2016-08-25         0  Black/African-American   66     61-70   \n",
       "\n",
       "    Colorectal_Duration  \n",
       "13                  967  \n",
       "14                  464  \n",
       "16                 1076  \n",
       "41                  988  \n",
       "45                 1333  "
      ]
     },
     "execution_count": 118,
     "metadata": {},
     "output_type": "execute_result"
    }
   ],
   "source": [
    "df_Colorectal_African_American.head()"
   ]
  },
  {
   "cell_type": "code",
   "execution_count": 119,
   "metadata": {},
   "outputs": [
    {
     "data": {
      "text/plain": [
       "<lifelines.KaplanMeierFitter:\"African_American\", fitted with 263 total observations, 30 right-censored observations>"
      ]
     },
     "execution_count": 119,
     "metadata": {},
     "output_type": "execute_result"
    }
   ],
   "source": [
    "kmf_African_American = KaplanMeierFitter()\n",
    "kmf_African_American.fit(df_Colorectal_African_American['Colorectal_Duration'], df_Colorectal_African_American['Censored'], label = 'African_American')"
   ]
  },
  {
   "cell_type": "code",
   "execution_count": 121,
   "metadata": {},
   "outputs": [
    {
     "data": {
      "text/plain": [
       "Text(0, 0.5, 'Survival')"
      ]
     },
     "execution_count": 121,
     "metadata": {},
     "output_type": "execute_result"
    },
    {
     "data": {
      "image/png": "[encoded data removed]",
      "text/plain": [
       "<Figure size 432x288 with 1 Axes>"
      ]
     },
     "metadata": {
      "needs_background": "light"
     },
     "output_type": "display_data"
    }
   ],
   "source": [
    "kmf_African_American.plot()\n",
    "\n",
    "plt.xlabel(\"Days Passed\")\n",
    "plt.ylabel('Survival')"
   ]
  },
  {
   "cell_type": "code",
   "execution_count": 122,
   "metadata": {},
   "outputs": [
    {
     "data": {
      "text/plain": [
       "0.07426928749574375"
      ]
     },
     "execution_count": 122,
     "metadata": {},
     "output_type": "execute_result"
    }
   ],
   "source": [
    "kmf_African_American.predict(2000)"
   ]
  },
  {
   "cell_type": "markdown",
   "metadata": {},
   "source": [
    "Survival Rate for african-americans with colorectal cancer after 2000 days since diagnosis is 0.07 or 7%"
   ]
  },
  {
   "cell_type": "markdown",
   "metadata": {},
   "source": [
    "# 11.\tWhat is the survival rate for Whites with lung cancer after 1000 days since diagnosis?"
   ]
  },
  {
   "cell_type": "code",
   "execution_count": 123,
   "metadata": {},
   "outputs": [],
   "source": [
    "df_Lung_Whites = df_Lung[df_Lung['Race'] == 'White']"
   ]
  },
  {
   "cell_type": "code",
   "execution_count": 124,
   "metadata": {},
   "outputs": [
    {
     "data": {
      "text/html": [
       "<div>\n",
       "<style scoped>\n",
       "    .dataframe tbody tr th:only-of-type {\n",
       "        vertical-align: middle;\n",
       "    }\n",
       "\n",
       "    .dataframe tbody tr th {\n",
       "        vertical-align: top;\n",
       "    }\n",
       "\n",
       "    .dataframe thead th {\n",
       "        text-align: right;\n",
       "    }\n",
       "</style>\n",
       "<table border=\"1\" class=\"dataframe\">\n",
       "  <thead>\n",
       "    <tr style=\"text-align: right;\">\n",
       "      <th></th>\n",
       "      <th>BIRTH_DATE_off</th>\n",
       "      <th>DEATH_DATE_off</th>\n",
       "      <th>sex</th>\n",
       "      <th>LUNG</th>\n",
       "      <th>LUNG_DT</th>\n",
       "      <th>DATE_CUTOFF</th>\n",
       "      <th>Censored</th>\n",
       "      <th>Race</th>\n",
       "      <th>age</th>\n",
       "      <th>Age_Range</th>\n",
       "      <th>Lung_Duration</th>\n",
       "    </tr>\n",
       "  </thead>\n",
       "  <tbody>\n",
       "    <tr>\n",
       "      <th>38</th>\n",
       "      <td>1926-02-28</td>\n",
       "      <td>2016-08-25</td>\n",
       "      <td>Male</td>\n",
       "      <td>1</td>\n",
       "      <td>2015-12-01</td>\n",
       "      <td>2016-08-25</td>\n",
       "      <td>1</td>\n",
       "      <td>White</td>\n",
       "      <td>91</td>\n",
       "      <td>91-100</td>\n",
       "      <td>268</td>\n",
       "    </tr>\n",
       "    <tr>\n",
       "      <th>88</th>\n",
       "      <td>1945-07-12</td>\n",
       "      <td>2016-08-25</td>\n",
       "      <td>Male</td>\n",
       "      <td>1</td>\n",
       "      <td>2013-10-03</td>\n",
       "      <td>2016-08-25</td>\n",
       "      <td>1</td>\n",
       "      <td>White</td>\n",
       "      <td>71</td>\n",
       "      <td>71-80</td>\n",
       "      <td>1057</td>\n",
       "    </tr>\n",
       "    <tr>\n",
       "      <th>94</th>\n",
       "      <td>1947-01-14</td>\n",
       "      <td>2016-08-25</td>\n",
       "      <td>Male</td>\n",
       "      <td>1</td>\n",
       "      <td>2015-08-27</td>\n",
       "      <td>2016-08-25</td>\n",
       "      <td>1</td>\n",
       "      <td>White</td>\n",
       "      <td>70</td>\n",
       "      <td>61-70</td>\n",
       "      <td>364</td>\n",
       "    </tr>\n",
       "    <tr>\n",
       "      <th>158</th>\n",
       "      <td>1956-01-11</td>\n",
       "      <td>2014-12-11</td>\n",
       "      <td>Male</td>\n",
       "      <td>1</td>\n",
       "      <td>2014-10-13</td>\n",
       "      <td>2016-08-25</td>\n",
       "      <td>0</td>\n",
       "      <td>White</td>\n",
       "      <td>59</td>\n",
       "      <td>51-60</td>\n",
       "      <td>59</td>\n",
       "    </tr>\n",
       "    <tr>\n",
       "      <th>218</th>\n",
       "      <td>1931-11-23</td>\n",
       "      <td>2013-11-02</td>\n",
       "      <td>Female</td>\n",
       "      <td>1</td>\n",
       "      <td>2008-05-16</td>\n",
       "      <td>2016-08-25</td>\n",
       "      <td>0</td>\n",
       "      <td>White</td>\n",
       "      <td>82</td>\n",
       "      <td>81-90</td>\n",
       "      <td>1996</td>\n",
       "    </tr>\n",
       "  </tbody>\n",
       "</table>\n",
       "</div>"
      ],
      "text/plain": [
       "    BIRTH_DATE_off DEATH_DATE_off     sex  LUNG    LUNG_DT DATE_CUTOFF  \\\n",
       "38      1926-02-28     2016-08-25    Male     1 2015-12-01  2016-08-25   \n",
       "88      1945-07-12     2016-08-25    Male     1 2013-10-03  2016-08-25   \n",
       "94      1947-01-14     2016-08-25    Male     1 2015-08-27  2016-08-25   \n",
       "158     1956-01-11     2014-12-11    Male     1 2014-10-13  2016-08-25   \n",
       "218     1931-11-23     2013-11-02  Female     1 2008-05-16  2016-08-25   \n",
       "\n",
       "     Censored   Race  age Age_Range  Lung_Duration  \n",
       "38          1  White   91    91-100            268  \n",
       "88          1  White   71     71-80           1057  \n",
       "94          1  White   70     61-70            364  \n",
       "158         0  White   59     51-60             59  \n",
       "218         0  White   82     81-90           1996  "
      ]
     },
     "execution_count": 124,
     "metadata": {},
     "output_type": "execute_result"
    }
   ],
   "source": [
    "df_Lung_Whites.head()"
   ]
  },
  {
   "cell_type": "code",
   "execution_count": 125,
   "metadata": {},
   "outputs": [
    {
     "data": {
      "text/plain": [
       "<lifelines.KaplanMeierFitter:\"White\", fitted with 910 total observations, 82 right-censored observations>"
      ]
     },
     "execution_count": 125,
     "metadata": {},
     "output_type": "execute_result"
    }
   ],
   "source": [
    "kmf_White_Lung = KaplanMeierFitter()\n",
    "kmf_White_Lung.fit(df_Lung_Whites['Lung_Duration'], df_Lung_Whites['Censored'], label = 'White')"
   ]
  },
  {
   "cell_type": "code",
   "execution_count": 126,
   "metadata": {},
   "outputs": [],
   "source": [
    "# kmf_Female.cumulative_density_"
   ]
  },
  {
   "cell_type": "code",
   "execution_count": 127,
   "metadata": {},
   "outputs": [
    {
     "data": {
      "text/plain": [
       "Text(0, 0.5, 'Survival')"
      ]
     },
     "execution_count": 127,
     "metadata": {},
     "output_type": "execute_result"
    },
    {
     "data": {
      "image/png": "[encoded data removed]",
      "text/plain": [
       "<Figure size 432x288 with 1 Axes>"
      ]
     },
     "metadata": {
      "needs_background": "light"
     },
     "output_type": "display_data"
    }
   ],
   "source": [
    "kmf_White_Lung.plot()\n",
    "\n",
    "plt.xlabel(\"Days Passed\")\n",
    "plt.ylabel('Survival')"
   ]
  },
  {
   "cell_type": "code",
   "execution_count": 128,
   "metadata": {},
   "outputs": [
    {
     "data": {
      "text/plain": [
       "0.5353798738532698"
      ]
     },
     "execution_count": 128,
     "metadata": {},
     "output_type": "execute_result"
    }
   ],
   "source": [
    "kmf_White_Lung.predict(1000)"
   ]
  },
  {
   "cell_type": "markdown",
   "metadata": {},
   "source": [
    "Survival Rate for whites with lung cancer after 1000 days since diagnosis is 0.53 or 53%"
   ]
  },
  {
   "cell_type": "markdown",
   "metadata": {},
   "source": [
    "# 12.\tWhat is the survival rate for African-Americans with melanoma cancer after 2 years since diagnosis?"
   ]
  },
  {
   "cell_type": "code",
   "execution_count": 129,
   "metadata": {},
   "outputs": [],
   "source": [
    "df_Melanoma_African_American = df_Melanoma[df_Melanoma['Race'] == 'Black/African-American']"
   ]
  },
  {
   "cell_type": "code",
   "execution_count": 130,
   "metadata": {},
   "outputs": [
    {
     "data": {
      "text/html": [
       "<div>\n",
       "<style scoped>\n",
       "    .dataframe tbody tr th:only-of-type {\n",
       "        vertical-align: middle;\n",
       "    }\n",
       "\n",
       "    .dataframe tbody tr th {\n",
       "        vertical-align: top;\n",
       "    }\n",
       "\n",
       "    .dataframe thead th {\n",
       "        text-align: right;\n",
       "    }\n",
       "</style>\n",
       "<table border=\"1\" class=\"dataframe\">\n",
       "  <thead>\n",
       "    <tr style=\"text-align: right;\">\n",
       "      <th></th>\n",
       "      <th>BIRTH_DATE_off</th>\n",
       "      <th>DEATH_DATE_off</th>\n",
       "      <th>sex</th>\n",
       "      <th>MELANOMA</th>\n",
       "      <th>MELANOMA_DT</th>\n",
       "      <th>DATE_CUTOFF</th>\n",
       "      <th>Censored</th>\n",
       "      <th>Race</th>\n",
       "      <th>age</th>\n",
       "      <th>Age_Range</th>\n",
       "      <th>Melanoma_Duration</th>\n",
       "    </tr>\n",
       "  </thead>\n",
       "  <tbody>\n",
       "    <tr>\n",
       "      <th>1450</th>\n",
       "      <td>1937-11-25</td>\n",
       "      <td>2016-08-25</td>\n",
       "      <td>Male</td>\n",
       "      <td>1</td>\n",
       "      <td>2013-08-03</td>\n",
       "      <td>2016-08-25</td>\n",
       "      <td>1</td>\n",
       "      <td>Black/African-American</td>\n",
       "      <td>79</td>\n",
       "      <td>71-80</td>\n",
       "      <td>1118</td>\n",
       "    </tr>\n",
       "    <tr>\n",
       "      <th>1588</th>\n",
       "      <td>1996-09-16</td>\n",
       "      <td>2016-08-25</td>\n",
       "      <td>Female</td>\n",
       "      <td>1</td>\n",
       "      <td>2016-02-27</td>\n",
       "      <td>2016-08-25</td>\n",
       "      <td>1</td>\n",
       "      <td>Black/African-American</td>\n",
       "      <td>20</td>\n",
       "      <td>11-20</td>\n",
       "      <td>180</td>\n",
       "    </tr>\n",
       "    <tr>\n",
       "      <th>1629</th>\n",
       "      <td>1941-10-12</td>\n",
       "      <td>2016-08-25</td>\n",
       "      <td>Male</td>\n",
       "      <td>1</td>\n",
       "      <td>2015-10-04</td>\n",
       "      <td>2016-08-25</td>\n",
       "      <td>1</td>\n",
       "      <td>Black/African-American</td>\n",
       "      <td>75</td>\n",
       "      <td>71-80</td>\n",
       "      <td>326</td>\n",
       "    </tr>\n",
       "    <tr>\n",
       "      <th>1776</th>\n",
       "      <td>1950-03-13</td>\n",
       "      <td>2016-08-25</td>\n",
       "      <td>Female</td>\n",
       "      <td>1</td>\n",
       "      <td>2013-11-24</td>\n",
       "      <td>2016-08-25</td>\n",
       "      <td>1</td>\n",
       "      <td>Black/African-American</td>\n",
       "      <td>66</td>\n",
       "      <td>61-70</td>\n",
       "      <td>1005</td>\n",
       "    </tr>\n",
       "    <tr>\n",
       "      <th>1878</th>\n",
       "      <td>1985-10-26</td>\n",
       "      <td>2014-09-04</td>\n",
       "      <td>Female</td>\n",
       "      <td>1</td>\n",
       "      <td>2013-04-20</td>\n",
       "      <td>2016-08-25</td>\n",
       "      <td>0</td>\n",
       "      <td>Black/African-American</td>\n",
       "      <td>29</td>\n",
       "      <td>21-30</td>\n",
       "      <td>502</td>\n",
       "    </tr>\n",
       "  </tbody>\n",
       "</table>\n",
       "</div>"
      ],
      "text/plain": [
       "     BIRTH_DATE_off DEATH_DATE_off     sex  MELANOMA MELANOMA_DT DATE_CUTOFF  \\\n",
       "1450     1937-11-25     2016-08-25    Male         1  2013-08-03  2016-08-25   \n",
       "1588     1996-09-16     2016-08-25  Female         1  2016-02-27  2016-08-25   \n",
       "1629     1941-10-12     2016-08-25    Male         1  2015-10-04  2016-08-25   \n",
       "1776     1950-03-13     2016-08-25  Female         1  2013-11-24  2016-08-25   \n",
       "1878     1985-10-26     2014-09-04  Female         1  2013-04-20  2016-08-25   \n",
       "\n",
       "      Censored                    Race  age Age_Range  Melanoma_Duration  \n",
       "1450         1  Black/African-American   79     71-80               1118  \n",
       "1588         1  Black/African-American   20     11-20                180  \n",
       "1629         1  Black/African-American   75     71-80                326  \n",
       "1776         1  Black/African-American   66     61-70               1005  \n",
       "1878         0  Black/African-American   29     21-30                502  "
      ]
     },
     "execution_count": 130,
     "metadata": {},
     "output_type": "execute_result"
    }
   ],
   "source": [
    "df_Melanoma_African_American.head()"
   ]
  },
  {
   "cell_type": "code",
   "execution_count": 131,
   "metadata": {},
   "outputs": [
    {
     "data": {
      "text/plain": [
       "<lifelines.KaplanMeierFitter:\"African_American\", fitted with 14 total observations, 2 right-censored observations>"
      ]
     },
     "execution_count": 131,
     "metadata": {},
     "output_type": "execute_result"
    }
   ],
   "source": [
    "kmf_African_American = KaplanMeierFitter()\n",
    "kmf_African_American.fit(df_Melanoma_African_American['Melanoma_Duration'], df_Melanoma_African_American['Censored'], label = 'African_American')"
   ]
  },
  {
   "cell_type": "code",
   "execution_count": 132,
   "metadata": {},
   "outputs": [],
   "source": [
    "# kmf_Female.cumulative_density_"
   ]
  },
  {
   "cell_type": "code",
   "execution_count": 133,
   "metadata": {},
   "outputs": [
    {
     "data": {
      "text/plain": [
       "Text(0, 0.5, 'Survival')"
      ]
     },
     "execution_count": 133,
     "metadata": {},
     "output_type": "execute_result"
    },
    {
     "data": {
      "image/png": "[encoded data removed]",
      "text/plain": [
       "<Figure size 432x288 with 1 Axes>"
      ]
     },
     "metadata": {
      "needs_background": "light"
     },
     "output_type": "display_data"
    }
   ],
   "source": [
    "kmf_African_American.plot()\n",
    "\n",
    "plt.xlabel(\"Days Passed\")\n",
    "plt.ylabel('Survival')"
   ]
  },
  {
   "cell_type": "code",
   "execution_count": 134,
   "metadata": {},
   "outputs": [
    {
     "data": {
      "text/plain": [
       "0.605769230769231"
      ]
     },
     "execution_count": 134,
     "metadata": {},
     "output_type": "execute_result"
    }
   ],
   "source": [
    "kmf_African_American.predict(730)"
   ]
  },
  {
   "cell_type": "markdown",
   "metadata": {},
   "source": [
    "Survival Rate for african americans with melanoma cancer after 2 years (730) days since diagnosis is near 0.6 or 60%"
   ]
  },
  {
   "cell_type": "markdown",
   "metadata": {},
   "source": [
    "# 13. What is the survival rate for Whites with pancreatic cancer after 3 years since diagnosis?"
   ]
  },
  {
   "cell_type": "code",
   "execution_count": 135,
   "metadata": {},
   "outputs": [],
   "source": [
    "df_Pancreatic_White = df_Pancreas[df_Pancreas['Race'] == 'White']"
   ]
  },
  {
   "cell_type": "code",
   "execution_count": 136,
   "metadata": {},
   "outputs": [
    {
     "data": {
      "text/html": [
       "<div>\n",
       "<style scoped>\n",
       "    .dataframe tbody tr th:only-of-type {\n",
       "        vertical-align: middle;\n",
       "    }\n",
       "\n",
       "    .dataframe tbody tr th {\n",
       "        vertical-align: top;\n",
       "    }\n",
       "\n",
       "    .dataframe thead th {\n",
       "        text-align: right;\n",
       "    }\n",
       "</style>\n",
       "<table border=\"1\" class=\"dataframe\">\n",
       "  <thead>\n",
       "    <tr style=\"text-align: right;\">\n",
       "      <th></th>\n",
       "      <th>BIRTH_DATE_off</th>\n",
       "      <th>DEATH_DATE_off</th>\n",
       "      <th>sex</th>\n",
       "      <th>PANCREAS</th>\n",
       "      <th>PANCREAS_DT</th>\n",
       "      <th>DATE_CUTOFF</th>\n",
       "      <th>Censored</th>\n",
       "      <th>Race</th>\n",
       "      <th>age</th>\n",
       "      <th>Age_Range</th>\n",
       "      <th>Pancreas_Duration</th>\n",
       "    </tr>\n",
       "  </thead>\n",
       "  <tbody>\n",
       "    <tr>\n",
       "      <th>57</th>\n",
       "      <td>1938-06-24</td>\n",
       "      <td>2016-08-25</td>\n",
       "      <td>Male</td>\n",
       "      <td>1</td>\n",
       "      <td>2013-11-19</td>\n",
       "      <td>2016-08-25</td>\n",
       "      <td>1</td>\n",
       "      <td>White</td>\n",
       "      <td>78</td>\n",
       "      <td>71-80</td>\n",
       "      <td>1010</td>\n",
       "    </tr>\n",
       "    <tr>\n",
       "      <th>314</th>\n",
       "      <td>1950-11-06</td>\n",
       "      <td>2016-08-25</td>\n",
       "      <td>Male</td>\n",
       "      <td>1</td>\n",
       "      <td>2011-12-03</td>\n",
       "      <td>2016-08-25</td>\n",
       "      <td>1</td>\n",
       "      <td>White</td>\n",
       "      <td>66</td>\n",
       "      <td>61-70</td>\n",
       "      <td>1727</td>\n",
       "    </tr>\n",
       "    <tr>\n",
       "      <th>414</th>\n",
       "      <td>1956-06-06</td>\n",
       "      <td>2016-08-25</td>\n",
       "      <td>Female</td>\n",
       "      <td>1</td>\n",
       "      <td>2013-04-04</td>\n",
       "      <td>2016-08-25</td>\n",
       "      <td>1</td>\n",
       "      <td>White</td>\n",
       "      <td>60</td>\n",
       "      <td>51-60</td>\n",
       "      <td>1239</td>\n",
       "    </tr>\n",
       "    <tr>\n",
       "      <th>437</th>\n",
       "      <td>1941-12-11</td>\n",
       "      <td>2016-08-25</td>\n",
       "      <td>Female</td>\n",
       "      <td>1</td>\n",
       "      <td>2013-07-09</td>\n",
       "      <td>2016-08-25</td>\n",
       "      <td>1</td>\n",
       "      <td>White</td>\n",
       "      <td>75</td>\n",
       "      <td>71-80</td>\n",
       "      <td>1143</td>\n",
       "    </tr>\n",
       "    <tr>\n",
       "      <th>461</th>\n",
       "      <td>1953-12-22</td>\n",
       "      <td>2016-08-25</td>\n",
       "      <td>Male</td>\n",
       "      <td>1</td>\n",
       "      <td>2015-07-09</td>\n",
       "      <td>2016-08-25</td>\n",
       "      <td>1</td>\n",
       "      <td>White</td>\n",
       "      <td>63</td>\n",
       "      <td>61-70</td>\n",
       "      <td>413</td>\n",
       "    </tr>\n",
       "  </tbody>\n",
       "</table>\n",
       "</div>"
      ],
      "text/plain": [
       "    BIRTH_DATE_off DEATH_DATE_off     sex  PANCREAS PANCREAS_DT DATE_CUTOFF  \\\n",
       "57      1938-06-24     2016-08-25    Male         1  2013-11-19  2016-08-25   \n",
       "314     1950-11-06     2016-08-25    Male         1  2011-12-03  2016-08-25   \n",
       "414     1956-06-06     2016-08-25  Female         1  2013-04-04  2016-08-25   \n",
       "437     1941-12-11     2016-08-25  Female         1  2013-07-09  2016-08-25   \n",
       "461     1953-12-22     2016-08-25    Male         1  2015-07-09  2016-08-25   \n",
       "\n",
       "     Censored   Race  age Age_Range  Pancreas_Duration  \n",
       "57          1  White   78     71-80               1010  \n",
       "314         1  White   66     61-70               1727  \n",
       "414         1  White   60     51-60               1239  \n",
       "437         1  White   75     71-80               1143  \n",
       "461         1  White   63     61-70                413  "
      ]
     },
     "execution_count": 136,
     "metadata": {},
     "output_type": "execute_result"
    }
   ],
   "source": [
    "df_Pancreatic_White.head()"
   ]
  },
  {
   "cell_type": "code",
   "execution_count": 137,
   "metadata": {},
   "outputs": [
    {
     "data": {
      "text/plain": [
       "<lifelines.KaplanMeierFitter:\"White\", fitted with 444 total observations, 13 right-censored observations>"
      ]
     },
     "execution_count": 137,
     "metadata": {},
     "output_type": "execute_result"
    }
   ],
   "source": [
    "kmf_White_Pancreatic = KaplanMeierFitter()\n",
    "kmf_White_Pancreatic.fit(df_Pancreatic_White['Pancreas_Duration'], df_Pancreatic_White['Censored'], label = 'White')"
   ]
  },
  {
   "cell_type": "code",
   "execution_count": 138,
   "metadata": {},
   "outputs": [],
   "source": [
    "# kmf_Female.cumulative_density_"
   ]
  },
  {
   "cell_type": "code",
   "execution_count": 139,
   "metadata": {},
   "outputs": [
    {
     "data": {
      "text/plain": [
       "Text(0, 0.5, 'Survival')"
      ]
     },
     "execution_count": 139,
     "metadata": {},
     "output_type": "execute_result"
    },
    {
     "data": {
      "image/png": "[encoded data removed]",
      "text/plain": [
       "<Figure size 432x288 with 1 Axes>"
      ]
     },
     "metadata": {
      "needs_background": "light"
     },
     "output_type": "display_data"
    }
   ],
   "source": [
    "kmf_White_Pancreatic.plot()\n",
    "\n",
    "plt.xlabel(\"Days Passed\")\n",
    "plt.ylabel('Survival')"
   ]
  },
  {
   "cell_type": "code",
   "execution_count": 140,
   "metadata": {},
   "outputs": [
    {
     "data": {
      "text/plain": [
       "0.4292873443640372"
      ]
     },
     "execution_count": 140,
     "metadata": {},
     "output_type": "execute_result"
    }
   ],
   "source": [
    "kmf_White_Pancreatic.predict(1095)"
   ]
  },
  {
   "cell_type": "markdown",
   "metadata": {},
   "source": [
    "Survival rate for Whites with pancreatic cancer after 3 years (1095 days) since diagnosis is 0.43 or 43%"
   ]
  },
  {
   "cell_type": "markdown",
   "metadata": {},
   "source": [
    "# 14. What is the survival rate for Asians with thyroid cancer after 1500 days since diagnosis?"
   ]
  },
  {
   "cell_type": "code",
   "execution_count": 141,
   "metadata": {},
   "outputs": [],
   "source": [
    "df_Thyroid_Asian = df_Thyroid[df_Thyroid['Race'] == 'Asian/Mideast Indian']"
   ]
  },
  {
   "cell_type": "code",
   "execution_count": 142,
   "metadata": {},
   "outputs": [
    {
     "data": {
      "text/html": [
       "<div>\n",
       "<style scoped>\n",
       "    .dataframe tbody tr th:only-of-type {\n",
       "        vertical-align: middle;\n",
       "    }\n",
       "\n",
       "    .dataframe tbody tr th {\n",
       "        vertical-align: top;\n",
       "    }\n",
       "\n",
       "    .dataframe thead th {\n",
       "        text-align: right;\n",
       "    }\n",
       "</style>\n",
       "<table border=\"1\" class=\"dataframe\">\n",
       "  <thead>\n",
       "    <tr style=\"text-align: right;\">\n",
       "      <th></th>\n",
       "      <th>BIRTH_DATE_off</th>\n",
       "      <th>DEATH_DATE_off</th>\n",
       "      <th>sex</th>\n",
       "      <th>THYROID</th>\n",
       "      <th>THYROID_DT</th>\n",
       "      <th>DATE_CUTOFF</th>\n",
       "      <th>Censored</th>\n",
       "      <th>Race</th>\n",
       "      <th>age</th>\n",
       "      <th>Age_Range</th>\n",
       "      <th>Thyroid_Duration</th>\n",
       "    </tr>\n",
       "  </thead>\n",
       "  <tbody>\n",
       "    <tr>\n",
       "      <th>516</th>\n",
       "      <td>1929-02-28</td>\n",
       "      <td>2016-08-25</td>\n",
       "      <td>Female</td>\n",
       "      <td>1</td>\n",
       "      <td>2015-09-22</td>\n",
       "      <td>2016-08-25</td>\n",
       "      <td>1</td>\n",
       "      <td>Asian/Mideast Indian</td>\n",
       "      <td>88</td>\n",
       "      <td>81-90</td>\n",
       "      <td>338</td>\n",
       "    </tr>\n",
       "    <tr>\n",
       "      <th>1542</th>\n",
       "      <td>1986-02-15</td>\n",
       "      <td>2016-08-25</td>\n",
       "      <td>Female</td>\n",
       "      <td>1</td>\n",
       "      <td>2013-02-09</td>\n",
       "      <td>2016-08-25</td>\n",
       "      <td>1</td>\n",
       "      <td>Asian/Mideast Indian</td>\n",
       "      <td>31</td>\n",
       "      <td>31-40</td>\n",
       "      <td>1293</td>\n",
       "    </tr>\n",
       "    <tr>\n",
       "      <th>1975</th>\n",
       "      <td>1955-08-27</td>\n",
       "      <td>2016-08-25</td>\n",
       "      <td>Female</td>\n",
       "      <td>1</td>\n",
       "      <td>2014-07-09</td>\n",
       "      <td>2016-08-25</td>\n",
       "      <td>1</td>\n",
       "      <td>Asian/Mideast Indian</td>\n",
       "      <td>61</td>\n",
       "      <td>61-70</td>\n",
       "      <td>778</td>\n",
       "    </tr>\n",
       "    <tr>\n",
       "      <th>2191</th>\n",
       "      <td>1967-11-14</td>\n",
       "      <td>2016-08-25</td>\n",
       "      <td>Female</td>\n",
       "      <td>1</td>\n",
       "      <td>2013-12-07</td>\n",
       "      <td>2016-08-25</td>\n",
       "      <td>1</td>\n",
       "      <td>Asian/Mideast Indian</td>\n",
       "      <td>49</td>\n",
       "      <td>41-50</td>\n",
       "      <td>992</td>\n",
       "    </tr>\n",
       "    <tr>\n",
       "      <th>2212</th>\n",
       "      <td>1964-07-27</td>\n",
       "      <td>2016-08-25</td>\n",
       "      <td>Female</td>\n",
       "      <td>1</td>\n",
       "      <td>2011-10-13</td>\n",
       "      <td>2016-08-25</td>\n",
       "      <td>1</td>\n",
       "      <td>Asian/Mideast Indian</td>\n",
       "      <td>52</td>\n",
       "      <td>51-60</td>\n",
       "      <td>1778</td>\n",
       "    </tr>\n",
       "  </tbody>\n",
       "</table>\n",
       "</div>"
      ],
      "text/plain": [
       "     BIRTH_DATE_off DEATH_DATE_off     sex  THYROID THYROID_DT DATE_CUTOFF  \\\n",
       "516      1929-02-28     2016-08-25  Female        1 2015-09-22  2016-08-25   \n",
       "1542     1986-02-15     2016-08-25  Female        1 2013-02-09  2016-08-25   \n",
       "1975     1955-08-27     2016-08-25  Female        1 2014-07-09  2016-08-25   \n",
       "2191     1967-11-14     2016-08-25  Female        1 2013-12-07  2016-08-25   \n",
       "2212     1964-07-27     2016-08-25  Female        1 2011-10-13  2016-08-25   \n",
       "\n",
       "      Censored                  Race  age Age_Range  Thyroid_Duration  \n",
       "516          1  Asian/Mideast Indian   88     81-90               338  \n",
       "1542         1  Asian/Mideast Indian   31     31-40              1293  \n",
       "1975         1  Asian/Mideast Indian   61     61-70               778  \n",
       "2191         1  Asian/Mideast Indian   49     41-50               992  \n",
       "2212         1  Asian/Mideast Indian   52     51-60              1778  "
      ]
     },
     "execution_count": 142,
     "metadata": {},
     "output_type": "execute_result"
    }
   ],
   "source": [
    "df_Thyroid_Asian.head()"
   ]
  },
  {
   "cell_type": "code",
   "execution_count": 143,
   "metadata": {},
   "outputs": [
    {
     "data": {
      "text/plain": [
       "<lifelines.KaplanMeierFitter:\"Asian\", fitted with 41 total observations, 1 right-censored observations>"
      ]
     },
     "execution_count": 143,
     "metadata": {},
     "output_type": "execute_result"
    }
   ],
   "source": [
    "kmf_Asian_Thyroid = KaplanMeierFitter()\n",
    "kmf_Asian_Thyroid.fit(df_Thyroid_Asian['Thyroid_Duration'], df_Thyroid_Asian['Censored'], label = 'Asian')"
   ]
  },
  {
   "cell_type": "code",
   "execution_count": 145,
   "metadata": {},
   "outputs": [
    {
     "data": {
      "text/plain": [
       "Text(0, 0.5, 'Survival')"
      ]
     },
     "execution_count": 145,
     "metadata": {},
     "output_type": "execute_result"
    },
    {
     "data": {
      "image/png": "[encoded data removed]",
      "text/plain": [
       "<Figure size 432x288 with 1 Axes>"
      ]
     },
     "metadata": {
      "needs_background": "light"
     },
     "output_type": "display_data"
    }
   ],
   "source": [
    "kmf_Asian_Thyroid.plot()\n",
    "\n",
    "plt.xlabel(\"Days Passed\")\n",
    "plt.ylabel('Survival')"
   ]
  },
  {
   "cell_type": "code",
   "execution_count": 146,
   "metadata": {},
   "outputs": [
    {
     "data": {
      "text/plain": [
       "0.1313320825515947"
      ]
     },
     "execution_count": 146,
     "metadata": {},
     "output_type": "execute_result"
    }
   ],
   "source": [
    "kmf_Asian_Thyroid.predict(1500)"
   ]
  },
  {
   "cell_type": "markdown",
   "metadata": {},
   "source": [
    "Survival Rate for asian with thyroid cancer after 1500 days since diagnosis is near 0.13 or 13%"
   ]
  },
  {
   "cell_type": "markdown",
   "metadata": {},
   "source": [
    "# 15. which age group has the lowest survival for colorectal cancer at the end of the study?"
   ]
  },
  {
   "cell_type": "code",
   "execution_count": 147,
   "metadata": {},
   "outputs": [
    {
     "data": {
      "text/plain": [
       "61-70     287\n",
       "51-60     224\n",
       "71-80     177\n",
       "81-90     105\n",
       "41-50      90\n",
       "31-40      37\n",
       "91-100     20\n",
       "21-30       5\n",
       "11-20       1\n",
       "100+        0\n",
       "<10         0\n",
       "Name: Age_Range, dtype: int64"
      ]
     },
     "execution_count": 147,
     "metadata": {},
     "output_type": "execute_result"
    }
   ],
   "source": [
    "df_Colorectal['Age_Range'].value_counts()"
   ]
  },
  {
   "cell_type": "code",
   "execution_count": 148,
   "metadata": {},
   "outputs": [
    {
     "data": {
      "image/png": "[encoded data removed]",
      "text/plain": [
       "<Figure size 432x288 with 1 Axes>"
      ]
     },
     "metadata": {
      "needs_background": "light"
     },
     "output_type": "display_data"
    }
   ],
   "source": [
    "kmf = KaplanMeierFitter()\n",
    "\n",
    "T = df_Colorectal['Colorectal_Duration']\n",
    "E = df_Colorectal['Censored']\n",
    "\n",
    "\n",
    "groups =  df_Colorectal['Age_Range']\n",
    "\n",
    "#ix1 = (groups == '<10')\n",
    "ix2 = (groups == '11-20')\n",
    "ix3 = (groups == '21-30')\n",
    "ix4 = (groups == '31-40')\n",
    "ix5 = (groups == '41-50')\n",
    "ix6 = (groups == '51-60')\n",
    "ix7 = (groups == '61-70')\n",
    "ix8 = (groups == '71-80')\n",
    "ix9 = (groups == '81-90')\n",
    "ix10 = (groups == '91-100')\n",
    "#ix11 = (groups == '100+')\n",
    "\n",
    "#kmf.fit(T[ix1], E[ix1], label='<10')    \n",
    "#ax = kmf.plot()\n",
    "\n",
    "\n",
    "kmf.fit(T[ix2], E[ix2], label='11-20')       \n",
    "ax = kmf.plot()\n",
    "\n",
    "kmf.fit(T[ix3], E[ix3], label='21-30')    \n",
    "ax2 = kmf.plot(ax=ax)\n",
    "\n",
    "\n",
    "kmf.fit(T[ix4], E[ix4], label='31-40')         \n",
    "ax3 = kmf.plot(ax=ax)\n",
    "\n",
    "kmf.fit(T[ix5], E[ix5], label='41-50')       \n",
    "ax4 = kmf.plot(ax=ax)\n",
    "\n",
    "kmf.fit(T[ix6], E[ix6], label='51-60')    \n",
    "ax5 = kmf.plot(ax=ax)\n",
    "\n",
    "\n",
    "kmf.fit(T[ix7], E[ix7], label='61-70')         \n",
    "ax6 = kmf.plot(ax=ax)\n",
    "\n",
    "kmf.fit(T[ix8], E[ix8], label='71-80')       \n",
    "ax7 = kmf.plot(ax=ax)\n",
    "\n",
    "kmf.fit(T[ix9], E[ix9], label='81-90')    \n",
    "ax8 = kmf.plot(ax=ax)\n",
    "\n",
    "\n",
    "kmf.fit(T[ix10], E[ix10], label='91-100')         \n",
    "ax9 = kmf.plot(ax=ax)\n",
    "\n",
    "#kmf.fit(T[ix11], E[ix11], label='100+')         \n",
    "#ax10 = kmf.plot(ax=ax)\n",
    "\n",
    "\n",
    "    "
   ]
  },
  {
   "cell_type": "markdown",
   "metadata": {},
   "source": [
    "It seems younger people (age group: 11-20 and 21-30) have the lowest survival rate, though they have few data points. Besides, age group 31-40 has the lowest survival rate."
   ]
  },
  {
   "cell_type": "markdown",
   "metadata": {},
   "source": [
    "# 16.\tWhich age group has the highest survival for lung cancer at the end of the study?"
   ]
  },
  {
   "cell_type": "code",
   "execution_count": 149,
   "metadata": {},
   "outputs": [
    {
     "data": {
      "text/plain": [
       "61-70     469\n",
       "71-80     463\n",
       "51-60     253\n",
       "81-90     202\n",
       "41-50      53\n",
       "91-100     24\n",
       "31-40      10\n",
       "21-30       6\n",
       "100+        1\n",
       "11-20       1\n",
       "<10         1\n",
       "Name: Age_Range, dtype: int64"
      ]
     },
     "execution_count": 149,
     "metadata": {},
     "output_type": "execute_result"
    }
   ],
   "source": [
    "df_Lung['Age_Range'].value_counts()"
   ]
  },
  {
   "cell_type": "code",
   "execution_count": 150,
   "metadata": {},
   "outputs": [
    {
     "data": {
      "image/png": "[encoded data removed]",
      "text/plain": [
       "<Figure size 432x288 with 1 Axes>"
      ]
     },
     "metadata": {
      "needs_background": "light"
     },
     "output_type": "display_data"
    }
   ],
   "source": [
    "kmf = KaplanMeierFitter()\n",
    "\n",
    "T = df_Lung['Lung_Duration']\n",
    "E = df_Lung['Censored']\n",
    "\n",
    "\n",
    "groups =  df_Lung['Age_Range']\n",
    "\n",
    "ix1 = (groups == '<10')\n",
    "ix2 = (groups == '11-20')\n",
    "ix3 = (groups == '21-30')\n",
    "ix4 = (groups == '31-40')\n",
    "ix5 = (groups == '41-50')\n",
    "ix6 = (groups == '51-60')\n",
    "ix7 = (groups == '61-70')\n",
    "ix8 = (groups == '71-80')\n",
    "ix9 = (groups == '81-90')\n",
    "ix10 = (groups == '91-100')\n",
    "ix11 = (groups == '100+')\n",
    "\n",
    "kmf.fit(T[ix1], E[ix1], label='<10')    \n",
    "ax = kmf.plot()\n",
    "\n",
    "\n",
    "kmf.fit(T[ix2], E[ix2], label='11-20')       \n",
    "ax1 = kmf.plot(ax=ax)\n",
    "\n",
    "kmf.fit(T[ix3], E[ix3], label='21-30')    \n",
    "ax2 = kmf.plot(ax=ax)\n",
    "\n",
    "\n",
    "kmf.fit(T[ix4], E[ix4], label='31-40')         \n",
    "ax3 = kmf.plot(ax=ax)\n",
    "\n",
    "kmf.fit(T[ix5], E[ix5], label='41-50')       \n",
    "ax4 = kmf.plot(ax=ax)\n",
    "\n",
    "kmf.fit(T[ix6], E[ix6], label='51-60')    \n",
    "ax5 = kmf.plot(ax=ax)\n",
    "\n",
    "\n",
    "kmf.fit(T[ix7], E[ix7], label='61-70')         \n",
    "ax6 = kmf.plot(ax=ax)\n",
    "\n",
    "kmf.fit(T[ix8], E[ix8], label='71-80')       \n",
    "ax7 = kmf.plot(ax=ax)\n",
    "\n",
    "kmf.fit(T[ix9], E[ix9], label='81-90')    \n",
    "ax8 = kmf.plot(ax=ax)\n",
    "\n",
    "\n",
    "kmf.fit(T[ix10], E[ix10], label='91-100')         \n",
    "ax9 = kmf.plot(ax=ax)\n",
    "\n",
    "kmf.fit(T[ix11], E[ix11], label='100+')         \n",
    "ax10 = kmf.plot(ax=ax)\n",
    "\n",
    "\n",
    "    "
   ]
  },
  {
   "cell_type": "markdown",
   "metadata": {},
   "source": [
    "Age group 41-50 has the highest survival for lung cancer at the end of the study."
   ]
  },
  {
   "cell_type": "markdown",
   "metadata": {},
   "source": [
    "# 17.\tWhat is the survival rate for 61-70 age group with melanoma cancer after 5 years since diagnosis?"
   ]
  },
  {
   "cell_type": "code",
   "execution_count": 151,
   "metadata": {},
   "outputs": [],
   "source": [
    "df_Pancreatic_Age21_Age30 = df_Pancreas[df_Pancreas['Age_Range'] == '21-30']"
   ]
  },
  {
   "cell_type": "code",
   "execution_count": 152,
   "metadata": {},
   "outputs": [
    {
     "data": {
      "text/html": [
       "<div>\n",
       "<style scoped>\n",
       "    .dataframe tbody tr th:only-of-type {\n",
       "        vertical-align: middle;\n",
       "    }\n",
       "\n",
       "    .dataframe tbody tr th {\n",
       "        vertical-align: top;\n",
       "    }\n",
       "\n",
       "    .dataframe thead th {\n",
       "        text-align: right;\n",
       "    }\n",
       "</style>\n",
       "<table border=\"1\" class=\"dataframe\">\n",
       "  <thead>\n",
       "    <tr style=\"text-align: right;\">\n",
       "      <th></th>\n",
       "      <th>BIRTH_DATE_off</th>\n",
       "      <th>DEATH_DATE_off</th>\n",
       "      <th>sex</th>\n",
       "      <th>PANCREAS</th>\n",
       "      <th>PANCREAS_DT</th>\n",
       "      <th>DATE_CUTOFF</th>\n",
       "      <th>Censored</th>\n",
       "      <th>Race</th>\n",
       "      <th>age</th>\n",
       "      <th>Age_Range</th>\n",
       "      <th>Pancreas_Duration</th>\n",
       "    </tr>\n",
       "  </thead>\n",
       "  <tbody>\n",
       "    <tr>\n",
       "      <th>584</th>\n",
       "      <td>1988-01-27</td>\n",
       "      <td>2016-08-25</td>\n",
       "      <td>Female</td>\n",
       "      <td>1</td>\n",
       "      <td>2015-12-29</td>\n",
       "      <td>2016-08-25</td>\n",
       "      <td>1</td>\n",
       "      <td>White</td>\n",
       "      <td>29</td>\n",
       "      <td>21-30</td>\n",
       "      <td>240</td>\n",
       "    </tr>\n",
       "    <tr>\n",
       "      <th>1477</th>\n",
       "      <td>1985-11-04</td>\n",
       "      <td>2015-11-26</td>\n",
       "      <td>Female</td>\n",
       "      <td>1</td>\n",
       "      <td>2015-11-18</td>\n",
       "      <td>2016-08-25</td>\n",
       "      <td>0</td>\n",
       "      <td>Black/African-American</td>\n",
       "      <td>30</td>\n",
       "      <td>21-30</td>\n",
       "      <td>8</td>\n",
       "    </tr>\n",
       "    <tr>\n",
       "      <th>5257</th>\n",
       "      <td>1989-04-20</td>\n",
       "      <td>2016-08-25</td>\n",
       "      <td>Male</td>\n",
       "      <td>1</td>\n",
       "      <td>2016-03-25</td>\n",
       "      <td>2016-08-25</td>\n",
       "      <td>1</td>\n",
       "      <td>White</td>\n",
       "      <td>27</td>\n",
       "      <td>21-30</td>\n",
       "      <td>153</td>\n",
       "    </tr>\n",
       "  </tbody>\n",
       "</table>\n",
       "</div>"
      ],
      "text/plain": [
       "     BIRTH_DATE_off DEATH_DATE_off     sex  PANCREAS PANCREAS_DT DATE_CUTOFF  \\\n",
       "584      1988-01-27     2016-08-25  Female         1  2015-12-29  2016-08-25   \n",
       "1477     1985-11-04     2015-11-26  Female         1  2015-11-18  2016-08-25   \n",
       "5257     1989-04-20     2016-08-25    Male         1  2016-03-25  2016-08-25   \n",
       "\n",
       "      Censored                    Race  age Age_Range  Pancreas_Duration  \n",
       "584          1                   White   29     21-30                240  \n",
       "1477         0  Black/African-American   30     21-30                  8  \n",
       "5257         1                   White   27     21-30                153  "
      ]
     },
     "execution_count": 152,
     "metadata": {},
     "output_type": "execute_result"
    }
   ],
   "source": [
    "df_Pancreatic_Age21_Age30.head()"
   ]
  },
  {
   "cell_type": "code",
   "execution_count": 153,
   "metadata": {},
   "outputs": [
    {
     "data": {
      "text/plain": [
       "<lifelines.KaplanMeierFitter:\"Age21_Age30\", fitted with 3 total observations, 1 right-censored observations>"
      ]
     },
     "execution_count": 153,
     "metadata": {},
     "output_type": "execute_result"
    }
   ],
   "source": [
    "kmf_Age21_Age30_Pancreatic = KaplanMeierFitter()\n",
    "kmf_Age21_Age30_Pancreatic.fit(df_Pancreatic_Age21_Age30['Pancreas_Duration'], df_Pancreatic_Age21_Age30['Censored'], label = 'Age21_Age30')"
   ]
  },
  {
   "cell_type": "code",
   "execution_count": 155,
   "metadata": {},
   "outputs": [
    {
     "data": {
      "text/plain": [
       "Text(0, 0.5, 'Survival')"
      ]
     },
     "execution_count": 155,
     "metadata": {},
     "output_type": "execute_result"
    },
    {
     "data": {
      "image/png": "[encoded data removed]",
      "text/plain": [
       "<Figure size 432x288 with 1 Axes>"
      ]
     },
     "metadata": {
      "needs_background": "light"
     },
     "output_type": "display_data"
    }
   ],
   "source": [
    "kmf_Age21_Age30_Pancreatic.plot()\n",
    "\n",
    "plt.xlabel(\"Days Passed\")\n",
    "plt.ylabel('Survival')"
   ]
  },
  {
   "cell_type": "code",
   "execution_count": 156,
   "metadata": {},
   "outputs": [
    {
     "data": {
      "text/plain": [
       "0.0"
      ]
     },
     "execution_count": 156,
     "metadata": {},
     "output_type": "execute_result"
    }
   ],
   "source": [
    "kmf_Age21_Age30_Pancreatic.predict(365)"
   ]
  },
  {
   "cell_type": "markdown",
   "metadata": {},
   "source": [
    "Survival rate for 21_30 age group with pancreatic cancer after 1 years (365 days) since diagnosis is 0.0 or 0%"
   ]
  },
  {
   "cell_type": "markdown",
   "metadata": {},
   "source": [
    "# 19. What is the survival rate for 51-60 age group with thyroid cancer after 2200 days since diagnosis?"
   ]
  },
  {
   "cell_type": "code",
   "execution_count": 157,
   "metadata": {},
   "outputs": [],
   "source": [
    "df_Thyroid_Age51_Age60 = df_Thyroid[df_Thyroid['Age_Range'] == '51-60']"
   ]
  },
  {
   "cell_type": "code",
   "execution_count": 158,
   "metadata": {},
   "outputs": [
    {
     "data": {
      "text/html": [
       "<div>\n",
       "<style scoped>\n",
       "    .dataframe tbody tr th:only-of-type {\n",
       "        vertical-align: middle;\n",
       "    }\n",
       "\n",
       "    .dataframe tbody tr th {\n",
       "        vertical-align: top;\n",
       "    }\n",
       "\n",
       "    .dataframe thead th {\n",
       "        text-align: right;\n",
       "    }\n",
       "</style>\n",
       "<table border=\"1\" class=\"dataframe\">\n",
       "  <thead>\n",
       "    <tr style=\"text-align: right;\">\n",
       "      <th></th>\n",
       "      <th>BIRTH_DATE_off</th>\n",
       "      <th>DEATH_DATE_off</th>\n",
       "      <th>sex</th>\n",
       "      <th>THYROID</th>\n",
       "      <th>THYROID_DT</th>\n",
       "      <th>DATE_CUTOFF</th>\n",
       "      <th>Censored</th>\n",
       "      <th>Race</th>\n",
       "      <th>age</th>\n",
       "      <th>Age_Range</th>\n",
       "      <th>Thyroid_Duration</th>\n",
       "    </tr>\n",
       "  </thead>\n",
       "  <tbody>\n",
       "    <tr>\n",
       "      <th>156</th>\n",
       "      <td>1960-02-26</td>\n",
       "      <td>2016-08-25</td>\n",
       "      <td>Female</td>\n",
       "      <td>1</td>\n",
       "      <td>2008-02-13</td>\n",
       "      <td>2016-08-25</td>\n",
       "      <td>1</td>\n",
       "      <td>Black/African-American</td>\n",
       "      <td>57</td>\n",
       "      <td>51-60</td>\n",
       "      <td>3116</td>\n",
       "    </tr>\n",
       "    <tr>\n",
       "      <th>246</th>\n",
       "      <td>1965-03-15</td>\n",
       "      <td>2016-08-25</td>\n",
       "      <td>Female</td>\n",
       "      <td>1</td>\n",
       "      <td>2014-03-17</td>\n",
       "      <td>2016-08-25</td>\n",
       "      <td>1</td>\n",
       "      <td>White</td>\n",
       "      <td>51</td>\n",
       "      <td>51-60</td>\n",
       "      <td>892</td>\n",
       "    </tr>\n",
       "    <tr>\n",
       "      <th>406</th>\n",
       "      <td>1959-03-04</td>\n",
       "      <td>2016-08-25</td>\n",
       "      <td>Male</td>\n",
       "      <td>1</td>\n",
       "      <td>2014-12-24</td>\n",
       "      <td>2016-08-25</td>\n",
       "      <td>1</td>\n",
       "      <td>Black/African-American</td>\n",
       "      <td>58</td>\n",
       "      <td>51-60</td>\n",
       "      <td>610</td>\n",
       "    </tr>\n",
       "    <tr>\n",
       "      <th>555</th>\n",
       "      <td>1964-04-25</td>\n",
       "      <td>2016-08-25</td>\n",
       "      <td>Female</td>\n",
       "      <td>1</td>\n",
       "      <td>2014-07-10</td>\n",
       "      <td>2016-08-25</td>\n",
       "      <td>1</td>\n",
       "      <td>White</td>\n",
       "      <td>52</td>\n",
       "      <td>51-60</td>\n",
       "      <td>777</td>\n",
       "    </tr>\n",
       "    <tr>\n",
       "      <th>969</th>\n",
       "      <td>1959-11-03</td>\n",
       "      <td>2016-08-25</td>\n",
       "      <td>Female</td>\n",
       "      <td>1</td>\n",
       "      <td>2012-09-25</td>\n",
       "      <td>2016-08-25</td>\n",
       "      <td>1</td>\n",
       "      <td>Other</td>\n",
       "      <td>57</td>\n",
       "      <td>51-60</td>\n",
       "      <td>1430</td>\n",
       "    </tr>\n",
       "  </tbody>\n",
       "</table>\n",
       "</div>"
      ],
      "text/plain": [
       "    BIRTH_DATE_off DEATH_DATE_off     sex  THYROID THYROID_DT DATE_CUTOFF  \\\n",
       "156     1960-02-26     2016-08-25  Female        1 2008-02-13  2016-08-25   \n",
       "246     1965-03-15     2016-08-25  Female        1 2014-03-17  2016-08-25   \n",
       "406     1959-03-04     2016-08-25    Male        1 2014-12-24  2016-08-25   \n",
       "555     1964-04-25     2016-08-25  Female        1 2014-07-10  2016-08-25   \n",
       "969     1959-11-03     2016-08-25  Female        1 2012-09-25  2016-08-25   \n",
       "\n",
       "     Censored                    Race  age Age_Range  Thyroid_Duration  \n",
       "156         1  Black/African-American   57     51-60              3116  \n",
       "246         1                   White   51     51-60               892  \n",
       "406         1  Black/African-American   58     51-60               610  \n",
       "555         1                   White   52     51-60               777  \n",
       "969         1                   Other   57     51-60              1430  "
      ]
     },
     "execution_count": 158,
     "metadata": {},
     "output_type": "execute_result"
    }
   ],
   "source": [
    "df_Thyroid_Age51_Age60.head()"
   ]
  },
  {
   "cell_type": "code",
   "execution_count": 159,
   "metadata": {},
   "outputs": [
    {
     "data": {
      "text/plain": [
       "<lifelines.KaplanMeierFitter:\"Age51_Age60\", fitted with 168 total observations, 1 right-censored observations>"
      ]
     },
     "execution_count": 159,
     "metadata": {},
     "output_type": "execute_result"
    }
   ],
   "source": [
    "kmf_Age51_Age60_Thyroid = KaplanMeierFitter()\n",
    "kmf_Age51_Age60_Thyroid.fit(df_Thyroid_Age51_Age60['Thyroid_Duration'], df_Thyroid_Age51_Age60['Censored'], label = 'Age51_Age60')"
   ]
  },
  {
   "cell_type": "code",
   "execution_count": 160,
   "metadata": {},
   "outputs": [],
   "source": [
    "# kmf_Female.cumulative_density_"
   ]
  },
  {
   "cell_type": "code",
   "execution_count": 161,
   "metadata": {},
   "outputs": [
    {
     "data": {
      "text/plain": [
       "Text(0, 0.5, 'Survival')"
      ]
     },
     "execution_count": 161,
     "metadata": {},
     "output_type": "execute_result"
    },
    {
     "data": {
      "image/png": "[encoded data removed]",
      "text/plain": [
       "<Figure size 432x288 with 1 Axes>"
      ]
     },
     "metadata": {
      "needs_background": "light"
     },
     "output_type": "display_data"
    }
   ],
   "source": [
    "kmf_Age51_Age60_Thyroid.plot()\n",
    "\n",
    "plt.xlabel(\"Days Passed\")\n",
    "plt.ylabel('Survival')"
   ]
  },
  {
   "cell_type": "code",
   "execution_count": 162,
   "metadata": {},
   "outputs": [
    {
     "data": {
      "text/plain": [
       "0.07254464285714288"
      ]
     },
     "execution_count": 162,
     "metadata": {},
     "output_type": "execute_result"
    }
   ],
   "source": [
    "kmf_Age51_Age60_Thyroid.predict(2200)"
   ]
  },
  {
   "cell_type": "markdown",
   "metadata": {},
   "source": [
    "Survival rate for 51-60 age group with thyroid cancer after 2200 days since diagnosis is 0.07 or 7%"
   ]
  },
  {
   "cell_type": "markdown",
   "metadata": {},
   "source": [
    "# 20.\twhich race has the high survival for all cancers after 2500 days since diagnosis?"
   ]
  },
  {
   "cell_type": "markdown",
   "metadata": {},
   "source": [
    "Comparing the figures of survival rate by race, high survival race for all cancers after 2500 days since diagnosis is:\n",
    "\n",
    "Lung: White, Pancreas: White, Thyroid: White, Coloractal :Asian, and Melanoma: White \n",
    "\n",
    "#### Overall, white has the high survival rate."
   ]
  },
  {
   "cell_type": "code",
   "execution_count": null,
   "metadata": {},
   "outputs": [],
   "source": []
  }
 ],
 "metadata": {
  "kernelspec": {
   "display_name": "Python 3",
   "language": "python",
   "name": "python3"
  },
  "language_info": {
   "codemirror_mode": {
    "name": "ipython",
    "version": 3
   },
   "file_extension": ".py",
   "mimetype": "text/x-python",
   "name": "python",
   "nbconvert_exporter": "python",
   "pygments_lexer": "ipython3",
   "version": "3.7.7"
  }
 },
 "nbformat": 4,
 "nbformat_minor": 4
}
